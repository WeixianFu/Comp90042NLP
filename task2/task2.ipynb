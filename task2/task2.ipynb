{
 "cells": [
  {
   "cell_type": "code",
   "execution_count": 1,
   "id": "4f157cd1",
   "metadata": {
    "ExecuteTime": {
     "end_time": "2022-05-08T03:46:58.393773Z",
     "start_time": "2022-05-08T03:46:57.610074Z"
    }
   },
   "outputs": [],
   "source": [
    "import csv\n",
    "import time\n",
    "import datetime\n",
    "import json\n",
    "import sys\n",
    "import pandas as pd\n",
    "import numpy as np"
   ]
  },
  {
   "cell_type": "markdown",
   "id": "973a225d",
   "metadata": {},
   "source": [
    "# data read"
   ]
  },
  {
   "cell_type": "code",
   "execution_count": 2,
   "id": "6e6532da",
   "metadata": {
    "ExecuteTime": {
     "end_time": "2022-05-08T03:47:00.049486Z",
     "start_time": "2022-05-08T03:47:00.030045Z"
    }
   },
   "outputs": [],
   "source": [
    "def get_ID_list(txtPath):\n",
    "    ID_lists = []\n",
    "    with open(txtPath, 'r') as f:\n",
    "        lines = f.readlines()\n",
    "    for line in lines:\n",
    "        line = line.strip('\\n')\n",
    "        ID_lists.append(line.split(','))\n",
    "    return ID_lists\n",
    "\n",
    "def get_label_list(txtPath):\n",
    "    label_list = []\n",
    "    with open(txtPath, 'r') as f:\n",
    "        lines = f.readlines()\n",
    "    for line in lines:\n",
    "        label_list.append(line.strip('\\n').split(',')[1])\n",
    "    return label_list\n",
    "\n",
    "def get_timestamp(time_str):\n",
    "    return time.mktime(datetime.datetime.strptime(time_str, \"%Y-%m-%dT%H:%M:%S.%fZ\").timetuple())\n",
    "\n",
    "def get_hashtag(tweet_object):\n",
    "    if 'entities' in tweet_object.keys():\n",
    "        if 'hashtags' in tweet_object['entities'].keys():\n",
    "            hashtag_list = []\n",
    "            for elem in tweet_object['entities']['hashtags']:\n",
    "                hashtag_list.append(elem['tag'])\n",
    "            return hashtag_list\n",
    "    return None"
   ]
  },
  {
   "cell_type": "code",
   "execution_count": 3,
   "id": "120471b8",
   "metadata": {
    "ExecuteTime": {
     "end_time": "2022-05-08T03:47:05.386023Z",
     "start_time": "2022-05-08T03:47:02.286007Z"
    }
   },
   "outputs": [],
   "source": [
    "ID_list = get_ID_list('covid_new.txt')\n",
    "label_list = get_label_list('covid.predictions.txt')[1:]\n",
    "assert len(ID_list)==len(label_list)\n",
    "\n",
    "openTrainData = open('covid.json')\n",
    "covid_dict = json.load(openTrainData)\n",
    "openTrainData.close()"
   ]
  },
  {
   "cell_type": "code",
   "execution_count": 4,
   "id": "dbc79735",
   "metadata": {
    "ExecuteTime": {
     "end_time": "2022-05-08T03:47:15.556010Z",
     "start_time": "2022-05-08T03:47:12.596170Z"
    }
   },
   "outputs": [],
   "source": [
    "for row_index in range(len(ID_list)):\n",
    "    for tweetid in ID_list[row_index]:\n",
    "        covid_dict[tweetid]['label'] = label_list[row_index]\n",
    "        covid_dict[tweetid]['timestamp'] = get_timestamp(covid_dict[tweetid]['created_at'])\n",
    "        covid_dict[tweetid]['hashtags'] = get_hashtag(covid_dict[tweetid])"
   ]
  },
  {
   "cell_type": "code",
   "execution_count": 5,
   "id": "cba3cfeb",
   "metadata": {
    "ExecuteTime": {
     "end_time": "2022-05-08T03:47:23.584524Z",
     "start_time": "2022-05-08T03:47:23.556750Z"
    }
   },
   "outputs": [],
   "source": [
    "assert len(list(covid_dict.keys()))==201839"
   ]
  },
  {
   "cell_type": "code",
   "execution_count": 6,
   "id": "5619b3ef",
   "metadata": {
    "ExecuteTime": {
     "end_time": "2022-05-08T03:47:33.090201Z",
     "start_time": "2022-05-08T03:47:31.686048Z"
    }
   },
   "outputs": [
    {
     "data": {
      "text/html": [
       "<div>\n",
       "<style scoped>\n",
       "    .dataframe tbody tr th:only-of-type {\n",
       "        vertical-align: middle;\n",
       "    }\n",
       "\n",
       "    .dataframe tbody tr th {\n",
       "        vertical-align: top;\n",
       "    }\n",
       "\n",
       "    .dataframe thead th {\n",
       "        text-align: right;\n",
       "    }\n",
       "</style>\n",
       "<table border=\"1\" class=\"dataframe\">\n",
       "  <thead>\n",
       "    <tr style=\"text-align: right;\">\n",
       "      <th></th>\n",
       "      <th>text</th>\n",
       "      <th>lang</th>\n",
       "      <th>hashtags</th>\n",
       "      <th>timestamp</th>\n",
       "      <th>source</th>\n",
       "      <th>created_at</th>\n",
       "      <th>author_id</th>\n",
       "      <th>label</th>\n",
       "    </tr>\n",
       "  </thead>\n",
       "  <tbody>\n",
       "    <tr>\n",
       "      <th>1272262651100434433</th>\n",
       "      <td>According to the New York Times, Warner Bros. ...</td>\n",
       "      <td>en</td>\n",
       "      <td>[Tenet]</td>\n",
       "      <td>1.592130e+09</td>\n",
       "      <td>Twitter for iPhone</td>\n",
       "      <td>2020-06-14T20:20:28.000Z</td>\n",
       "      <td>1011312260805996547</td>\n",
       "      <td>0</td>\n",
       "    </tr>\n",
       "    <tr>\n",
       "      <th>1287153210990395392</th>\n",
       "      <td>Hurricane Hanna has made landfall in Texas.\\n\\...</td>\n",
       "      <td>en</td>\n",
       "      <td>None</td>\n",
       "      <td>1.595680e+09</td>\n",
       "      <td>Sprout Social</td>\n",
       "      <td>2020-07-25T22:30:14.000Z</td>\n",
       "      <td>44513878</td>\n",
       "      <td>0</td>\n",
       "    </tr>\n",
       "    <tr>\n",
       "      <th>1287191952115605505</th>\n",
       "      <td>@TexasTribune Guess what the cause of death is...</td>\n",
       "      <td>en</td>\n",
       "      <td>None</td>\n",
       "      <td>1.595689e+09</td>\n",
       "      <td>Twitter for iPhone</td>\n",
       "      <td>2020-07-26T01:04:10.000Z</td>\n",
       "      <td>1266937699128217602</td>\n",
       "      <td>0</td>\n",
       "    </tr>\n",
       "    <tr>\n",
       "      <th>1266555444283179008</th>\n",
       "      <td>Monkeys on the loose in India with stolen coro...</td>\n",
       "      <td>en</td>\n",
       "      <td>None</td>\n",
       "      <td>1.590769e+09</td>\n",
       "      <td>SocialFlow</td>\n",
       "      <td>2020-05-30T02:22:04.000Z</td>\n",
       "      <td>1917731</td>\n",
       "      <td>0</td>\n",
       "    </tr>\n",
       "    <tr>\n",
       "      <th>1258212704961155073</th>\n",
       "      <td>@BelAkinyii Let's not play blind that the work...</td>\n",
       "      <td>en</td>\n",
       "      <td>None</td>\n",
       "      <td>1.588780e+09</td>\n",
       "      <td>Twitter Web App</td>\n",
       "      <td>2020-05-07T01:50:59.000Z</td>\n",
       "      <td>1170754239272050688</td>\n",
       "      <td>0</td>\n",
       "    </tr>\n",
       "  </tbody>\n",
       "</table>\n",
       "</div>"
      ],
      "text/plain": [
       "                                                                  text lang  \\\n",
       "1272262651100434433  According to the New York Times, Warner Bros. ...   en   \n",
       "1287153210990395392  Hurricane Hanna has made landfall in Texas.\\n\\...   en   \n",
       "1287191952115605505  @TexasTribune Guess what the cause of death is...   en   \n",
       "1266555444283179008  Monkeys on the loose in India with stolen coro...   en   \n",
       "1258212704961155073  @BelAkinyii Let's not play blind that the work...   en   \n",
       "\n",
       "                    hashtags     timestamp              source  \\\n",
       "1272262651100434433  [Tenet]  1.592130e+09  Twitter for iPhone   \n",
       "1287153210990395392     None  1.595680e+09       Sprout Social   \n",
       "1287191952115605505     None  1.595689e+09  Twitter for iPhone   \n",
       "1266555444283179008     None  1.590769e+09          SocialFlow   \n",
       "1258212704961155073     None  1.588780e+09     Twitter Web App   \n",
       "\n",
       "                                   created_at            author_id label  \n",
       "1272262651100434433  2020-06-14T20:20:28.000Z  1011312260805996547     0  \n",
       "1287153210990395392  2020-07-25T22:30:14.000Z             44513878     0  \n",
       "1287191952115605505  2020-07-26T01:04:10.000Z  1266937699128217602     0  \n",
       "1266555444283179008  2020-05-30T02:22:04.000Z              1917731     0  \n",
       "1258212704961155073  2020-05-07T01:50:59.000Z  1170754239272050688     0  "
      ]
     },
     "execution_count": 6,
     "metadata": {},
     "output_type": "execute_result"
    }
   ],
   "source": [
    "covid_df = pd.DataFrame.from_dict(covid_dict, orient='index',\n",
    "                       columns=['text', 'lang','hashtags', 'timestamp', 'source', 'created_at', 'author_id', 'label'])\n",
    "covid_df.head()"
   ]
  },
  {
   "cell_type": "code",
   "execution_count": 7,
   "id": "7fa8a00e",
   "metadata": {
    "ExecuteTime": {
     "end_time": "2022-05-08T03:47:41.164961Z",
     "start_time": "2022-05-08T03:47:41.151997Z"
    }
   },
   "outputs": [
    {
     "data": {
      "text/plain": [
       "<bound method DataFrame.info of                                                                   text lang  \\\n",
       "1272262651100434433  According to the New York Times, Warner Bros. ...   en   \n",
       "1287153210990395392  Hurricane Hanna has made landfall in Texas.\\n\\...   en   \n",
       "1287191952115605505  @TexasTribune Guess what the cause of death is...   en   \n",
       "1266555444283179008  Monkeys on the loose in India with stolen coro...   en   \n",
       "1258212704961155073  @BelAkinyii Let's not play blind that the work...   en   \n",
       "...                                                                ...  ...   \n",
       "1265875761111666688  @seanhannity Trump total meltdown Coronavirus ...   en   \n",
       "1265822646215872514  @seanhannity New York Post- January 5, 2020 \" ...   en   \n",
       "1265936765988286465  @seanhannity Everything was fine before COVID-...   en   \n",
       "1265825373868228608  @seanhannity Sad to say, NY and NYC are train ...   en   \n",
       "1265813858318454785  @seanhannity Breaking News: What Fox News won'...   en   \n",
       "\n",
       "                    hashtags     timestamp               source  \\\n",
       "1272262651100434433  [Tenet]  1.592130e+09   Twitter for iPhone   \n",
       "1287153210990395392     None  1.595680e+09        Sprout Social   \n",
       "1287191952115605505     None  1.595689e+09   Twitter for iPhone   \n",
       "1266555444283179008     None  1.590769e+09           SocialFlow   \n",
       "1258212704961155073     None  1.588780e+09      Twitter Web App   \n",
       "...                      ...           ...                  ...   \n",
       "1265875761111666688     None  1.590607e+09  Twitter for Android   \n",
       "1265822646215872514     None  1.590595e+09      Twitter Web App   \n",
       "1265936765988286465     None  1.590622e+09   Twitter for iPhone   \n",
       "1265825373868228608     None  1.590595e+09  Twitter for Android   \n",
       "1265813858318454785     None  1.590593e+09  Twitter for Android   \n",
       "\n",
       "                                   created_at            author_id label  \n",
       "1272262651100434433  2020-06-14T20:20:28.000Z  1011312260805996547     0  \n",
       "1287153210990395392  2020-07-25T22:30:14.000Z             44513878     0  \n",
       "1287191952115605505  2020-07-26T01:04:10.000Z  1266937699128217602     0  \n",
       "1266555444283179008  2020-05-30T02:22:04.000Z              1917731     0  \n",
       "1258212704961155073  2020-05-07T01:50:59.000Z  1170754239272050688     0  \n",
       "...                                       ...                  ...   ...  \n",
       "1265875761111666688  2020-05-28T05:21:14.000Z   711121231919996928     0  \n",
       "1265822646215872514  2020-05-28T01:50:11.000Z  1257051391299915777     0  \n",
       "1265936765988286465  2020-05-28T09:23:39.000Z             27314619     0  \n",
       "1265825373868228608  2020-05-28T02:01:01.000Z           2980636702     0  \n",
       "1265813858318454785  2020-05-28T01:15:16.000Z   711121231919996928     0  \n",
       "\n",
       "[201839 rows x 8 columns]>"
      ]
     },
     "execution_count": 7,
     "metadata": {},
     "output_type": "execute_result"
    }
   ],
   "source": [
    "covid_df.info"
   ]
  },
  {
   "cell_type": "code",
   "execution_count": 8,
   "id": "f6131ea7",
   "metadata": {
    "ExecuteTime": {
     "end_time": "2022-05-08T03:47:49.006920Z",
     "start_time": "2022-05-08T03:47:48.932036Z"
    }
   },
   "outputs": [],
   "source": [
    "covid_en_df = covid_df[covid_df.lang=='en']"
   ]
  },
  {
   "cell_type": "code",
   "execution_count": 9,
   "id": "8b25dea2",
   "metadata": {
    "ExecuteTime": {
     "end_time": "2022-05-08T03:47:57.340426Z",
     "start_time": "2022-05-08T03:47:57.326528Z"
    }
   },
   "outputs": [
    {
     "data": {
      "text/plain": [
       "<bound method DataFrame.info of                                                                   text lang  \\\n",
       "1272262651100434433  According to the New York Times, Warner Bros. ...   en   \n",
       "1287153210990395392  Hurricane Hanna has made landfall in Texas.\\n\\...   en   \n",
       "1287191952115605505  @TexasTribune Guess what the cause of death is...   en   \n",
       "1266555444283179008  Monkeys on the loose in India with stolen coro...   en   \n",
       "1258212704961155073  @BelAkinyii Let's not play blind that the work...   en   \n",
       "...                                                                ...  ...   \n",
       "1265875761111666688  @seanhannity Trump total meltdown Coronavirus ...   en   \n",
       "1265822646215872514  @seanhannity New York Post- January 5, 2020 \" ...   en   \n",
       "1265936765988286465  @seanhannity Everything was fine before COVID-...   en   \n",
       "1265825373868228608  @seanhannity Sad to say, NY and NYC are train ...   en   \n",
       "1265813858318454785  @seanhannity Breaking News: What Fox News won'...   en   \n",
       "\n",
       "                    hashtags     timestamp               source  \\\n",
       "1272262651100434433  [Tenet]  1.592130e+09   Twitter for iPhone   \n",
       "1287153210990395392     None  1.595680e+09        Sprout Social   \n",
       "1287191952115605505     None  1.595689e+09   Twitter for iPhone   \n",
       "1266555444283179008     None  1.590769e+09           SocialFlow   \n",
       "1258212704961155073     None  1.588780e+09      Twitter Web App   \n",
       "...                      ...           ...                  ...   \n",
       "1265875761111666688     None  1.590607e+09  Twitter for Android   \n",
       "1265822646215872514     None  1.590595e+09      Twitter Web App   \n",
       "1265936765988286465     None  1.590622e+09   Twitter for iPhone   \n",
       "1265825373868228608     None  1.590595e+09  Twitter for Android   \n",
       "1265813858318454785     None  1.590593e+09  Twitter for Android   \n",
       "\n",
       "                                   created_at            author_id label  \n",
       "1272262651100434433  2020-06-14T20:20:28.000Z  1011312260805996547     0  \n",
       "1287153210990395392  2020-07-25T22:30:14.000Z             44513878     0  \n",
       "1287191952115605505  2020-07-26T01:04:10.000Z  1266937699128217602     0  \n",
       "1266555444283179008  2020-05-30T02:22:04.000Z              1917731     0  \n",
       "1258212704961155073  2020-05-07T01:50:59.000Z  1170754239272050688     0  \n",
       "...                                       ...                  ...   ...  \n",
       "1265875761111666688  2020-05-28T05:21:14.000Z   711121231919996928     0  \n",
       "1265822646215872514  2020-05-28T01:50:11.000Z  1257051391299915777     0  \n",
       "1265936765988286465  2020-05-28T09:23:39.000Z             27314619     0  \n",
       "1265825373868228608  2020-05-28T02:01:01.000Z           2980636702     0  \n",
       "1265813858318454785  2020-05-28T01:15:16.000Z   711121231919996928     0  \n",
       "\n",
       "[201490 rows x 8 columns]>"
      ]
     },
     "execution_count": 9,
     "metadata": {},
     "output_type": "execute_result"
    }
   ],
   "source": [
    "covid_en_df.info"
   ]
  },
  {
   "cell_type": "markdown",
   "id": "3d142fcc",
   "metadata": {},
   "source": [
    "# tweets normalization"
   ]
  },
  {
   "cell_type": "code",
   "execution_count": 10,
   "id": "2c6ac65b",
   "metadata": {
    "ExecuteTime": {
     "end_time": "2022-05-08T03:48:08.372085Z",
     "start_time": "2022-05-08T03:48:08.358362Z"
    }
   },
   "outputs": [
    {
     "data": {
      "text/plain": [
       "'Hurricane Hanna has made landfall in Texas.\\n\\nThe storm is hitting a section of the Texas coast already reeling from thousands of coronavirus cases. https://t.co/KWL3awKW00'"
      ]
     },
     "execution_count": 10,
     "metadata": {},
     "output_type": "execute_result"
    }
   ],
   "source": [
    "covid_en_df.iloc[1]['text']"
   ]
  },
  {
   "cell_type": "code",
   "execution_count": 11,
   "id": "cc027ecc",
   "metadata": {
    "ExecuteTime": {
     "end_time": "2022-05-08T03:48:17.864296Z",
     "start_time": "2022-05-08T03:48:16.307537Z"
    }
   },
   "outputs": [],
   "source": [
    "from emoji import demojize\n",
    "from nltk.tokenize import TweetTokenizer"
   ]
  },
  {
   "cell_type": "code",
   "execution_count": 12,
   "id": "8db5270d",
   "metadata": {
    "ExecuteTime": {
     "end_time": "2022-05-08T03:48:29.369059Z",
     "start_time": "2022-05-08T03:48:29.350353Z"
    }
   },
   "outputs": [],
   "source": [
    "tokenizer = TweetTokenizer()\n",
    "\n",
    "def normalizeToken(token):\n",
    "    lowercased_token = token.lower()\n",
    "    if token.startswith(\"@\"):\n",
    "        return \"@USER\"\n",
    "    elif lowercased_token.startswith(\"http\") or lowercased_token.startswith(\"www\"):\n",
    "        return \"HTTPURL\"\n",
    "    elif len(token) == 1:\n",
    "        return demojize(token)\n",
    "    else:\n",
    "        if token == \"’\":\n",
    "            return \"'\"\n",
    "        elif token == \"…\":\n",
    "            return \"...\"\n",
    "        else:\n",
    "            return token\n",
    "\n",
    "\n",
    "def normalizeTweet(tweet):\n",
    "    tokens = tokenizer.tokenize(tweet.replace(\"’\", \"'\").replace(\"…\", \"...\"))\n",
    "    normTweet = \" \".join([normalizeToken(token) for token in tokens])\n",
    "\n",
    "    normTweet = (\n",
    "        normTweet.replace(\"cannot \", \"can not \")\n",
    "        .replace(\"n't \", \" n't \")\n",
    "        .replace(\"n 't \", \" n't \")\n",
    "        .replace(\"ca n't\", \"can't\")\n",
    "        .replace(\"ai n't\", \"ain't\")\n",
    "    )\n",
    "    normTweet = (\n",
    "        normTweet.replace(\"'m \", \" 'm \")\n",
    "        .replace(\"'re \", \" 're \")\n",
    "        .replace(\"'s \", \" 's \")\n",
    "        .replace(\"'ll \", \" 'll \")\n",
    "        .replace(\"'d \", \" 'd \")\n",
    "        .replace(\"'ve \", \" 've \")\n",
    "    )\n",
    "    normTweet = (\n",
    "        normTweet.replace(\" p . m .\", \"  p.m.\")\n",
    "        .replace(\" p . m \", \" p.m \")\n",
    "        .replace(\" a . m .\", \" a.m.\")\n",
    "        .replace(\" a . m \", \" a.m \")\n",
    "    )\n",
    "\n",
    "    return normTweet.split()"
   ]
  },
  {
   "cell_type": "code",
   "execution_count": 13,
   "id": "1c67e964",
   "metadata": {
    "ExecuteTime": {
     "end_time": "2022-05-08T03:48:37.021375Z",
     "start_time": "2022-05-08T03:48:36.960300Z"
    }
   },
   "outputs": [
    {
     "data": {
      "text/plain": [
       "['Hurricane',\n",
       " 'Hanna',\n",
       " 'has',\n",
       " 'made',\n",
       " 'landfall',\n",
       " 'in',\n",
       " 'Texas',\n",
       " '.',\n",
       " 'The',\n",
       " 'storm',\n",
       " 'is',\n",
       " 'hitting',\n",
       " 'a',\n",
       " 'section',\n",
       " 'of',\n",
       " 'the',\n",
       " 'Texas',\n",
       " 'coast',\n",
       " 'already',\n",
       " 'reeling',\n",
       " 'from',\n",
       " 'thousands',\n",
       " 'of',\n",
       " 'coronavirus',\n",
       " 'cases',\n",
       " '.',\n",
       " 'HTTPURL']"
      ]
     },
     "execution_count": 13,
     "metadata": {},
     "output_type": "execute_result"
    }
   ],
   "source": [
    "normalizeTweet(covid_en_df.iloc[1]['text'])"
   ]
  },
  {
   "cell_type": "markdown",
   "id": "25fcd798",
   "metadata": {
    "ExecuteTime": {
     "end_time": "2022-05-07T09:04:41.217665Z",
     "start_time": "2022-05-07T09:04:41.198717Z"
    }
   },
   "source": [
    "# rumor/norumor split"
   ]
  },
  {
   "cell_type": "code",
   "execution_count": 14,
   "id": "83ebe432",
   "metadata": {
    "ExecuteTime": {
     "end_time": "2022-05-08T03:48:44.728160Z",
     "start_time": "2022-05-08T03:48:44.653049Z"
    }
   },
   "outputs": [
    {
     "name": "stdout",
     "output_type": "stream",
     "text": [
      "rumor number: 35895, no rumor number: 165595\n"
     ]
    }
   ],
   "source": [
    "covid_rm = covid_en_df[covid_en_df.label=='1']\n",
    "covid_nr = covid_en_df[covid_en_df.label=='0']\n",
    "print(f'rumor number: {len(covid_rm)}, no rumor number: {len(covid_nr)}')"
   ]
  },
  {
   "cell_type": "code",
   "execution_count": 15,
   "id": "f7752f55",
   "metadata": {
    "ExecuteTime": {
     "end_time": "2022-05-08T03:48:53.021998Z",
     "start_time": "2022-05-08T03:48:52.208643Z"
    }
   },
   "outputs": [],
   "source": [
    "import seaborn as sns\n",
    "import matplotlib.pyplot as plt\n",
    "from wordcloud import WordCloud\n",
    "from collections import Counter, defaultdict\n",
    "from copy import deepcopy\n",
    "from nltk.stem import WordNetLemmatizer"
   ]
  },
  {
   "cell_type": "code",
   "execution_count": 16,
   "id": "17fb6cc8",
   "metadata": {
    "ExecuteTime": {
     "end_time": "2022-05-08T03:49:00.780127Z",
     "start_time": "2022-05-08T03:49:00.687240Z"
    }
   },
   "outputs": [],
   "source": [
    "hashtag_list = covid_en_df[\"hashtags\"].values.tolist()\n",
    "rumor_hashtag_list = covid_en_df.loc[covid_en_df[\"label\"] == '1'][\"hashtags\"].values.tolist()\n",
    "norumor_hashtag_list = covid_en_df.loc[covid_en_df[\"label\"] == '0'][\"hashtags\"].values.tolist()"
   ]
  },
  {
   "cell_type": "code",
   "execution_count": 17,
   "id": "8885eac0",
   "metadata": {
    "ExecuteTime": {
     "end_time": "2022-05-08T03:49:08.714759Z",
     "start_time": "2022-05-08T03:49:08.702371Z"
    }
   },
   "outputs": [],
   "source": [
    "def to_hashtag_dict(list):\n",
    "    \n",
    "    lemmatizer = WordNetLemmatizer()\n",
    "    hashtagdict = defaultdict(int)\n",
    "    for row in list:\n",
    "        if not row is None:\n",
    "            for hashtag in row:\n",
    "                hashtagdict[lemmatizer.lemmatize(hashtag.lower())]+=1\n",
    "    return hashtagdict\n",
    "\n",
    "HASHTAGS_POPLIST = ['covid19', 'coronavirus', 'coronaviruspandemic', 'covid_19', 'covid', \n",
    "                   'pandemic', 'corona', 'covid19pandemic', 'covidー19', 'covid__19', 'covid2019']\n",
    "\n",
    "def pop_hashtag(dict1, poplist=HASHTAGS_POPLIST):\n",
    "    tdict = deepcopy(dict1)\n",
    "    for k in dict1.keys():\n",
    "        if k in HASHTAGS_POPLIST:\n",
    "            tdict.pop(k)\n",
    "    return tdict"
   ]
  },
  {
   "cell_type": "code",
   "execution_count": 18,
   "id": "d3da5f4a",
   "metadata": {
    "ExecuteTime": {
     "end_time": "2022-05-08T03:49:19.672466Z",
     "start_time": "2022-05-08T03:49:16.623622Z"
    }
   },
   "outputs": [],
   "source": [
    "hashtag_dict = to_hashtag_dict(hashtag_list)\n",
    "rumor_hashtag_dict = to_hashtag_dict(rumor_hashtag_list)\n",
    "norumor_hashtag_dict = to_hashtag_dict(norumor_hashtag_list)\n",
    "\n",
    "hashtag_dict = pop_hashtag(hashtag_dict)\n",
    "rumor_hashtag_dict = pop_hashtag(rumor_hashtag_dict)\n",
    "norumor_hashtag_dict = pop_hashtag(norumor_hashtag_dict)\n",
    "\n",
    "hashtag_sorted = [[item[0], item[1]] for item in sorted(hashtag_dict.items(), key=lambda item: item[1], reverse=True)] \n",
    "rumor_hashtag_sorted = [[item[0], item[1]] for item in sorted(rumor_hashtag_dict.items(), key=lambda item: item[1], reverse=True)] \n",
    "norumor_hashtag_sorted = [[item[0], item[1]] for item in sorted(norumor_hashtag_dict.items(), key=lambda item: item[1], reverse=True)]\n"
   ]
  },
  {
   "cell_type": "markdown",
   "id": "4eb74579",
   "metadata": {},
   "source": [
    "## frequency"
   ]
  },
  {
   "cell_type": "code",
   "execution_count": 19,
   "id": "c8c37d59",
   "metadata": {
    "ExecuteTime": {
     "end_time": "2022-05-08T03:49:28.540907Z",
     "start_time": "2022-05-08T03:49:27.682936Z"
    }
   },
   "outputs": [
    {
     "data": {
      "image/png": "[encoded data removed]",
      "text/plain": [
       "<Figure size 1800x1080 with 2 Axes>"
      ]
     },
     "metadata": {
      "needs_background": "light"
     },
     "output_type": "display_data"
    }
   ],
   "source": [
    "fig, ax = plt.subplots(1,2, figsize=(25,15))\n",
    "START_INDEX = 0\n",
    "END_INDEX = 30\n",
    "\n",
    "sns.barplot(y=[i[0] for i in rumor_hashtag_sorted][START_INDEX:END_INDEX], \n",
    "            x=[i[1] for i in rumor_hashtag_sorted][START_INDEX:END_INDEX], \n",
    "            orient='h', ax=ax[0], palette=\"Reds_d\")\n",
    "\n",
    "sns.barplot(y=[i[0] for i in norumor_hashtag_sorted][START_INDEX:END_INDEX], \n",
    "            x=[i[1] for i in norumor_hashtag_sorted][START_INDEX:END_INDEX], \n",
    "            orient='h', ax=ax[1], palette=\"Blues_d\")\n",
    "\n",
    "ax[0].set_title(f\"Top {START_INDEX} to {END_INDEX} Hashtags - Covid 19 Rumor Tweets\")\n",
    "ax[0].set_xlabel(\"Hashtags Frequency\")\n",
    "ax[1].set_title(f\"Top {START_INDEX} to {END_INDEX} Hashtags - Covid 19 NoRumor Tweets\")\n",
    "ax[1].set_xlabel(\"Hashtags Frequency\")\n",
    "plt.tight_layout()\n",
    "plt.show()"
   ]
  },
  {
   "cell_type": "markdown",
   "id": "28aba076",
   "metadata": {
    "ExecuteTime": {
     "end_time": "2022-05-07T09:38:56.768055Z",
     "start_time": "2022-05-07T09:38:56.740849Z"
    }
   },
   "source": [
    "## Proportion"
   ]
  },
  {
   "cell_type": "markdown",
   "id": "e102d6bf",
   "metadata": {},
   "source": [
    "判断标准是自己定义的，所以没有统计学依据，可以忽略这种方法，直接用3.3的卡方检验"
   ]
  },
  {
   "cell_type": "code",
   "execution_count": 20,
   "id": "3c67a506",
   "metadata": {
    "ExecuteTime": {
     "end_time": "2022-05-08T03:49:40.870869Z",
     "start_time": "2022-05-08T03:49:40.853488Z"
    }
   },
   "outputs": [],
   "source": [
    "FREQ_THRESHOLD=200\n",
    "def pop_less(dict1, threhold=FREQ_THRESHOLD):\n",
    "    tdict = deepcopy(dict1)\n",
    "    for k,v in dict1.items():\n",
    "        if v < threhold:\n",
    "            tdict.pop(k)\n",
    "    return tdict\n",
    "\n",
    "def get_proprotion_dict(dict1):\n",
    "    allnum = sum(dict1.values())\n",
    "    tdict = defaultdict(float)\n",
    "    for k, v in dict1.items():\n",
    "        tdict[k]=v/allnum\n",
    "    return tdict\n",
    "\n",
    "def pop_except_list(dict1, poplist):\n",
    "    tdict = defaultdict(int)\n",
    "    for k in poplist:\n",
    "        if k in dict1:\n",
    "            tdict[k] = dict1[k]\n",
    "        else:\n",
    "            tdict[k] = 0\n",
    "    return tdict\n",
    "\n",
    "HASHTAGS_POPLIST = ['covid19', 'coronavirus', 'coronaviruspandemic', 'covid_19', 'covid', \n",
    "                   'pandemic', 'corona', 'covid19pandemic', 'covidー19']\n",
    "\n",
    "def pop_hashtag(dict1, poplist=HASHTAGS_POPLIST):\n",
    "    tdict = deepcopy(dict1)\n",
    "    for k in dict1.keys():\n",
    "        if k in HASHTAGS_POPLIST:\n",
    "            tdict.pop(k)\n",
    "    return tdict"
   ]
  },
  {
   "cell_type": "code",
   "execution_count": 21,
   "id": "1fc4ca11",
   "metadata": {
    "ExecuteTime": {
     "end_time": "2022-05-08T03:49:58.148304Z",
     "start_time": "2022-05-08T03:49:58.110981Z"
    }
   },
   "outputs": [],
   "source": [
    "hashtag_proportion = get_proprotion_dict(pop_less(hashtag_dict))\n",
    "rumor_hashtag_proportion = get_proprotion_dict(pop_except_list(rumor_hashtag_dict, list(hashtag_proportion.keys())))\n",
    "norumor_hashtag_proportion = get_proprotion_dict(pop_except_list(norumor_hashtag_dict, list(hashtag_proportion.keys())))\n",
    "\n",
    "assert len(list(rumor_hashtag_proportion.keys())) == len(list(hashtag_proportion.keys()))\n",
    "assert len(list(norumor_hashtag_proportion.keys())) == len(list(hashtag_proportion.keys()))"
   ]
  },
  {
   "cell_type": "code",
   "execution_count": 43,
   "id": "0629a0dd",
   "metadata": {
    "ExecuteTime": {
     "end_time": "2022-05-08T04:11:04.210694Z",
     "start_time": "2022-05-08T04:11:04.202640Z"
    }
   },
   "outputs": [],
   "source": [
    "DIFF_THRESHOLD = 0.1\n",
    "def proportion_diff(dict1, dict2, alldict, \n",
    "                    dict3=rumor_hashtag_dict, dict4=norumor_hashtag_dict, \n",
    "                    dict5=hashtag_dict,\n",
    "                    threshold=DIFF_THRESHOLD):\n",
    "    rdict = defaultdict(float)\n",
    "    for k in dict1.keys():\n",
    "        diff = (dict1[k]-dict2[k])/alldict[k]\n",
    "#         diff = (dict1[k]-alldict[k])**2/alldict[k] + (dict2[k]-alldict[k])**2/alldict[k]\n",
    "        if diff>threshold:\n",
    "            rdict[k] = dict1[k]/alldict[k]-1\n",
    "        elif -diff>threshold:\n",
    "            rdict[k] = -dict2[k]/alldict[k]+1\n",
    "    return rdict"
   ]
  },
  {
   "cell_type": "code",
   "execution_count": 44,
   "id": "1856766b",
   "metadata": {
    "ExecuteTime": {
     "end_time": "2022-05-08T04:11:12.027871Z",
     "start_time": "2022-05-08T04:11:12.013682Z"
    }
   },
   "outputs": [],
   "source": [
    "pdiff = proportion_diff(rumor_hashtag_proportion, norumor_hashtag_proportion, hashtag_proportion)\n",
    "pdiff_sorted = [[item[0], item[1]] for item in sorted(pdiff.items(), key=lambda item: item[1], reverse=True)] "
   ]
  },
  {
   "cell_type": "code",
   "execution_count": 76,
   "id": "3b7002c5",
   "metadata": {
    "ExecuteTime": {
     "end_time": "2022-05-08T04:58:40.466560Z",
     "start_time": "2022-05-08T04:58:40.135624Z"
    },
    "scrolled": true
   },
   "outputs": [
    {
     "data": {
      "image/png": "[encoded data removed]",
      "text/plain": [
       "<Figure size 1080x216 with 1 Axes>"
      ]
     },
     "metadata": {
      "needs_background": "light"
     },
     "output_type": "display_data"
    }
   ],
   "source": [
    "START_INDEX = 0\n",
    "END_INDEX = 30\n",
    "fig, ax = plt.subplots(figsize=(15, 3))\n",
    "\n",
    "sns.barplot(x=[i[0] for i in pdiff_sorted], \n",
    "            y=[i[1] for i in pdiff_sorted], \n",
    "            orient='v', palette=\"flare\", ax=ax)\n",
    "\n",
    "ax.set_xticklabels(ax.get_xticklabels(), rotation=45, horizontalalignment='right')\n",
    "\n",
    "plt.title(\"Proportion Difference\")\n",
    "plt.show()\n"
   ]
  },
  {
   "cell_type": "markdown",
   "id": "f227788d",
   "metadata": {},
   "source": [
    "## Chi Test"
   ]
  },
  {
   "cell_type": "code",
   "execution_count": 46,
   "id": "c600c500",
   "metadata": {
    "ExecuteTime": {
     "end_time": "2022-05-08T04:24:49.417695Z",
     "start_time": "2022-05-08T04:24:49.383004Z"
    }
   },
   "outputs": [],
   "source": [
    "hashtag_popless = pop_less(hashtag_dict)\n",
    "rumor_hashtag_popless = pop_except_list(rumor_hashtag_dict, list(hashtag_proportion.keys()))\n",
    "norumor_hashtag_popless = pop_except_list(norumor_hashtag_dict, list(hashtag_proportion.keys()))\n",
    "\n",
    "assert len(list(rumor_hashtag_popless.keys())) == len(list(hashtag_popless.keys()))\n",
    "assert len(list(norumor_hashtag_popless.keys())) == len(list(hashtag_popless.keys()))"
   ]
  },
  {
   "cell_type": "code",
   "execution_count": 64,
   "id": "a8796761",
   "metadata": {
    "ExecuteTime": {
     "end_time": "2022-05-08T04:40:15.837087Z",
     "start_time": "2022-05-08T04:40:15.824101Z"
    }
   },
   "outputs": [],
   "source": [
    "CHI_THRESHOLD = 3.84\n",
    "def freq_diff(dict1, dict2, alldict, threshold=CHI_THRESHOLD):\n",
    "    rmdict_chi = defaultdict(float)\n",
    "    nrdict_chi = defaultdict(float)\n",
    "    \n",
    "    rm_hashtag_sum = sum(list(dict1.values()))\n",
    "    nr_hashtag_sum = sum(list(dict2.values()))\n",
    "    hashtag_sum = sum(list(alldict.values()))\n",
    "    assert rm_hashtag_sum+nr_hashtag_sum==hashtag_sum\n",
    "    rm_e, nr_e = rm_hashtag_sum/hashtag_sum, nr_hashtag_sum/hashtag_sum\n",
    "    for k in dict1.keys():\n",
    "        diff = ((dict1[k]-rm_e*alldict[k])**2)/(rm_e*alldict[k]) + ((dict2[k]-nr_e*alldict[k])**2)/(nr_e*alldict[k])\n",
    "        if diff>threshold:\n",
    "            if dict1[k] > rm_e*alldict[k]:\n",
    "                rmdict_chi[k]=diff\n",
    "            else:\n",
    "                nrdict_chi[k]=diff\n",
    "    return rmdict_chi, nrdict_chi"
   ]
  },
  {
   "cell_type": "code",
   "execution_count": 69,
   "id": "33b5a2b1",
   "metadata": {
    "ExecuteTime": {
     "end_time": "2022-05-08T04:47:50.667492Z",
     "start_time": "2022-05-08T04:47:50.656342Z"
    }
   },
   "outputs": [],
   "source": [
    "rmdict_chi, nrdict_chi = freq_diff(rumor_hashtag_popless, norumor_hashtag_popless, hashtag_popless)\n",
    "rmchi_sorted = [[item[0], item[1]] for item in sorted(rmdict_chi.items(), key=lambda item: item[1], reverse=True)] \n",
    "nrchi_sorted = [[item[0], item[1]] for item in sorted(nrdict_chi.items(), key=lambda item: item[1], reverse=True)] "
   ]
  },
  {
   "cell_type": "code",
   "execution_count": 73,
   "id": "6a22c72a",
   "metadata": {
    "ExecuteTime": {
     "end_time": "2022-05-08T04:54:44.131492Z",
     "start_time": "2022-05-08T04:54:43.760633Z"
    }
   },
   "outputs": [
    {
     "data": {
      "image/png": "[encoded data removed]",
      "text/plain": [
       "<Figure size 1800x1080 with 2 Axes>"
      ]
     },
     "metadata": {
      "needs_background": "light"
     },
     "output_type": "display_data"
    }
   ],
   "source": [
    "fig, ax = plt.subplots(1,2, figsize=(25,15))\n",
    "\n",
    "sns.barplot(y=[i[0] for i in rmchi_sorted], x=[i[1] for i in rmchi_sorted], \n",
    "            orient='h', ax=ax[0], palette=\"Reds_d\")\n",
    "\n",
    "sns.barplot(y=[i[0] for i in nrchi_sorted], x=[i[1] for i in nrchi_sorted], \n",
    "            orient='h', ax=ax[1], palette=\"Blues_d\")\n",
    "\n",
    "ax[0].set_title(f\"Significant Hashtags - Covid 19 Rumor Tweets\")\n",
    "ax[0].set_xlabel(\"Chi Value of Pearson's chi-squared test of Hashtags\")\n",
    "ax[1].set_title(f\"Significant Hashtags - Covid 19 NoRumor Tweets\")\n",
    "ax[1].set_xlabel(\"Chi Value of Pearson's chi-squared test of Hashtags\")\n",
    "plt.tight_layout()\n",
    "plt.show()"
   ]
  },
  {
   "cell_type": "markdown",
   "id": "b86eaa0b",
   "metadata": {
    "ExecuteTime": {
     "end_time": "2022-05-08T04:47:58.834607Z",
     "start_time": "2022-05-08T04:47:58.821354Z"
    }
   },
   "source": [
    "# "
   ]
  },
  {
   "cell_type": "code",
   "execution_count": null,
   "id": "615c03a4",
   "metadata": {},
   "outputs": [],
   "source": []
  },
  {
   "cell_type": "code",
   "execution_count": null,
   "id": "2cf86abd",
   "metadata": {},
   "outputs": [],
   "source": []
  },
  {
   "cell_type": "code",
   "execution_count": null,
   "id": "d4167002",
   "metadata": {},
   "outputs": [],
   "source": []
  },
  {
   "cell_type": "code",
   "execution_count": null,
   "id": "2e3a4981",
   "metadata": {},
   "outputs": [],
   "source": []
  },
  {
   "cell_type": "code",
   "execution_count": null,
   "id": "7c0aede4",
   "metadata": {},
   "outputs": [],
   "source": []
  },
  {
   "cell_type": "code",
   "execution_count": 36,
   "id": "f974bead",
   "metadata": {
    "ExecuteTime": {
     "end_time": "2022-05-08T04:09:22.292424Z",
     "start_time": "2022-05-08T04:09:22.278581Z"
    }
   },
   "outputs": [
    {
     "data": {
      "text/plain": [
       "[]"
      ]
     },
     "execution_count": 36,
     "metadata": {},
     "output_type": "execute_result"
    }
   ],
   "source": []
  },
  {
   "cell_type": "code",
   "execution_count": 315,
   "id": "d921a1aa",
   "metadata": {
    "ExecuteTime": {
     "end_time": "2022-05-07T12:40:57.047453Z",
     "start_time": "2022-05-07T12:40:57.035484Z"
    }
   },
   "outputs": [
    {
     "data": {
      "text/plain": [
       "-1.255291487663731"
      ]
     },
     "execution_count": 315,
     "metadata": {},
     "output_type": "execute_result"
    }
   ],
   "source": []
  },
  {
   "cell_type": "code",
   "execution_count": 333,
   "id": "df5384a8",
   "metadata": {
    "ExecuteTime": {
     "end_time": "2022-05-07T13:05:47.655797Z",
     "start_time": "2022-05-07T13:05:47.649816Z"
    }
   },
   "outputs": [
    {
     "data": {
      "text/plain": [
       "65"
      ]
     },
     "execution_count": 333,
     "metadata": {},
     "output_type": "execute_result"
    }
   ],
   "source": []
  },
  {
   "cell_type": "code",
   "execution_count": 334,
   "id": "507cc719",
   "metadata": {
    "ExecuteTime": {
     "end_time": "2022-05-07T13:05:53.382421Z",
     "start_time": "2022-05-07T13:05:53.367774Z"
    }
   },
   "outputs": [
    {
     "data": {
      "text/plain": [
       "135"
      ]
     },
     "execution_count": 334,
     "metadata": {},
     "output_type": "execute_result"
    }
   ],
   "source": []
  },
  {
   "cell_type": "code",
   "execution_count": 335,
   "id": "65c95f84",
   "metadata": {
    "ExecuteTime": {
     "end_time": "2022-05-07T13:06:05.034528Z",
     "start_time": "2022-05-07T13:06:05.024555Z"
    }
   },
   "outputs": [
    {
     "data": {
      "text/plain": [
       "200"
      ]
     },
     "execution_count": 335,
     "metadata": {},
     "output_type": "execute_result"
    }
   ],
   "source": []
  },
  {
   "cell_type": "code",
   "execution_count": 336,
   "id": "4882de8d",
   "metadata": {
    "ExecuteTime": {
     "end_time": "2022-05-07T13:08:16.150321Z",
     "start_time": "2022-05-07T13:08:16.137693Z"
    }
   },
   "outputs": [
    {
     "data": {
      "text/plain": [
       "0.015144454799627213"
      ]
     },
     "execution_count": 336,
     "metadata": {},
     "output_type": "execute_result"
    }
   ],
   "source": []
  },
  {
   "cell_type": "code",
   "execution_count": null,
   "id": "29bd8290",
   "metadata": {},
   "outputs": [],
   "source": []
  },
  {
   "cell_type": "code",
   "execution_count": null,
   "id": "28fc86ba",
   "metadata": {},
   "outputs": [],
   "source": []
  },
  {
   "cell_type": "code",
   "execution_count": null,
   "id": "df72faa1",
   "metadata": {},
   "outputs": [],
   "source": []
  },
  {
   "cell_type": "code",
   "execution_count": null,
   "id": "77fb0b0d",
   "metadata": {},
   "outputs": [],
   "source": []
  },
  {
   "cell_type": "code",
   "execution_count": null,
   "id": "661f5367",
   "metadata": {},
   "outputs": [],
   "source": []
  },
  {
   "cell_type": "code",
   "execution_count": null,
   "id": "96ac5d3b",
   "metadata": {},
   "outputs": [],
   "source": []
  },
  {
   "cell_type": "code",
   "execution_count": null,
   "id": "3686a3b3",
   "metadata": {},
   "outputs": [],
   "source": []
  },
  {
   "cell_type": "code",
   "execution_count": null,
   "id": "ea532e83",
   "metadata": {},
   "outputs": [],
   "source": []
  },
  {
   "cell_type": "code",
   "execution_count": null,
   "id": "3ac24183",
   "metadata": {},
   "outputs": [],
   "source": []
  }
 ],
 "metadata": {
  "kernelspec": {
   "display_name": "Python 3 (ipykernel)",
   "language": "python",
   "name": "python3"
  },
  "language_info": {
   "codemirror_mode": {
    "name": "ipython",
    "version": 3
   },
   "file_extension": ".py",
   "mimetype": "text/x-python",
   "name": "python",
   "nbconvert_exporter": "python",
   "pygments_lexer": "ipython3",
   "version": "3.9.12"
  },
  "latex_envs": {
   "LaTeX_envs_menu_present": true,
   "autoclose": false,
   "autocomplete": true,
   "bibliofile": "biblio.bib",
   "cite_by": "apalike",
   "current_citInitial": 1,
   "eqLabelWithNumbers": true,
   "eqNumInitial": 1,
   "hotkeys": {
    "equation": "Ctrl-E",
    "itemize": "Ctrl-I"
   },
   "labels_anchors": false,
   "latex_user_defs": false,
   "report_style_numbering": false,
   "user_envs_cfg": false
  },
  "toc": {
   "base_numbering": 1,
   "nav_menu": {},
   "number_sections": true,
   "sideBar": true,
   "skip_h1_title": false,
   "title_cell": "Table of Contents",
   "title_sidebar": "Contents",
   "toc_cell": false,
   "toc_position": {},
   "toc_section_display": true,
   "toc_window_display": false
  },
  "varInspector": {
   "cols": {
    "lenName": 16,
    "lenType": 16,
    "lenVar": 40
   },
   "kernels_config": {
    "python": {
     "delete_cmd_postfix": "",
     "delete_cmd_prefix": "del ",
     "library": "var_list.py",
     "varRefreshCmd": "print(var_dic_list())"
    },
    "r": {
     "delete_cmd_postfix": ") ",
     "delete_cmd_prefix": "rm(",
     "library": "var_list.r",
     "varRefreshCmd": "cat(var_dic_list()) "
    }
   },
   "types_to_exclude": [
    "module",
    "function",
    "builtin_function_or_method",
    "instance",
    "_Feature"
   ],
   "window_display": false
  }
 },
 "nbformat": 4,
 "nbformat_minor": 5
}
