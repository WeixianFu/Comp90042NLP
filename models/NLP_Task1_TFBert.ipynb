{
  "cells": [
    {
      "cell_type": "code",
      "execution_count": null,
      "metadata": {
        "id": "robust-swedish"
      },
      "outputs": [],
      "source": [
        "import sys\n",
        "import pandas as pd\n",
        "import numpy as np"
      ],
      "id": "robust-swedish"
    },
    {
      "cell_type": "code",
      "execution_count": null,
      "metadata": {
        "colab": {
          "base_uri": "https://localhost:8080/"
        },
        "id": "HPK3__t17905",
        "outputId": "b5838145-8782-4de7-c19d-e783a29a0ef4"
      },
      "outputs": [
        {
          "name": "stdout",
          "output_type": "stream",
          "text": [
            "Mounted at /content/drive\n"
          ]
        }
      ],
      "source": [
        "from google.colab import drive\n",
        "drive.mount('/content/drive')"
      ],
      "id": "HPK3__t17905"
    },
    {
      "cell_type": "code",
      "execution_count": null,
      "metadata": {
        "colab": {
          "base_uri": "https://localhost:8080/"
        },
        "id": "eNyXpO2wUTw0",
        "outputId": "f53d4e6f-3d49-4ba9-cf3e-c47d5a68ee7c"
      },
      "outputs": [
        {
          "name": "stdout",
          "output_type": "stream",
          "text": [
            "Requirement already satisfied: torch in /usr/local/lib/python3.7/dist-packages (1.11.0+cu113)\n",
            "Requirement already satisfied: torchvision in /usr/local/lib/python3.7/dist-packages (0.12.0+cu113)\n",
            "Requirement already satisfied: transformers in /usr/local/lib/python3.7/dist-packages (4.18.0)\n",
            "Requirement already satisfied: typing-extensions in /usr/local/lib/python3.7/dist-packages (from torch) (4.2.0)\n",
            "Requirement already satisfied: requests in /usr/local/lib/python3.7/dist-packages (from torchvision) (2.23.0)\n",
            "Requirement already satisfied: numpy in /usr/local/lib/python3.7/dist-packages (from torchvision) (1.21.6)\n",
            "Requirement already satisfied: pillow!=8.3.*,>=5.3.0 in /usr/local/lib/python3.7/dist-packages (from torchvision) (7.1.2)\n",
            "Requirement already satisfied: packaging>=20.0 in /usr/local/lib/python3.7/dist-packages (from transformers) (21.3)\n",
            "Requirement already satisfied: sacremoses in /usr/local/lib/python3.7/dist-packages (from transformers) (0.0.53)\n",
            "Requirement already satisfied: importlib-metadata in /usr/local/lib/python3.7/dist-packages (from transformers) (4.11.3)\n",
            "Requirement already satisfied: filelock in /usr/local/lib/python3.7/dist-packages (from transformers) (3.6.0)\n",
            "Requirement already satisfied: tqdm>=4.27 in /usr/local/lib/python3.7/dist-packages (from transformers) (4.64.0)\n",
            "Requirement already satisfied: huggingface-hub<1.0,>=0.1.0 in /usr/local/lib/python3.7/dist-packages (from transformers) (0.5.1)\n",
            "Requirement already satisfied: regex!=2019.12.17 in /usr/local/lib/python3.7/dist-packages (from transformers) (2019.12.20)\n",
            "Requirement already satisfied: tokenizers!=0.11.3,<0.13,>=0.11.1 in /usr/local/lib/python3.7/dist-packages (from transformers) (0.12.1)\n",
            "Requirement already satisfied: pyyaml>=5.1 in /usr/local/lib/python3.7/dist-packages (from transformers) (6.0)\n",
            "Requirement already satisfied: pyparsing!=3.0.5,>=2.0.2 in /usr/local/lib/python3.7/dist-packages (from packaging>=20.0->transformers) (3.0.8)\n",
            "Requirement already satisfied: zipp>=0.5 in /usr/local/lib/python3.7/dist-packages (from importlib-metadata->transformers) (3.8.0)\n",
            "Requirement already satisfied: urllib3!=1.25.0,!=1.25.1,<1.26,>=1.21.1 in /usr/local/lib/python3.7/dist-packages (from requests->torchvision) (1.24.3)\n",
            "Requirement already satisfied: idna<3,>=2.5 in /usr/local/lib/python3.7/dist-packages (from requests->torchvision) (2.10)\n",
            "Requirement already satisfied: certifi>=2017.4.17 in /usr/local/lib/python3.7/dist-packages (from requests->torchvision) (2021.10.8)\n",
            "Requirement already satisfied: chardet<4,>=3.0.2 in /usr/local/lib/python3.7/dist-packages (from requests->torchvision) (3.0.4)\n",
            "Requirement already satisfied: joblib in /usr/local/lib/python3.7/dist-packages (from sacremoses->transformers) (1.1.0)\n",
            "Requirement already satisfied: click in /usr/local/lib/python3.7/dist-packages (from sacremoses->transformers) (7.1.2)\n",
            "Requirement already satisfied: six in /usr/local/lib/python3.7/dist-packages (from sacremoses->transformers) (1.15.0)\n"
          ]
        }
      ],
      "source": [
        "!pip install torch torchvision transformers"
      ],
      "id": "eNyXpO2wUTw0"
    },
    {
      "cell_type": "code",
      "execution_count": null,
      "metadata": {
        "colab": {
          "base_uri": "https://localhost:8080/"
        },
        "id": "McKesVXHUkCD",
        "outputId": "15ec2119-a2e3-4a96-eee6-426e1bd3f63b"
      },
      "outputs": [
        {
          "name": "stdout",
          "output_type": "stream",
          "text": [
            "Requirement already satisfied: emoji in /usr/local/lib/python3.7/dist-packages (1.7.0)\n"
          ]
        }
      ],
      "source": [
        "!pip install emoji"
      ],
      "id": "McKesVXHUkCD"
    },
    {
      "cell_type": "code",
      "execution_count": null,
      "metadata": {
        "id": "caroline-carnival"
      },
      "outputs": [],
      "source": [
        "train_df = pd.read_csv('train.csv')\n",
        "dev_df = pd.read_csv('dev.csv')\n",
        "test_df = pd.read_csv('test.csv')"
      ],
      "id": "caroline-carnival"
    },
    {
      "cell_type": "code",
      "execution_count": null,
      "metadata": {
        "colab": {
          "base_uri": "https://localhost:8080/",
          "height": 423
        },
        "id": "mobile-jewel",
        "outputId": "4a4ce261-7d97-4d26-db14-bfcf570f35f0",
        "scrolled": true
      },
      "outputs": [
        {
          "data": {
            "text/html": [
              "\n",
              "  <div id=\"df-35b56b15-aabb-4f05-8b8a-b09488d36076\">\n",
              "    <div class=\"colab-df-container\">\n",
              "      <div>\n",
              "<style scoped>\n",
              "    .dataframe tbody tr th:only-of-type {\n",
              "        vertical-align: middle;\n",
              "    }\n",
              "\n",
              "    .dataframe tbody tr th {\n",
              "        vertical-align: top;\n",
              "    }\n",
              "\n",
              "    .dataframe thead th {\n",
              "        text-align: right;\n",
              "    }\n",
              "</style>\n",
              "<table border=\"1\" class=\"dataframe\">\n",
              "  <thead>\n",
              "    <tr style=\"text-align: right;\">\n",
              "      <th></th>\n",
              "      <th>Unnamed: 0</th>\n",
              "      <th>text</th>\n",
              "      <th>label</th>\n",
              "      <th>id</th>\n",
              "    </tr>\n",
              "  </thead>\n",
              "  <tbody>\n",
              "    <tr>\n",
              "      <th>0</th>\n",
              "      <td>0</td>\n",
              "      <td>4. Can eating garlic help prevent infection wi...</td>\n",
              "      <td>0</td>\n",
              "      <td>1250219300389974016</td>\n",
              "    </tr>\n",
              "    <tr>\n",
              "      <th>1</th>\n",
              "      <td>1</td>\n",
              "      <td>French police chief killed himself after #Char...</td>\n",
              "      <td>1</td>\n",
              "      <td>554886875303780352</td>\n",
              "    </tr>\n",
              "    <tr>\n",
              "      <th>2</th>\n",
              "      <td>2</td>\n",
              "      <td>Coronavirus disease (COVID-19) advice for the ...</td>\n",
              "      <td>0</td>\n",
              "      <td>1237901309011021825</td>\n",
              "    </tr>\n",
              "    <tr>\n",
              "      <th>3</th>\n",
              "      <td>3</td>\n",
              "      <td>Ottawa police confirm that there were multiple...</td>\n",
              "      <td>0</td>\n",
              "      <td>524958128392376320</td>\n",
              "    </tr>\n",
              "    <tr>\n",
              "      <th>4</th>\n",
              "      <td>4</td>\n",
              "      <td>if the primary focus of a government isn't to ...</td>\n",
              "      <td>0</td>\n",
              "      <td>1239295488677085185</td>\n",
              "    </tr>\n",
              "    <tr>\n",
              "      <th>...</th>\n",
              "      <td>...</td>\n",
              "      <td>...</td>\n",
              "      <td>...</td>\n",
              "      <td>...</td>\n",
              "    </tr>\n",
              "    <tr>\n",
              "      <th>1802</th>\n",
              "      <td>1802</td>\n",
              "      <td>Desperate Ted Cruz Claims Planned Parenthood S...</td>\n",
              "      <td>1</td>\n",
              "      <td>671181758692507648</td>\n",
              "    </tr>\n",
              "    <tr>\n",
              "      <th>1803</th>\n",
              "      <td>1803</td>\n",
              "      <td>\"Thoughts and prayers are not enough.\" Pres. O...</td>\n",
              "      <td>1</td>\n",
              "      <td>672513234419638273</td>\n",
              "    </tr>\n",
              "    <tr>\n",
              "      <th>1804</th>\n",
              "      <td>1804</td>\n",
              "      <td>Police have surrounded this building where the...</td>\n",
              "      <td>0</td>\n",
              "      <td>553508098825261056</td>\n",
              "    </tr>\n",
              "    <tr>\n",
              "      <th>1805</th>\n",
              "      <td>1805</td>\n",
              "      <td>@Kirstenjoyweiss @MattFabrication @prestone85 ...</td>\n",
              "      <td>0</td>\n",
              "      <td>1249479605582327808</td>\n",
              "    </tr>\n",
              "    <tr>\n",
              "      <th>1806</th>\n",
              "      <td>1806</td>\n",
              "      <td>Excellent. https://t.co/9XHsNRL0Xx @rosierawle...</td>\n",
              "      <td>0</td>\n",
              "      <td>1241082793737818113</td>\n",
              "    </tr>\n",
              "  </tbody>\n",
              "</table>\n",
              "<p>1807 rows × 4 columns</p>\n",
              "</div>\n",
              "      <button class=\"colab-df-convert\" onclick=\"convertToInteractive('df-35b56b15-aabb-4f05-8b8a-b09488d36076')\"\n",
              "              title=\"Convert this dataframe to an interactive table.\"\n",
              "              style=\"display:none;\">\n",
              "        \n",
              "  <svg xmlns=\"http://www.w3.org/2000/svg\" height=\"24px\"viewBox=\"0 0 24 24\"\n",
              "       width=\"24px\">\n",
              "    <path d=\"M0 0h24v24H0V0z\" fill=\"none\"/>\n",
              "    <path d=\"M18.56 5.44l.94 2.06.94-2.06 2.06-.94-2.06-.94-.94-2.06-.94 2.06-2.06.94zm-11 1L8.5 8.5l.94-2.06 2.06-.94-2.06-.94L8.5 2.5l-.94 2.06-2.06.94zm10 10l.94 2.06.94-2.06 2.06-.94-2.06-.94-.94-2.06-.94 2.06-2.06.94z\"/><path d=\"M17.41 7.96l-1.37-1.37c-.4-.4-.92-.59-1.43-.59-.52 0-1.04.2-1.43.59L10.3 9.45l-7.72 7.72c-.78.78-.78 2.05 0 2.83L4 21.41c.39.39.9.59 1.41.59.51 0 1.02-.2 1.41-.59l7.78-7.78 2.81-2.81c.8-.78.8-2.07 0-2.86zM5.41 20L4 18.59l7.72-7.72 1.47 1.35L5.41 20z\"/>\n",
              "  </svg>\n",
              "      </button>\n",
              "      \n",
              "  <style>\n",
              "    .colab-df-container {\n",
              "      display:flex;\n",
              "      flex-wrap:wrap;\n",
              "      gap: 12px;\n",
              "    }\n",
              "\n",
              "    .colab-df-convert {\n",
              "      background-color: #E8F0FE;\n",
              "      border: none;\n",
              "      border-radius: 50%;\n",
              "      cursor: pointer;\n",
              "      display: none;\n",
              "      fill: #1967D2;\n",
              "      height: 32px;\n",
              "      padding: 0 0 0 0;\n",
              "      width: 32px;\n",
              "    }\n",
              "\n",
              "    .colab-df-convert:hover {\n",
              "      background-color: #E2EBFA;\n",
              "      box-shadow: 0px 1px 2px rgba(60, 64, 67, 0.3), 0px 1px 3px 1px rgba(60, 64, 67, 0.15);\n",
              "      fill: #174EA6;\n",
              "    }\n",
              "\n",
              "    [theme=dark] .colab-df-convert {\n",
              "      background-color: #3B4455;\n",
              "      fill: #D2E3FC;\n",
              "    }\n",
              "\n",
              "    [theme=dark] .colab-df-convert:hover {\n",
              "      background-color: #434B5C;\n",
              "      box-shadow: 0px 1px 3px 1px rgba(0, 0, 0, 0.15);\n",
              "      filter: drop-shadow(0px 1px 2px rgba(0, 0, 0, 0.3));\n",
              "      fill: #FFFFFF;\n",
              "    }\n",
              "  </style>\n",
              "\n",
              "      <script>\n",
              "        const buttonEl =\n",
              "          document.querySelector('#df-35b56b15-aabb-4f05-8b8a-b09488d36076 button.colab-df-convert');\n",
              "        buttonEl.style.display =\n",
              "          google.colab.kernel.accessAllowed ? 'block' : 'none';\n",
              "\n",
              "        async function convertToInteractive(key) {\n",
              "          const element = document.querySelector('#df-35b56b15-aabb-4f05-8b8a-b09488d36076');\n",
              "          const dataTable =\n",
              "            await google.colab.kernel.invokeFunction('convertToInteractive',\n",
              "                                                     [key], {});\n",
              "          if (!dataTable) return;\n",
              "\n",
              "          const docLinkHtml = 'Like what you see? Visit the ' +\n",
              "            '<a target=\"_blank\" href=https://colab.research.google.com/notebooks/data_table.ipynb>data table notebook</a>'\n",
              "            + ' to learn more about interactive tables.';\n",
              "          element.innerHTML = '';\n",
              "          dataTable['output_type'] = 'display_data';\n",
              "          await google.colab.output.renderOutput(dataTable, element);\n",
              "          const docLink = document.createElement('div');\n",
              "          docLink.innerHTML = docLinkHtml;\n",
              "          element.appendChild(docLink);\n",
              "        }\n",
              "      </script>\n",
              "    </div>\n",
              "  </div>\n",
              "  "
            ],
            "text/plain": [
              "      Unnamed: 0                                               text  label  \\\n",
              "0              0  4. Can eating garlic help prevent infection wi...      0   \n",
              "1              1  French police chief killed himself after #Char...      1   \n",
              "2              2  Coronavirus disease (COVID-19) advice for the ...      0   \n",
              "3              3  Ottawa police confirm that there were multiple...      0   \n",
              "4              4  if the primary focus of a government isn't to ...      0   \n",
              "...          ...                                                ...    ...   \n",
              "1802        1802  Desperate Ted Cruz Claims Planned Parenthood S...      1   \n",
              "1803        1803  \"Thoughts and prayers are not enough.\" Pres. O...      1   \n",
              "1804        1804  Police have surrounded this building where the...      0   \n",
              "1805        1805  @Kirstenjoyweiss @MattFabrication @prestone85 ...      0   \n",
              "1806        1806  Excellent. https://t.co/9XHsNRL0Xx @rosierawle...      0   \n",
              "\n",
              "                       id  \n",
              "0     1250219300389974016  \n",
              "1      554886875303780352  \n",
              "2     1237901309011021825  \n",
              "3      524958128392376320  \n",
              "4     1239295488677085185  \n",
              "...                   ...  \n",
              "1802   671181758692507648  \n",
              "1803   672513234419638273  \n",
              "1804   553508098825261056  \n",
              "1805  1249479605582327808  \n",
              "1806  1241082793737818113  \n",
              "\n",
              "[1807 rows x 4 columns]"
            ]
          },
          "execution_count": 40,
          "metadata": {},
          "output_type": "execute_result"
        }
      ],
      "source": [
        "train_df"
      ],
      "id": "mobile-jewel"
    },
    {
      "cell_type": "code",
      "execution_count": null,
      "metadata": {
        "id": "sudden-typing"
      },
      "outputs": [],
      "source": [
        "from transformers import BertTokenizer\n",
        "import tensorflow as tf \n",
        "from tensorflow.keras.optimizers import Adam\n",
        "from transformers import TFBertModel\n",
        "from keras import backend as k_backend\n",
        "\n",
        "tokenizer = BertTokenizer.from_pretrained('bert-base-uncased', do_lower_case=True)\n",
        "def bert_encode(data, max_seq_length) :\n",
        "    input_ids = []\n",
        "    attention_masks = []\n",
        "    for i in range(len(data.text)):\n",
        "        encoded = tokenizer.encode_plus(\n",
        "            data.text[i],\n",
        "            add_special_tokens=True,\n",
        "            max_length=max_seq_length,\n",
        "            pad_to_max_length=True,\n",
        "            return_attention_mask=True,\n",
        "            truncation = True\n",
        "        )\n",
        "\n",
        "        input_ids.append(encoded['input_ids'])\n",
        "        attention_masks.append(encoded['attention_mask'])\n",
        "    return np.array(input_ids),np.array(attention_masks)"
      ],
      "id": "sudden-typing"
    },
    {
      "cell_type": "code",
      "execution_count": null,
      "metadata": {
        "id": "trained-notice"
      },
      "outputs": [],
      "source": [
        "def recall(y_true, y_pred):\n",
        "    true_positives = k_backend.sum(k_backend.round(k_backend.clip(y_true * y_pred, 0, 1)))\n",
        "    possible_positives = k_backend.sum(k_backend.round(k_backend.clip(y_true, 0, 1)))\n",
        "    recall = true_positives / (possible_positives + k_backend.epsilon())\n",
        "    return recall\n",
        "\n",
        "def precision(y_true, y_pred):\n",
        "    true_positives = k_backend.sum(k_backend.round(k_backend.clip(y_true * y_pred, 0, 1)))\n",
        "    predicted_positives = k_backend.sum(k_backend.round(k_backend.clip(y_pred, 0, 1)))\n",
        "    precision = true_positives / (predicted_positives + k_backend.epsilon())\n",
        "    return precision\n",
        "    \n",
        "def f1(y_true, y_pred):\n",
        "    precision_value = precision(y_true, y_pred)\n",
        "    recall_value = recall(y_true, y_pred)\n",
        "    return 2*((precision_value*recall_value) / (precision_value+recall_value+k_backend.epsilon()))"
      ],
      "id": "trained-notice"
    },
    {
      "cell_type": "code",
      "execution_count": null,
      "metadata": {
        "id": "athletic-flush"
      },
      "outputs": [],
      "source": [
        "def create_model(bert_model):\n",
        "    input_ids = tf.keras.Input(shape=(300,),dtype='int32')\n",
        "    attention_masks = tf.keras.Input(shape=(300,),dtype='int32')\n",
        "\n",
        "    output = bert_model([input_ids,attention_masks])\n",
        "    output = output[1]\n",
        "    output = tf.keras.layers.Dense(32,activation='relu')(output)\n",
        "    output = tf.keras.layers.Dropout(0.3)(output)\n",
        "    output = tf.keras.layers.Dense(1,activation='sigmoid')(output)\n",
        "    model = tf.keras.models.Model(inputs = [input_ids,attention_masks],outputs = output)\n",
        "    model.compile(Adam(lr=6e-6), loss='binary_crossentropy', metrics=['accuracy', recall, precision, f1])\n",
        "    return model"
      ],
      "id": "athletic-flush"
    },
    {
      "cell_type": "code",
      "execution_count": null,
      "metadata": {
        "colab": {
          "base_uri": "https://localhost:8080/"
        },
        "id": "enabling-medicare",
        "outputId": "9754e7c3-7b82-4c36-9cc5-1dc63a210a56"
      },
      "outputs": [
        {
          "name": "stderr",
          "output_type": "stream",
          "text": [
            "Some layers from the model checkpoint at bert-base-uncased were not used when initializing TFBertModel: ['nsp___cls', 'mlm___cls']\n",
            "- This IS expected if you are initializing TFBertModel from the checkpoint of a model trained on another task or with another architecture (e.g. initializing a BertForSequenceClassification model from a BertForPreTraining model).\n",
            "- This IS NOT expected if you are initializing TFBertModel from the checkpoint of a model that you expect to be exactly identical (initializing a BertForSequenceClassification model from a BertForSequenceClassification model).\n",
            "All the layers of TFBertModel were initialized from the model checkpoint at bert-base-uncased.\n",
            "If your task is similar to the task the model of the checkpoint was trained on, you can already use TFBertModel for predictions without further training.\n"
          ]
        }
      ],
      "source": [
        "TFbert_model = TFBertModel.from_pretrained('bert-base-uncased')\n",
        "model = create_model(TFbert_model)"
      ],
      "id": "enabling-medicare"
    },
    {
      "cell_type": "code",
      "execution_count": null,
      "metadata": {
        "colab": {
          "base_uri": "https://localhost:8080/"
        },
        "id": "aging-greensboro",
        "outputId": "053a306e-215c-4e88-c32c-e2056a5f7de8"
      },
      "outputs": [
        {
          "name": "stderr",
          "output_type": "stream",
          "text": [
            "/usr/local/lib/python3.7/dist-packages/transformers/tokenization_utils_base.py:2269: FutureWarning: The `pad_to_max_length` argument is deprecated and will be removed in a future version, use `padding=True` or `padding='longest'` to pad to the longest sequence in the batch, or use `padding='max_length'` to pad to a max length. In this case, you can give a specific length with `max_length` (e.g. `max_length=45`) or leave max_length to None to pad to the maximal input size of the model (e.g. 512 for Bert).\n",
            "  FutureWarning,\n"
          ]
        }
      ],
      "source": [
        "train_input_ids,train_attention_masks = bert_encode(train_df,300)\n",
        "dev_input_ids,dev_attention_masks = bert_encode(dev_df,300)\n",
        "test_input_ids,test_attention_masks = bert_encode(test_df,300)\n",
        "dev_data = ([dev_input_ids, dev_attention_masks], dev_df.label)"
      ],
      "id": "aging-greensboro"
    },
    {
      "cell_type": "code",
      "execution_count": null,
      "metadata": {
        "colab": {
          "base_uri": "https://localhost:8080/"
        },
        "id": "sustainable-definition",
        "outputId": "aeb6af61-eda6-42cf-baf4-568b86415eaa"
      },
      "outputs": [
        {
          "name": "stdout",
          "output_type": "stream",
          "text": [
            "Epoch 1/8\n",
            "452/452 [==============================] - 167s 369ms/step - loss: 0.4593 - accuracy: 0.7825 - recall: 0.1654 - precision: 0.1742 - f1: 0.1603 - val_loss: 0.3603 - val_accuracy: 0.8252 - val_recall: 0.2707 - val_precision: 0.2819 - val_f1: 0.2707\n",
            "Epoch 2/8\n",
            "452/452 [==============================] - 163s 362ms/step - loss: 0.2573 - accuracy: 0.9009 - recall: 0.4991 - precision: 0.4851 - f1: 0.4810 - val_loss: 0.2984 - val_accuracy: 0.8706 - val_recall: 0.3647 - val_precision: 0.4161 - val_f1: 0.3781\n",
            "Epoch 3/8\n",
            "452/452 [==============================] - 163s 362ms/step - loss: 0.1494 - accuracy: 0.9546 - recall: 0.5996 - precision: 0.5931 - f1: 0.5909 - val_loss: 0.2660 - val_accuracy: 0.9076 - val_recall: 0.4866 - val_precision: 0.5067 - val_f1: 0.4879\n",
            "Epoch 4/8\n",
            "452/452 [==============================] - 163s 361ms/step - loss: 0.0941 - accuracy: 0.9745 - recall: 0.6180 - precision: 0.6114 - f1: 0.6112 - val_loss: 0.2359 - val_accuracy: 0.9143 - val_recall: 0.4720 - val_precision: 0.5268 - val_f1: 0.4895\n",
            "Epoch 5/8\n",
            "452/452 [==============================] - 163s 361ms/step - loss: 0.0580 - accuracy: 0.9851 - recall: 0.6309 - precision: 0.6320 - f1: 0.6289 - val_loss: 0.3642 - val_accuracy: 0.8840 - val_recall: 0.6544 - val_precision: 0.5783 - val_f1: 0.6036\n",
            "Epoch 6/8\n",
            "452/452 [==============================] - 163s 361ms/step - loss: 0.0388 - accuracy: 0.9900 - recall: 0.6268 - precision: 0.6250 - f1: 0.6246 - val_loss: 0.2018 - val_accuracy: 0.9345 - val_recall: 0.6107 - val_precision: 0.5895 - val_f1: 0.5928\n",
            "Epoch 7/8\n",
            "452/452 [==============================] - 163s 361ms/step - loss: 0.0190 - accuracy: 0.9956 - recall: 0.6327 - precision: 0.6309 - f1: 0.6308 - val_loss: 0.2242 - val_accuracy: 0.9395 - val_recall: 0.5492 - val_precision: 0.5727 - val_f1: 0.5528\n",
            "Epoch 8/8\n",
            "452/452 [==============================] - 163s 361ms/step - loss: 0.0329 - accuracy: 0.9917 - recall: 0.6232 - precision: 0.6232 - f1: 0.6223 - val_loss: 0.2355 - val_accuracy: 0.9378 - val_recall: 0.5839 - val_precision: 0.5984 - val_f1: 0.5841\n"
          ]
        }
      ],
      "source": [
        "callback = tf.keras.callbacks.EarlyStopping(monitor='loss', patience=3)\n",
        "history = model.fit([train_input_ids,train_attention_masks], train_df.label, validation_data=dev_data ,callbacks=[callback], epochs=8, batch_size=4)"
      ],
      "id": "sustainable-definition"
    },
    {
      "cell_type": "code",
      "execution_count": null,
      "metadata": {
        "colab": {
          "base_uri": "https://localhost:8080/"
        },
        "id": "NaVYW0LDatOB",
        "outputId": "5f6d6695-d472-4c86-dfa4-34746ac451dc"
      },
      "outputs": [
        {
          "name": "stderr",
          "output_type": "stream",
          "text": [
            "WARNING:absl:Found untraced functions such as embeddings_layer_call_fn, embeddings_layer_call_and_return_conditional_losses, encoder_layer_call_fn, encoder_layer_call_and_return_conditional_losses, pooler_layer_call_fn while saving (showing 5 of 420). These functions will not be directly callable after loading.\n"
          ]
        },
        {
          "name": "stdout",
          "output_type": "stream",
          "text": [
            "INFO:tensorflow:Assets written to: .TFbert_final/assets\n"
          ]
        },
        {
          "name": "stderr",
          "output_type": "stream",
          "text": [
            "INFO:tensorflow:Assets written to: .TFbert_final/assets\n"
          ]
        }
      ],
      "source": [
        "model.save(\".TFbert_final\")"
      ],
      "id": "NaVYW0LDatOB"
    },
    {
      "cell_type": "code",
      "execution_count": null,
      "metadata": {
        "id": "21Zlk4mEn58s"
      },
      "outputs": [],
      "source": [
        "pre_dev_labels = model.predict([dev_input_ids, dev_attention_masks])\n",
        "pre_dev_labels = np.round(pre_dev_labels).astype(int)"
      ],
      "id": "21Zlk4mEn58s"
    },
    {
      "cell_type": "code",
      "execution_count": null,
      "metadata": {
        "colab": {
          "base_uri": "https://localhost:8080/"
        },
        "id": "CHF5igXWn6FJ",
        "outputId": "c53f9be5-f148-4f95-b4c9-de9684b7ab35"
      },
      "outputs": [
        {
          "name": "stdout",
          "output_type": "stream",
          "text": [
            "0.9378151260504202\n"
          ]
        }
      ],
      "source": [
        "import sklearn.metrics as metrics\n",
        "print(metrics.accuracy_score(dev_df.label, pre_dev_labels))"
      ],
      "id": "CHF5igXWn6FJ"
    },
    {
      "cell_type": "code",
      "execution_count": null,
      "metadata": {
        "colab": {
          "base_uri": "https://localhost:8080/"
        },
        "id": "9X_ScBFOn6IL",
        "outputId": "34862421-bcc8-4d00-8c0c-c8bd0af7be8e"
      },
      "outputs": [
        {
          "name": "stdout",
          "output_type": "stream",
          "text": [
            "0.8623188405797102\n",
            "0.8686131386861314\n",
            "0.9125086934922999\n",
            "0.913564211264463\n"
          ]
        }
      ],
      "source": [
        "print(metrics.precision_score(dev_df.label, pre_dev_labels))\n",
        "print(metrics.recall_score(dev_df.label, pre_dev_labels))\n",
        "print(metrics.f1_score(dev_df.label, pre_dev_labels, average='macro'))\n",
        "print(metrics.roc_auc_score(dev_df.label, pre_dev_labels))"
      ],
      "id": "9X_ScBFOn6IL"
    },
    {
      "cell_type": "code",
      "execution_count": null,
      "metadata": {
        "id": "fitted-trader"
      },
      "outputs": [],
      "source": [
        "# For Kaggle\n",
        "result = model.predict([test_input_ids, test_attention_masks])\n",
        "result = np.round(result).astype(int)"
      ],
      "id": "fitted-trader"
    },
    {
      "cell_type": "code",
      "execution_count": null,
      "metadata": {
        "id": "QkSqr1DPgM7g"
      },
      "outputs": [],
      "source": [
        "with open('test.predictions_TF.txt', 'w') as output:\n",
        "  output.write('Id,Predicted\\n')\n",
        "  counter = 0\n",
        "  for elem in list(result):\n",
        "    for elem2 in list(elem):\n",
        "      output.write(str(counter) + ',' + str(elem2)+'\\n')\n",
        "      counter+=1\n"
      ],
      "id": "QkSqr1DPgM7g"
    },
    {
      "cell_type": "code",
      "execution_count": null,
      "metadata": {
        "id": "tT0tp7TbGXOY"
      },
      "outputs": [],
      "source": [
        "#For Task 2\n",
        "covid_df = pd.read_csv('covid.csv')"
      ],
      "id": "tT0tp7TbGXOY"
    },
    {
      "cell_type": "code",
      "execution_count": null,
      "metadata": {
        "colab": {
          "base_uri": "https://localhost:8080/"
        },
        "id": "TW6vPj4cGHEY",
        "outputId": "3a802baa-e448-4633-a2e9-772782f86e16"
      },
      "outputs": [
        {
          "name": "stderr",
          "output_type": "stream",
          "text": [
            "/usr/local/lib/python3.7/dist-packages/transformers/tokenization_utils_base.py:2269: FutureWarning: The `pad_to_max_length` argument is deprecated and will be removed in a future version, use `padding=True` or `padding='longest'` to pad to the longest sequence in the batch, or use `padding='max_length'` to pad to a max length. In this case, you can give a specific length with `max_length` (e.g. `max_length=45`) or leave max_length to None to pad to the maximal input size of the model (e.g. 512 for Bert).\n",
            "  FutureWarning,\n"
          ]
        }
      ],
      "source": [
        "covid_input_ids,covid_attention_masks = bert_encode(covid_df,512)"
      ],
      "id": "TW6vPj4cGHEY"
    },
    {
      "cell_type": "code",
      "execution_count": null,
      "metadata": {
        "id": "D6tYskpIGHXe"
      },
      "outputs": [],
      "source": [
        "result_covid = model.predict([covid_input_ids, covid_attention_masks])\n",
        "result_covid = np.round(result_covid).astype(int)"
      ],
      "id": "D6tYskpIGHXe"
    },
    {
      "cell_type": "code",
      "execution_count": null,
      "metadata": {
        "id": "F5ODXyOPGHeV"
      },
      "outputs": [],
      "source": [
        "with open('covid.predictions.txt', 'w') as output:\n",
        "  output.write('Id,Predicted\\n')\n",
        "  counter = 0\n",
        "  for elem in list(result_covid):\n",
        "    for elem2 in list(elem):\n",
        "      output.write(str(counter) + ',' + str(elem2)+'\\n')\n",
        "      counter+=1"
      ],
      "id": "F5ODXyOPGHeV"
    },
    {
      "cell_type": "code",
      "execution_count": null,
      "metadata": {
        "id": "ZCUUDWtCZCeK"
      },
      "outputs": [],
      "source": [
        "#covid_labels = np.argmax(result_covid, axis = -1)\n",
        "#covid_output = pd.DataFrame({'id':covid_df.id,'target':covid_labels})\n",
        "#covid_output.to_csv(\"covid_labels.csv\",index=False,sep=',')"
      ],
      "id": "ZCUUDWtCZCeK"
    }
  ],
  "metadata": {
    "accelerator": "GPU",
    "colab": {
      "collapsed_sections": [],
      "machine_shape": "hm",
      "name": "NLP_Task1_TFBert.ipynb",
      "provenance": []
    },
    "environment": {
      "name": "tf2-gpu.2-3.m65",
      "type": "gcloud",
      "uri": "gcr.io/deeplearning-platform-release/tf2-gpu.2-3:m65"
    },
    "kernelspec": {
      "display_name": "Python 3",
      "language": "python",
      "name": "python3"
    },
    "language_info": {
      "codemirror_mode": {
        "name": "ipython",
        "version": 3
      },
      "file_extension": ".py",
      "mimetype": "text/x-python",
      "name": "python",
      "nbconvert_exporter": "python",
      "pygments_lexer": "ipython3",
      "version": "3.6.4"
    }
  },
  "nbformat": 4,
  "nbformat_minor": 5
}