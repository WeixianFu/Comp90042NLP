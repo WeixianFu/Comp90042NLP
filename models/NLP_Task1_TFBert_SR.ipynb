{
  "cells": [
    {
      "cell_type": "code",
      "execution_count": null,
      "id": "robust-swedish",
      "metadata": {
        "id": "robust-swedish"
      },
      "outputs": [],
      "source": [
        "import sys\n",
        "import pandas as pd\n",
        "import numpy as np"
      ]
    },
    {
      "cell_type": "code",
      "source": [
        "!pip install torch torchvision transformers"
      ],
      "metadata": {
        "id": "eNyXpO2wUTw0",
        "outputId": "f4b4918f-c3d4-4781-b95c-cc97e46743c6",
        "colab": {
          "base_uri": "https://localhost:8080/"
        }
      },
      "id": "eNyXpO2wUTw0",
      "execution_count": null,
      "outputs": [
        {
          "output_type": "stream",
          "name": "stdout",
          "text": [
            "Requirement already satisfied: torch in /usr/local/lib/python3.7/dist-packages (1.11.0+cu113)\n",
            "Requirement already satisfied: torchvision in /usr/local/lib/python3.7/dist-packages (0.12.0+cu113)\n",
            "Requirement already satisfied: transformers in /usr/local/lib/python3.7/dist-packages (4.18.0)\n",
            "Requirement already satisfied: typing-extensions in /usr/local/lib/python3.7/dist-packages (from torch) (4.2.0)\n",
            "Requirement already satisfied: requests in /usr/local/lib/python3.7/dist-packages (from torchvision) (2.23.0)\n",
            "Requirement already satisfied: pillow!=8.3.*,>=5.3.0 in /usr/local/lib/python3.7/dist-packages (from torchvision) (7.1.2)\n",
            "Requirement already satisfied: numpy in /usr/local/lib/python3.7/dist-packages (from torchvision) (1.21.6)\n",
            "Requirement already satisfied: tqdm>=4.27 in /usr/local/lib/python3.7/dist-packages (from transformers) (4.64.0)\n",
            "Requirement already satisfied: importlib-metadata in /usr/local/lib/python3.7/dist-packages (from transformers) (4.11.3)\n",
            "Requirement already satisfied: huggingface-hub<1.0,>=0.1.0 in /usr/local/lib/python3.7/dist-packages (from transformers) (0.5.1)\n",
            "Requirement already satisfied: regex!=2019.12.17 in /usr/local/lib/python3.7/dist-packages (from transformers) (2019.12.20)\n",
            "Requirement already satisfied: sacremoses in /usr/local/lib/python3.7/dist-packages (from transformers) (0.0.53)\n",
            "Requirement already satisfied: packaging>=20.0 in /usr/local/lib/python3.7/dist-packages (from transformers) (21.3)\n",
            "Requirement already satisfied: pyyaml>=5.1 in /usr/local/lib/python3.7/dist-packages (from transformers) (6.0)\n",
            "Requirement already satisfied: filelock in /usr/local/lib/python3.7/dist-packages (from transformers) (3.6.0)\n",
            "Requirement already satisfied: tokenizers!=0.11.3,<0.13,>=0.11.1 in /usr/local/lib/python3.7/dist-packages (from transformers) (0.12.1)\n",
            "Requirement already satisfied: pyparsing!=3.0.5,>=2.0.2 in /usr/local/lib/python3.7/dist-packages (from packaging>=20.0->transformers) (3.0.8)\n",
            "Requirement already satisfied: zipp>=0.5 in /usr/local/lib/python3.7/dist-packages (from importlib-metadata->transformers) (3.8.0)\n",
            "Requirement already satisfied: certifi>=2017.4.17 in /usr/local/lib/python3.7/dist-packages (from requests->torchvision) (2021.10.8)\n",
            "Requirement already satisfied: idna<3,>=2.5 in /usr/local/lib/python3.7/dist-packages (from requests->torchvision) (2.10)\n",
            "Requirement already satisfied: chardet<4,>=3.0.2 in /usr/local/lib/python3.7/dist-packages (from requests->torchvision) (3.0.4)\n",
            "Requirement already satisfied: urllib3!=1.25.0,!=1.25.1,<1.26,>=1.21.1 in /usr/local/lib/python3.7/dist-packages (from requests->torchvision) (1.24.3)\n",
            "Requirement already satisfied: joblib in /usr/local/lib/python3.7/dist-packages (from sacremoses->transformers) (1.1.0)\n",
            "Requirement already satisfied: six in /usr/local/lib/python3.7/dist-packages (from sacremoses->transformers) (1.15.0)\n",
            "Requirement already satisfied: click in /usr/local/lib/python3.7/dist-packages (from sacremoses->transformers) (7.1.2)\n"
          ]
        }
      ]
    },
    {
      "cell_type": "code",
      "source": [
        "!pip install emoji"
      ],
      "metadata": {
        "id": "McKesVXHUkCD",
        "outputId": "75ae09e2-09e2-45df-ad78-025b867c8b28",
        "colab": {
          "base_uri": "https://localhost:8080/"
        }
      },
      "id": "McKesVXHUkCD",
      "execution_count": null,
      "outputs": [
        {
          "output_type": "stream",
          "name": "stdout",
          "text": [
            "Requirement already satisfied: emoji in /usr/local/lib/python3.7/dist-packages (1.7.0)\n"
          ]
        }
      ]
    },
    {
      "cell_type": "code",
      "execution_count": null,
      "id": "caroline-carnival",
      "metadata": {
        "id": "caroline-carnival"
      },
      "outputs": [],
      "source": [
        "train_df = pd.read_csv('train_sr.csv')\n",
        "dev_df = pd.read_csv('dev_sr.csv')\n",
        "test_df = pd.read_csv('test_sr.csv')"
      ]
    },
    {
      "cell_type": "code",
      "execution_count": null,
      "id": "mobile-jewel",
      "metadata": {
        "id": "mobile-jewel",
        "outputId": "d68e7341-d7b5-416f-8bd4-cd2af816a4c0",
        "colab": {
          "base_uri": "https://localhost:8080/",
          "height": 424
        }
      },
      "outputs": [
        {
          "output_type": "execute_result",
          "data": {
            "text/plain": [
              "       Unnamed: 0                                               text  label  \\\n",
              "0               0  5. Can regularly rinsing your nose with saline...      0   \n",
              "1               1  5. Can regularly rinsing your nose with saline...      0   \n",
              "2               2  5. Can regularly rinsing your nose with saline...      0   \n",
              "3               3  5. Can regularly rinsing your nose with saline...      0   \n",
              "4               4  5. Can regularly rinsing your nose with saline...      0   \n",
              "...           ...                                                ...    ...   \n",
              "22680       22680  @lynneSimpkin I can help! 👩‍🏫\\n9am: Socialism ...      0   \n",
              "22681       22681  @lynneSimpkin I can help! 👩‍🏫\\n9am: Socialism ...      0   \n",
              "22682       22682  @lynneSimpkin I can help! 👩‍🏫\\n9am: Socialism ...      0   \n",
              "22683       22683  @lynneSimpkin I can help! 👩‍🏫\\n9am: Socialism ...      0   \n",
              "22684       22684  @lynneSimpkin I can help! 👩‍🏫\\n9am: Socialism ...      0   \n",
              "\n",
              "       index  \n",
              "0          0  \n",
              "1          0  \n",
              "2          0  \n",
              "3          0  \n",
              "4          0  \n",
              "...      ...  \n",
              "22680   1894  \n",
              "22681   1894  \n",
              "22682   1894  \n",
              "22683   1894  \n",
              "22684   1894  \n",
              "\n",
              "[22685 rows x 4 columns]"
            ],
            "text/html": [
              "\n",
              "  <div id=\"df-6ae66a12-b47f-4188-a11e-029ab907896e\">\n",
              "    <div class=\"colab-df-container\">\n",
              "      <div>\n",
              "<style scoped>\n",
              "    .dataframe tbody tr th:only-of-type {\n",
              "        vertical-align: middle;\n",
              "    }\n",
              "\n",
              "    .dataframe tbody tr th {\n",
              "        vertical-align: top;\n",
              "    }\n",
              "\n",
              "    .dataframe thead th {\n",
              "        text-align: right;\n",
              "    }\n",
              "</style>\n",
              "<table border=\"1\" class=\"dataframe\">\n",
              "  <thead>\n",
              "    <tr style=\"text-align: right;\">\n",
              "      <th></th>\n",
              "      <th>Unnamed: 0</th>\n",
              "      <th>text</th>\n",
              "      <th>label</th>\n",
              "      <th>index</th>\n",
              "    </tr>\n",
              "  </thead>\n",
              "  <tbody>\n",
              "    <tr>\n",
              "      <th>0</th>\n",
              "      <td>0</td>\n",
              "      <td>5. Can regularly rinsing your nose with saline...</td>\n",
              "      <td>0</td>\n",
              "      <td>0</td>\n",
              "    </tr>\n",
              "    <tr>\n",
              "      <th>1</th>\n",
              "      <td>1</td>\n",
              "      <td>5. Can regularly rinsing your nose with saline...</td>\n",
              "      <td>0</td>\n",
              "      <td>0</td>\n",
              "    </tr>\n",
              "    <tr>\n",
              "      <th>2</th>\n",
              "      <td>2</td>\n",
              "      <td>5. Can regularly rinsing your nose with saline...</td>\n",
              "      <td>0</td>\n",
              "      <td>0</td>\n",
              "    </tr>\n",
              "    <tr>\n",
              "      <th>3</th>\n",
              "      <td>3</td>\n",
              "      <td>5. Can regularly rinsing your nose with saline...</td>\n",
              "      <td>0</td>\n",
              "      <td>0</td>\n",
              "    </tr>\n",
              "    <tr>\n",
              "      <th>4</th>\n",
              "      <td>4</td>\n",
              "      <td>5. Can regularly rinsing your nose with saline...</td>\n",
              "      <td>0</td>\n",
              "      <td>0</td>\n",
              "    </tr>\n",
              "    <tr>\n",
              "      <th>...</th>\n",
              "      <td>...</td>\n",
              "      <td>...</td>\n",
              "      <td>...</td>\n",
              "      <td>...</td>\n",
              "    </tr>\n",
              "    <tr>\n",
              "      <th>22680</th>\n",
              "      <td>22680</td>\n",
              "      <td>@lynneSimpkin I can help! 👩‍🏫\\n9am: Socialism ...</td>\n",
              "      <td>0</td>\n",
              "      <td>1894</td>\n",
              "    </tr>\n",
              "    <tr>\n",
              "      <th>22681</th>\n",
              "      <td>22681</td>\n",
              "      <td>@lynneSimpkin I can help! 👩‍🏫\\n9am: Socialism ...</td>\n",
              "      <td>0</td>\n",
              "      <td>1894</td>\n",
              "    </tr>\n",
              "    <tr>\n",
              "      <th>22682</th>\n",
              "      <td>22682</td>\n",
              "      <td>@lynneSimpkin I can help! 👩‍🏫\\n9am: Socialism ...</td>\n",
              "      <td>0</td>\n",
              "      <td>1894</td>\n",
              "    </tr>\n",
              "    <tr>\n",
              "      <th>22683</th>\n",
              "      <td>22683</td>\n",
              "      <td>@lynneSimpkin I can help! 👩‍🏫\\n9am: Socialism ...</td>\n",
              "      <td>0</td>\n",
              "      <td>1894</td>\n",
              "    </tr>\n",
              "    <tr>\n",
              "      <th>22684</th>\n",
              "      <td>22684</td>\n",
              "      <td>@lynneSimpkin I can help! 👩‍🏫\\n9am: Socialism ...</td>\n",
              "      <td>0</td>\n",
              "      <td>1894</td>\n",
              "    </tr>\n",
              "  </tbody>\n",
              "</table>\n",
              "<p>22685 rows × 4 columns</p>\n",
              "</div>\n",
              "      <button class=\"colab-df-convert\" onclick=\"convertToInteractive('df-6ae66a12-b47f-4188-a11e-029ab907896e')\"\n",
              "              title=\"Convert this dataframe to an interactive table.\"\n",
              "              style=\"display:none;\">\n",
              "        \n",
              "  <svg xmlns=\"http://www.w3.org/2000/svg\" height=\"24px\"viewBox=\"0 0 24 24\"\n",
              "       width=\"24px\">\n",
              "    <path d=\"M0 0h24v24H0V0z\" fill=\"none\"/>\n",
              "    <path d=\"M18.56 5.44l.94 2.06.94-2.06 2.06-.94-2.06-.94-.94-2.06-.94 2.06-2.06.94zm-11 1L8.5 8.5l.94-2.06 2.06-.94-2.06-.94L8.5 2.5l-.94 2.06-2.06.94zm10 10l.94 2.06.94-2.06 2.06-.94-2.06-.94-.94-2.06-.94 2.06-2.06.94z\"/><path d=\"M17.41 7.96l-1.37-1.37c-.4-.4-.92-.59-1.43-.59-.52 0-1.04.2-1.43.59L10.3 9.45l-7.72 7.72c-.78.78-.78 2.05 0 2.83L4 21.41c.39.39.9.59 1.41.59.51 0 1.02-.2 1.41-.59l7.78-7.78 2.81-2.81c.8-.78.8-2.07 0-2.86zM5.41 20L4 18.59l7.72-7.72 1.47 1.35L5.41 20z\"/>\n",
              "  </svg>\n",
              "      </button>\n",
              "      \n",
              "  <style>\n",
              "    .colab-df-container {\n",
              "      display:flex;\n",
              "      flex-wrap:wrap;\n",
              "      gap: 12px;\n",
              "    }\n",
              "\n",
              "    .colab-df-convert {\n",
              "      background-color: #E8F0FE;\n",
              "      border: none;\n",
              "      border-radius: 50%;\n",
              "      cursor: pointer;\n",
              "      display: none;\n",
              "      fill: #1967D2;\n",
              "      height: 32px;\n",
              "      padding: 0 0 0 0;\n",
              "      width: 32px;\n",
              "    }\n",
              "\n",
              "    .colab-df-convert:hover {\n",
              "      background-color: #E2EBFA;\n",
              "      box-shadow: 0px 1px 2px rgba(60, 64, 67, 0.3), 0px 1px 3px 1px rgba(60, 64, 67, 0.15);\n",
              "      fill: #174EA6;\n",
              "    }\n",
              "\n",
              "    [theme=dark] .colab-df-convert {\n",
              "      background-color: #3B4455;\n",
              "      fill: #D2E3FC;\n",
              "    }\n",
              "\n",
              "    [theme=dark] .colab-df-convert:hover {\n",
              "      background-color: #434B5C;\n",
              "      box-shadow: 0px 1px 3px 1px rgba(0, 0, 0, 0.15);\n",
              "      filter: drop-shadow(0px 1px 2px rgba(0, 0, 0, 0.3));\n",
              "      fill: #FFFFFF;\n",
              "    }\n",
              "  </style>\n",
              "\n",
              "      <script>\n",
              "        const buttonEl =\n",
              "          document.querySelector('#df-6ae66a12-b47f-4188-a11e-029ab907896e button.colab-df-convert');\n",
              "        buttonEl.style.display =\n",
              "          google.colab.kernel.accessAllowed ? 'block' : 'none';\n",
              "\n",
              "        async function convertToInteractive(key) {\n",
              "          const element = document.querySelector('#df-6ae66a12-b47f-4188-a11e-029ab907896e');\n",
              "          const dataTable =\n",
              "            await google.colab.kernel.invokeFunction('convertToInteractive',\n",
              "                                                     [key], {});\n",
              "          if (!dataTable) return;\n",
              "\n",
              "          const docLinkHtml = 'Like what you see? Visit the ' +\n",
              "            '<a target=\"_blank\" href=https://colab.research.google.com/notebooks/data_table.ipynb>data table notebook</a>'\n",
              "            + ' to learn more about interactive tables.';\n",
              "          element.innerHTML = '';\n",
              "          dataTable['output_type'] = 'display_data';\n",
              "          await google.colab.output.renderOutput(dataTable, element);\n",
              "          const docLink = document.createElement('div');\n",
              "          docLink.innerHTML = docLinkHtml;\n",
              "          element.appendChild(docLink);\n",
              "        }\n",
              "      </script>\n",
              "    </div>\n",
              "  </div>\n",
              "  "
            ]
          },
          "metadata": {},
          "execution_count": 7
        }
      ],
      "source": [
        "train_df"
      ]
    },
    {
      "cell_type": "code",
      "execution_count": null,
      "id": "supreme-transcript",
      "metadata": {
        "id": "supreme-transcript"
      },
      "outputs": [],
      "source": [
        "from transformers import BertTokenizer\n",
        "import tensorflow as tf \n",
        "import tensorflow as tf\n",
        "from tensorflow.keras.optimizers import Adam\n",
        "from transformers import TFBertModel\n",
        "from keras import backend as k_backend\n",
        "\n",
        "tokenizer = BertTokenizer.from_pretrained('bert-base-uncased', do_lower_case=True)"
      ]
    },
    {
      "cell_type": "code",
      "execution_count": null,
      "id": "sudden-typing",
      "metadata": {
        "id": "sudden-typing"
      },
      "outputs": [],
      "source": [
        "def bert_encode(data, maximum_sequence_length) :\n",
        "    input_ids = []\n",
        "    attention_masks = []\n",
        "    for i in range(len(data.text)):\n",
        "        encoded = tokenizer.encode_plus(\n",
        "            data.text[i],\n",
        "            add_special_tokens=True,\n",
        "            max_length=maximum_sequence_length,\n",
        "            pad_to_max_length=True,\n",
        "            return_attention_mask=True,\n",
        "            truncation = True\n",
        "        )\n",
        "\n",
        "        input_ids.append(encoded['input_ids'])\n",
        "        attention_masks.append(encoded['attention_mask'])\n",
        "    return np.array(input_ids),np.array(attention_masks)"
      ]
    },
    {
      "cell_type": "code",
      "execution_count": null,
      "id": "trained-notice",
      "metadata": {
        "id": "trained-notice"
      },
      "outputs": [],
      "source": [
        "def recall(y_true, y_pred):\n",
        "    true_positives = k_backend.sum(k_backend.round(k_backend.clip(y_true * y_pred, 0, 1)))\n",
        "    possible_positives = k_backend.sum(k_backend.round(k_backend.clip(y_true, 0, 1)))\n",
        "    recall = true_positives / (possible_positives + k_backend.epsilon())\n",
        "    return recall\n",
        "\n",
        "def precision(y_true, y_pred):\n",
        "    true_positives = k_backend.sum(k_backend.round(k_backend.clip(y_true * y_pred, 0, 1)))\n",
        "    predicted_positives = k_backend.sum(k_backend.round(k_backend.clip(y_pred, 0, 1)))\n",
        "    precision = true_positives / (predicted_positives + k_backend.epsilon())\n",
        "    return precision\n",
        "\n",
        "def f1(y_true, y_pred):\n",
        "    precision_value = precision(y_true, y_pred)\n",
        "    recall_value = recall(y_true, y_pred)\n",
        "    return 2*((precision_value*recall_value) / (precision_value+recall_value+K.epsilon()))"
      ]
    },
    {
      "cell_type": "code",
      "execution_count": null,
      "id": "athletic-flush",
      "metadata": {
        "id": "athletic-flush"
      },
      "outputs": [],
      "source": [
        "def create_model(bert_model):\n",
        "    input_ids = tf.keras.Input(shape=(300,),dtype='int32')\n",
        "    attention_masks = tf.keras.Input(shape=(300,),dtype='int32')\n",
        "    output = bert_model([input_ids,attention_masks])\n",
        "    output = output[1]\n",
        "    output = tf.keras.layers.Dense(32,activation='relu')(output)\n",
        "    output = tf.keras.layers.Dropout(0.3)(output)\n",
        "    output = tf.keras.layers.Dense(1,activation='sigmoid')(output)\n",
        "    \n",
        "    model = tf.keras.models.Model(inputs = [input_ids,attention_masks],outputs = output)\n",
        "    model.compile(Adam(lr=6e-6), loss='binary_crossentropy', metrics=['accuracy', recall, precision, f1])\n",
        "    return model"
      ]
    },
    {
      "cell_type": "code",
      "execution_count": null,
      "id": "enabling-medicare",
      "metadata": {
        "id": "enabling-medicare",
        "outputId": "0e50c62e-029c-4742-b554-590755545f20",
        "colab": {
          "base_uri": "https://localhost:8080/"
        }
      },
      "outputs": [
        {
          "output_type": "stream",
          "name": "stderr",
          "text": [
            "Some layers from the model checkpoint at bert-base-uncased were not used when initializing TFBertModel: ['nsp___cls', 'mlm___cls']\n",
            "- This IS expected if you are initializing TFBertModel from the checkpoint of a model trained on another task or with another architecture (e.g. initializing a BertForSequenceClassification model from a BertForPreTraining model).\n",
            "- This IS NOT expected if you are initializing TFBertModel from the checkpoint of a model that you expect to be exactly identical (initializing a BertForSequenceClassification model from a BertForSequenceClassification model).\n",
            "All the layers of TFBertModel were initialized from the model checkpoint at bert-base-uncased.\n",
            "If your task is similar to the task the model of the checkpoint was trained on, you can already use TFBertModel for predictions without further training.\n"
          ]
        }
      ],
      "source": [
        "TFbert_model = TFBertModel.from_pretrained('bert-base-uncased')\n",
        "model = create_model(TFbert_model)"
      ]
    },
    {
      "cell_type": "code",
      "execution_count": null,
      "id": "aging-greensboro",
      "metadata": {
        "id": "aging-greensboro",
        "outputId": "79fef9cc-f806-4db3-882c-cba4862ffcab",
        "colab": {
          "base_uri": "https://localhost:8080/"
        }
      },
      "outputs": [
        {
          "output_type": "stream",
          "name": "stderr",
          "text": [
            "/usr/local/lib/python3.7/dist-packages/transformers/tokenization_utils_base.py:2269: FutureWarning: The `pad_to_max_length` argument is deprecated and will be removed in a future version, use `padding=True` or `padding='longest'` to pad to the longest sequence in the batch, or use `padding='max_length'` to pad to a max length. In this case, you can give a specific length with `max_length` (e.g. `max_length=45`) or leave max_length to None to pad to the maximal input size of the model (e.g. 512 for Bert).\n",
            "  FutureWarning,\n"
          ]
        }
      ],
      "source": [
        "train_input_ids,train_attention_masks = bert_encode(train_df,300)\n",
        "dev_input_ids,dev_attention_masks = bert_encode(dev_df,300)\n",
        "test_input_ids,test_attention_masks = bert_encode(test_df,300)\n",
        "dev_data = ([dev_input_ids, dev_attention_masks], dev_df.label)"
      ]
    },
    {
      "cell_type": "code",
      "execution_count": null,
      "id": "sustainable-definition",
      "metadata": {
        "id": "sustainable-definition",
        "outputId": "01da34d0-2f64-4d54-d35f-979bdd15e744",
        "colab": {
          "base_uri": "https://localhost:8080/"
        }
      },
      "outputs": [
        {
          "output_type": "stream",
          "name": "stdout",
          "text": [
            "Epoch 1/7\n",
            "1418/1418 [==============================] - 1663s 1s/step - loss: 0.1240 - accuracy: 0.9523 - recall: 0.9350 - precision: 0.9458 - f1: 0.9347 - val_loss: 0.2197 - val_accuracy: 0.9351 - val_recall: 0.4574 - val_precision: 0.4743 - val_f1: 0.4623\n",
            "Epoch 2/7\n",
            "1418/1418 [==============================] - 1647s 1s/step - loss: 0.0127 - accuracy: 0.9974 - recall: 0.9963 - precision: 0.9973 - f1: 0.9964 - val_loss: 0.2321 - val_accuracy: 0.9383 - val_recall: 0.4761 - val_precision: 0.4843 - val_f1: 0.4769\n",
            "Epoch 3/7\n",
            "1418/1418 [==============================] - 1647s 1s/step - loss: 0.0038 - accuracy: 0.9993 - recall: 0.9987 - precision: 0.9995 - f1: 0.9990 - val_loss: 0.3625 - val_accuracy: 0.9319 - val_recall: 0.4550 - val_precision: 0.4662 - val_f1: 0.4569\n",
            "Epoch 4/7\n",
            "1418/1418 [==============================] - 1648s 1s/step - loss: 0.0034 - accuracy: 0.9993 - recall: 0.9982 - precision: 0.9986 - f1: 0.9983 - val_loss: 0.4121 - val_accuracy: 0.9364 - val_recall: 0.4581 - val_precision: 0.4710 - val_f1: 0.4626\n",
            "Epoch 5/7\n",
            "1418/1418 [==============================] - 1649s 1s/step - loss: 3.0530e-04 - accuracy: 1.0000 - recall: 1.0000 - precision: 1.0000 - f1: 1.0000 - val_loss: 0.4427 - val_accuracy: 0.9422 - val_recall: 0.4713 - val_precision: 0.4822 - val_f1: 0.4745\n",
            "Epoch 6/7\n",
            "1418/1418 [==============================] - 1648s 1s/step - loss: 0.0034 - accuracy: 0.9992 - recall: 0.9989 - precision: 0.9992 - f1: 0.9989 - val_loss: 0.3834 - val_accuracy: 0.9450 - val_recall: 0.4795 - val_precision: 0.4900 - val_f1: 0.4816\n",
            "Epoch 7/7\n",
            "1418/1418 [==============================] - 1646s 1s/step - loss: 0.0016 - accuracy: 0.9996 - recall: 0.9995 - precision: 0.9995 - f1: 0.9995 - val_loss: 0.2214 - val_accuracy: 0.9558 - val_recall: 0.4730 - val_precision: 0.4823 - val_f1: 0.4759\n"
          ]
        }
      ],
      "source": [
        "callback = tf.keras.callbacks.EarlyStopping(monitor='loss', patience=3)\n",
        "history = model.fit([train_input_ids,train_attention_masks], train_df.label, validation_data=dev_data ,callbacks=[callback], epochs=7, batch_size=16)"
      ]
    },
    {
      "cell_type": "code",
      "source": [
        "from google.colab import drive\n",
        "drive.mount('/content/drive')"
      ],
      "metadata": {
        "colab": {
          "base_uri": "https://localhost:8080/"
        },
        "id": "KUGF-H4zUrW_",
        "outputId": "348b0b67-76a5-416f-e6a3-770d8ac8655d"
      },
      "id": "KUGF-H4zUrW_",
      "execution_count": null,
      "outputs": [
        {
          "output_type": "stream",
          "name": "stdout",
          "text": [
            "Mounted at /content/drive\n"
          ]
        }
      ]
    },
    {
      "cell_type": "code",
      "source": [
        "model.save(\"/content/drive/MyDrive/Colab/tfmodel_sr1\")"
      ],
      "metadata": {
        "colab": {
          "base_uri": "https://localhost:8080/"
        },
        "id": "2_ovWiMhUy6E",
        "outputId": "ea1615a8-907a-4253-ca8e-377fbfc236b0"
      },
      "id": "2_ovWiMhUy6E",
      "execution_count": null,
      "outputs": [
        {
          "output_type": "stream",
          "name": "stderr",
          "text": [
            "WARNING:absl:Found untraced functions such as embeddings_layer_call_fn, embeddings_layer_call_and_return_conditional_losses, encoder_layer_call_fn, encoder_layer_call_and_return_conditional_losses, pooler_layer_call_fn while saving (showing 5 of 420). These functions will not be directly callable after loading.\n"
          ]
        },
        {
          "output_type": "stream",
          "name": "stdout",
          "text": [
            "INFO:tensorflow:Assets written to: /content/drive/MyDrive/Colab/tfmodel_sr1/assets\n"
          ]
        },
        {
          "output_type": "stream",
          "name": "stderr",
          "text": [
            "INFO:tensorflow:Assets written to: /content/drive/MyDrive/Colab/tfmodel_sr1/assets\n"
          ]
        }
      ]
    },
    {
      "cell_type": "code",
      "execution_count": null,
      "id": "biblical-logic",
      "metadata": {
        "id": "biblical-logic",
        "colab": {
          "base_uri": "https://localhost:8080/"
        },
        "outputId": "33fd4f09-3032-44db-9fd9-63f55ae71dd0"
      },
      "outputs": [
        {
          "output_type": "stream",
          "name": "stderr",
          "text": [
            "WARNING:absl:Found untraced functions such as embeddings_layer_call_fn, embeddings_layer_call_and_return_conditional_losses, encoder_layer_call_fn, encoder_layer_call_and_return_conditional_losses, pooler_layer_call_fn while saving (showing 5 of 420). These functions will not be directly callable after loading.\n"
          ]
        },
        {
          "output_type": "stream",
          "name": "stdout",
          "text": [
            "INFO:tensorflow:Assets written to: ./pure_bert/pure_bert_v11/assets\n"
          ]
        },
        {
          "output_type": "stream",
          "name": "stderr",
          "text": [
            "INFO:tensorflow:Assets written to: ./pure_bert/pure_bert_v11/assets\n"
          ]
        }
      ],
      "source": [
        "model.save(\"./pure_bert/pure_bert_v11\")"
      ]
    },
    {
      "cell_type": "code",
      "source": [
        "result_dev = model.predict([dev_input_ids, dev_attention_masks])"
      ],
      "metadata": {
        "id": "t7aY8uEcVe3z"
      },
      "id": "t7aY8uEcVe3z",
      "execution_count": null,
      "outputs": []
    },
    {
      "cell_type": "code",
      "source": [
        "from collections import Counter, defaultdict\n",
        "pred_scores = result_dev\n",
        "\n",
        "index_list = list(dev_df['index'])\n",
        "label_all = list(dev_df['label'])\n",
        "\n",
        "counter = Counter(index_list)\n",
        "proba_sum = defaultdict(float)\n",
        "label_sum = defaultdict(int)\n",
        "\n",
        "for i in range(len(index_list)):\n",
        "  proba_sum[index_list[i]] += pred_scores[i]\n",
        "  label_sum[index_list[i]] += label_all[i]\n",
        "pred_labels = []\n",
        "proba_list = []\n",
        "label_list = []\n",
        "for i in sorted(list(proba_sum.keys())):\n",
        "  proba = 0\n",
        "  label = 0\n",
        "  proba_list.append(proba_sum[i]/counter[i])\n",
        "  label_list.append(int(label_sum[i]/counter[i]))\n",
        "  if proba_sum[i]/counter[i]>0.5:\n",
        "    label = 1\n",
        "  pred_labels.append(label)\n",
        "\n",
        "print(len(proba_list))\n",
        "print(len(label_list))"
      ],
      "metadata": {
        "colab": {
          "base_uri": "https://localhost:8080/"
        },
        "id": "PZ3mFYFtWkC_",
        "outputId": "a7b3037c-70ed-49ea-b19a-d97cc30908a7"
      },
      "id": "PZ3mFYFtWkC_",
      "execution_count": null,
      "outputs": [
        {
          "output_type": "stream",
          "name": "stdout",
          "text": [
            "537\n",
            "537\n"
          ]
        }
      ]
    },
    {
      "cell_type": "code",
      "source": [
        "import sklearn.metrics as metrics\n",
        "\n",
        "print(metrics.accuracy_score(label_list, pred_labels))\n",
        "print(metrics.precision_score(label_list, pred_labels))\n",
        "print(metrics.recall_score(label_list, pred_labels))\n",
        "print(metrics.roc_auc_score(label_list, proba_list))"
      ],
      "metadata": {
        "colab": {
          "base_uri": "https://localhost:8080/"
        },
        "id": "K0hqwC2ZZYFR",
        "outputId": "2848744b-c808-479d-ce88-32c92886c527"
      },
      "id": "K0hqwC2ZZYFR",
      "execution_count": null,
      "outputs": [
        {
          "output_type": "stream",
          "name": "stdout",
          "text": [
            "0.9757914338919925\n",
            "0.9636363636363636\n",
            "0.9217391304347826\n",
            "0.9930970533690502\n"
          ]
        }
      ]
    },
    {
      "cell_type": "code",
      "source": [
        "print(metrics.f1_score(dev_df.label, pre_dev_labels, average='macro'))"
      ],
      "metadata": {
        "id": "YyfX6FNvjkH8"
      },
      "id": "YyfX6FNvjkH8",
      "execution_count": null,
      "outputs": []
    },
    {
      "cell_type": "code",
      "source": [
        "result_test = model.predict([test_input_ids, test_attention_masks])"
      ],
      "metadata": {
        "id": "hTII3P0FVsOw"
      },
      "id": "hTII3P0FVsOw",
      "execution_count": null,
      "outputs": []
    },
    {
      "cell_type": "code",
      "source": [
        "pred_scores = result_test\n",
        "\n",
        "index_list = list(test_df['index'])\n",
        "\n",
        "from collections import Counter, defaultdict\n",
        "counter = Counter(index_list)\n",
        "proba_sum = defaultdict(float)\n",
        "\n",
        "for i in range(len(index_list)):\n",
        "  proba_sum[index_list[i]] += pred_scores[i]\n",
        "\n",
        "pred_labels = []\n",
        "for i in sorted(list(proba_sum.keys())):\n",
        "  label = 0\n",
        "  if proba_sum[i]/counter[i]>0.5:\n",
        "    label = 1\n",
        "  pred_labels.append(label)\n",
        "  "
      ],
      "metadata": {
        "id": "Cum8IAU1Zite"
      },
      "id": "Cum8IAU1Zite",
      "execution_count": null,
      "outputs": []
    },
    {
      "cell_type": "code",
      "source": [
        "with open('test.predictions_tf1.txt', 'w') as output:\n",
        "  output.write('Id,Predicted\\n')\n",
        "  counter = 0\n",
        "  for elem in pred_labels:\n",
        "    output.write(str(counter) + ',' + str(elem)+'\\n')\n",
        "    counter+=1"
      ],
      "metadata": {
        "id": "eDR135vFlhKa"
      },
      "id": "eDR135vFlhKa",
      "execution_count": null,
      "outputs": []
    },
    {
      "cell_type": "code",
      "execution_count": null,
      "id": "fitted-trader",
      "metadata": {
        "id": "fitted-trader"
      },
      "outputs": [],
      "source": [
        "# result = model.predict([test_input_ids, test_attention_masks])\n",
        "# result = np.round(result).astype(int)"
      ]
    },
    {
      "cell_type": "code",
      "source": [
        "# with open('test.predictions.txt', 'w') as output:\n",
        "#   output.write('Id,Predicted\\n')\n",
        "#   counter = 0\n",
        "#   for elem in list(result):\n",
        "#     for elem2 in list(elem):\n",
        "#       output.write(str(counter) + ',' + str(elem2)+'\\n')\n",
        "#       counter+=1"
      ],
      "metadata": {
        "id": "QkSqr1DPgM7g"
      },
      "id": "QkSqr1DPgM7g",
      "execution_count": null,
      "outputs": []
    },
    {
      "cell_type": "code",
      "execution_count": null,
      "metadata": {
        "id": "tT0tp7TbGXOY"
      },
      "outputs": [],
      "source": [
        "#For Task 2\n",
        "covid_df = pd.read_csv('covid.csv')"
      ],
      "id": "tT0tp7TbGXOY"
    },
    {
      "cell_type": "code",
      "execution_count": null,
      "metadata": {
        "colab": {
          "base_uri": "https://localhost:8080/"
        },
        "id": "TW6vPj4cGHEY",
        "outputId": "3a802baa-e448-4633-a2e9-772782f86e16"
      },
      "outputs": [
        {
          "name": "stderr",
          "output_type": "stream",
          "text": [
            "/usr/local/lib/python3.7/dist-packages/transformers/tokenization_utils_base.py:2269: FutureWarning: The `pad_to_max_length` argument is deprecated and will be removed in a future version, use `padding=True` or `padding='longest'` to pad to the longest sequence in the batch, or use `padding='max_length'` to pad to a max length. In this case, you can give a specific length with `max_length` (e.g. `max_length=45`) or leave max_length to None to pad to the maximal input size of the model (e.g. 512 for Bert).\n",
            "  FutureWarning,\n"
          ]
        }
      ],
      "source": [
        "covid_input_ids,covid_attention_masks = bert_encode(covid_df,512)"
      ],
      "id": "TW6vPj4cGHEY"
    },
    {
      "cell_type": "code",
      "execution_count": null,
      "metadata": {
        "id": "D6tYskpIGHXe"
      },
      "outputs": [],
      "source": [
        "result_covid = model.predict([covid_input_ids, covid_attention_masks])\n",
        "result_covid = np.round(result_covid).astype(int)"
      ],
      "id": "D6tYskpIGHXe"
    },
    {
      "cell_type": "code",
      "execution_count": null,
      "metadata": {
        "id": "F5ODXyOPGHeV"
      },
      "outputs": [],
      "source": [
        "with open('covid.predictions.txt', 'w') as output:\n",
        "  output.write('Id,Predicted\\n')\n",
        "  counter = 0\n",
        "  for elem in list(result_covid):\n",
        "    for elem2 in list(elem):\n",
        "      output.write(str(counter) + ',' + str(elem2)+'\\n')\n",
        "      counter+=1"
      ],
      "id": "F5ODXyOPGHeV"
    },
    {
      "cell_type": "code",
      "execution_count": null,
      "metadata": {
        "id": "ZCUUDWtCZCeK"
      },
      "outputs": [],
      "source": [
        "#covid_labels = np.argmax(result_covid, axis = -1)\n",
        "#covid_output = pd.DataFrame({'id':covid_df.id,'target':covid_labels})\n",
        "#covid_output.to_csv(\"covid_labels.csv\",index=False,sep=',')"
      ],
      "id": "ZCUUDWtCZCeK"
    }
  ],
  "metadata": {
    "environment": {
      "name": "tf2-gpu.2-3.m65",
      "type": "gcloud",
      "uri": "gcr.io/deeplearning-platform-release/tf2-gpu.2-3:m65"
    },
    "kernelspec": {
      "display_name": "Python 3",
      "language": "python",
      "name": "python3"
    },
    "language_info": {
      "codemirror_mode": {
        "name": "ipython",
        "version": 3
      },
      "file_extension": ".py",
      "mimetype": "text/x-python",
      "name": "python",
      "nbconvert_exporter": "python",
      "pygments_lexer": "ipython3",
      "version": "3.7.10"
    },
    "colab": {
      "name": "SR_NLP_rumour_detection_huggingface_1.ipynb",
      "provenance": [],
      "machine_shape": "hm",
      "collapsed_sections": []
    },
    "accelerator": "GPU"
  },
  "nbformat": 4,
  "nbformat_minor": 5
}