{
  "cells": [
    {
      "cell_type": "code",
      "execution_count": null,
      "id": "robust-swedish",
      "metadata": {
        "id": "robust-swedish"
      },
      "outputs": [],
      "source": [
        "import json\n",
        "import re\n",
        "import sys\n",
        "import pandas as pd\n",
        "import numpy as np"
      ]
    },
    {
      "cell_type": "code",
      "source": [
        "!pip install torch torchvision transformers"
      ],
      "metadata": {
        "id": "eNyXpO2wUTw0",
        "outputId": "3a4aa420-9618-4d3c-b884-b6aba91109fc",
        "colab": {
          "base_uri": "https://localhost:8080/"
        }
      },
      "id": "eNyXpO2wUTw0",
      "execution_count": null,
      "outputs": [
        {
          "output_type": "stream",
          "name": "stdout",
          "text": [
            "Requirement already satisfied: torch in /usr/local/lib/python3.7/dist-packages (1.11.0+cu113)\n",
            "Requirement already satisfied: torchvision in /usr/local/lib/python3.7/dist-packages (0.12.0+cu113)\n",
            "Collecting transformers\n",
            "  Downloading transformers-4.18.0-py3-none-any.whl (4.0 MB)\n",
            "\u001b[K     |████████████████████████████████| 4.0 MB 32.5 MB/s \n",
            "\u001b[?25hRequirement already satisfied: typing-extensions in /usr/local/lib/python3.7/dist-packages (from torch) (4.2.0)\n",
            "Requirement already satisfied: numpy in /usr/local/lib/python3.7/dist-packages (from torchvision) (1.21.6)\n",
            "Requirement already satisfied: requests in /usr/local/lib/python3.7/dist-packages (from torchvision) (2.23.0)\n",
            "Requirement already satisfied: pillow!=8.3.*,>=5.3.0 in /usr/local/lib/python3.7/dist-packages (from torchvision) (7.1.2)\n",
            "Requirement already satisfied: regex!=2019.12.17 in /usr/local/lib/python3.7/dist-packages (from transformers) (2019.12.20)\n",
            "Collecting huggingface-hub<1.0,>=0.1.0\n",
            "  Downloading huggingface_hub-0.5.1-py3-none-any.whl (77 kB)\n",
            "\u001b[K     |████████████████████████████████| 77 kB 7.6 MB/s \n",
            "\u001b[?25hCollecting tokenizers!=0.11.3,<0.13,>=0.11.1\n",
            "  Downloading tokenizers-0.12.1-cp37-cp37m-manylinux_2_12_x86_64.manylinux2010_x86_64.whl (6.6 MB)\n",
            "\u001b[K     |████████████████████████████████| 6.6 MB 62.4 MB/s \n",
            "\u001b[?25hRequirement already satisfied: tqdm>=4.27 in /usr/local/lib/python3.7/dist-packages (from transformers) (4.64.0)\n",
            "Requirement already satisfied: filelock in /usr/local/lib/python3.7/dist-packages (from transformers) (3.6.0)\n",
            "Collecting sacremoses\n",
            "  Downloading sacremoses-0.0.50.tar.gz (880 kB)\n",
            "\u001b[K     |████████████████████████████████| 880 kB 64.7 MB/s \n",
            "\u001b[?25hCollecting pyyaml>=5.1\n",
            "  Downloading PyYAML-6.0-cp37-cp37m-manylinux_2_5_x86_64.manylinux1_x86_64.manylinux_2_12_x86_64.manylinux2010_x86_64.whl (596 kB)\n",
            "\u001b[K     |████████████████████████████████| 596 kB 61.9 MB/s \n",
            "\u001b[?25hRequirement already satisfied: packaging>=20.0 in /usr/local/lib/python3.7/dist-packages (from transformers) (21.3)\n",
            "Requirement already satisfied: importlib-metadata in /usr/local/lib/python3.7/dist-packages (from transformers) (4.11.3)\n",
            "Requirement already satisfied: pyparsing!=3.0.5,>=2.0.2 in /usr/local/lib/python3.7/dist-packages (from packaging>=20.0->transformers) (3.0.8)\n",
            "Requirement already satisfied: zipp>=0.5 in /usr/local/lib/python3.7/dist-packages (from importlib-metadata->transformers) (3.8.0)\n",
            "Requirement already satisfied: idna<3,>=2.5 in /usr/local/lib/python3.7/dist-packages (from requests->torchvision) (2.10)\n",
            "Requirement already satisfied: chardet<4,>=3.0.2 in /usr/local/lib/python3.7/dist-packages (from requests->torchvision) (3.0.4)\n",
            "Requirement already satisfied: urllib3!=1.25.0,!=1.25.1,<1.26,>=1.21.1 in /usr/local/lib/python3.7/dist-packages (from requests->torchvision) (1.24.3)\n",
            "Requirement already satisfied: certifi>=2017.4.17 in /usr/local/lib/python3.7/dist-packages (from requests->torchvision) (2021.10.8)\n",
            "Requirement already satisfied: six in /usr/local/lib/python3.7/dist-packages (from sacremoses->transformers) (1.15.0)\n",
            "Collecting click==8.0\n",
            "  Downloading click-8.0.0-py3-none-any.whl (96 kB)\n",
            "\u001b[K     |████████████████████████████████| 96 kB 7.9 MB/s \n",
            "\u001b[?25hRequirement already satisfied: joblib in /usr/local/lib/python3.7/dist-packages (from sacremoses->transformers) (1.1.0)\n",
            "Building wheels for collected packages: sacremoses\n",
            "  Building wheel for sacremoses (setup.py) ... \u001b[?25l\u001b[?25hdone\n",
            "  Created wheel for sacremoses: filename=sacremoses-0.0.50-py3-none-any.whl size=895166 sha256=ccef10db7eb9cab00b0a5a3079900c781908bf170f4d2a5d2416b45565be71f3\n",
            "  Stored in directory: /root/.cache/pip/wheels/d9/72/54/519f0d5143cc6c73fa3297509123c86fc8586a7fdea8d25311\n",
            "Successfully built sacremoses\n",
            "Installing collected packages: pyyaml, click, tokenizers, sacremoses, huggingface-hub, transformers\n",
            "  Attempting uninstall: pyyaml\n",
            "    Found existing installation: PyYAML 3.13\n",
            "    Uninstalling PyYAML-3.13:\n",
            "      Successfully uninstalled PyYAML-3.13\n",
            "  Attempting uninstall: click\n",
            "    Found existing installation: click 7.1.2\n",
            "    Uninstalling click-7.1.2:\n",
            "      Successfully uninstalled click-7.1.2\n",
            "\u001b[31mERROR: pip's dependency resolver does not currently take into account all the packages that are installed. This behaviour is the source of the following dependency conflicts.\n",
            "flask 1.1.4 requires click<8.0,>=5.1, but you have click 8.0.0 which is incompatible.\u001b[0m\n",
            "Successfully installed click-8.0.0 huggingface-hub-0.5.1 pyyaml-6.0 sacremoses-0.0.50 tokenizers-0.12.1 transformers-4.18.0\n"
          ]
        }
      ]
    },
    {
      "cell_type": "code",
      "source": [
        "!pip install emoji"
      ],
      "metadata": {
        "id": "McKesVXHUkCD",
        "outputId": "c81d1ea7-79a7-4ab6-c1c6-a7eacd4ad27d",
        "colab": {
          "base_uri": "https://localhost:8080/"
        }
      },
      "id": "McKesVXHUkCD",
      "execution_count": null,
      "outputs": [
        {
          "output_type": "stream",
          "name": "stdout",
          "text": [
            "Collecting emoji\n",
            "  Downloading emoji-1.7.0.tar.gz (175 kB)\n",
            "\u001b[?25l\r\u001b[K     |█▉                              | 10 kB 33.8 MB/s eta 0:00:01\r\u001b[K     |███▊                            | 20 kB 41.0 MB/s eta 0:00:01\r\u001b[K     |█████▋                          | 30 kB 34.3 MB/s eta 0:00:01\r\u001b[K     |███████▌                        | 40 kB 25.4 MB/s eta 0:00:01\r\u001b[K     |█████████▍                      | 51 kB 21.5 MB/s eta 0:00:01\r\u001b[K     |███████████▏                    | 61 kB 24.2 MB/s eta 0:00:01\r\u001b[K     |█████████████                   | 71 kB 23.8 MB/s eta 0:00:01\r\u001b[K     |███████████████                 | 81 kB 24.1 MB/s eta 0:00:01\r\u001b[K     |████████████████▉               | 92 kB 25.6 MB/s eta 0:00:01\r\u001b[K     |██████████████████▊             | 102 kB 27.1 MB/s eta 0:00:01\r\u001b[K     |████████████████████▌           | 112 kB 27.1 MB/s eta 0:00:01\r\u001b[K     |██████████████████████▍         | 122 kB 27.1 MB/s eta 0:00:01\r\u001b[K     |████████████████████████▎       | 133 kB 27.1 MB/s eta 0:00:01\r\u001b[K     |██████████████████████████▏     | 143 kB 27.1 MB/s eta 0:00:01\r\u001b[K     |████████████████████████████    | 153 kB 27.1 MB/s eta 0:00:01\r\u001b[K     |█████████████████████████████▉  | 163 kB 27.1 MB/s eta 0:00:01\r\u001b[K     |███████████████████████████████▊| 174 kB 27.1 MB/s eta 0:00:01\r\u001b[K     |████████████████████████████████| 175 kB 27.1 MB/s \n",
            "\u001b[?25hBuilding wheels for collected packages: emoji\n",
            "  Building wheel for emoji (setup.py) ... \u001b[?25l\u001b[?25hdone\n",
            "  Created wheel for emoji: filename=emoji-1.7.0-py3-none-any.whl size=171046 sha256=6a64214b1b390b461555c34faea2439a4a10d43c5bbf81e12d9727954d3bd4c0\n",
            "  Stored in directory: /root/.cache/pip/wheels/8a/4e/b6/57b01db010d17ef6ea9b40300af725ef3e210cb1acfb7ac8b6\n",
            "Successfully built emoji\n",
            "Installing collected packages: emoji\n",
            "Successfully installed emoji-1.7.0\n"
          ]
        }
      ]
    },
    {
      "cell_type": "markdown",
      "id": "collected-facility",
      "metadata": {
        "id": "collected-facility"
      },
      "source": [
        "## Preprocessing"
      ]
    },
    {
      "cell_type": "markdown",
      "id": "extended-museum",
      "metadata": {
        "id": "extended-museum"
      },
      "source": [
        "Load tweet data and perform preprocessing via `dataloader`"
      ]
    },
    {
      "cell_type": "code",
      "execution_count": null,
      "id": "british-times",
      "metadata": {
        "id": "british-times"
      },
      "outputs": [],
      "source": [
        ""
      ]
    },
    {
      "cell_type": "code",
      "execution_count": null,
      "id": "caroline-carnival",
      "metadata": {
        "id": "caroline-carnival"
      },
      "outputs": [],
      "source": [
        "\n",
        "train_df = pd.read_csv('train.csv')\n",
        "dev_df = pd.read_csv('dev.csv')\n",
        "test_df = pd.read_csv('test.csv')"
      ]
    },
    {
      "cell_type": "code",
      "execution_count": null,
      "id": "fundamental-nightlife",
      "metadata": {
        "id": "fundamental-nightlife",
        "outputId": "a59988fb-fe2e-4f6d-bec9-abbab39a0da4",
        "colab": {
          "base_uri": "https://localhost:8080/",
          "height": 295
        }
      },
      "outputs": [
        {
          "output_type": "display_data",
          "data": {
            "text/plain": [
              "<Figure size 432x288 with 1 Axes>"
            ],
            "image/png": "[encoded data removed]"
          },
          "metadata": {
            "needs_background": "light"
          }
        }
      ],
      "source": [
        "import matplotlib.pyplot as plt\n",
        "plt.title('Train Data')\n",
        "plt.xlabel('Target Distribution')\n",
        "plt.ylabel('Samples')\n",
        "plt.hist(train_df.label)\n",
        "plt.show()"
      ]
    },
    {
      "cell_type": "code",
      "execution_count": null,
      "id": "mobile-jewel",
      "metadata": {
        "id": "mobile-jewel",
        "outputId": "35277947-5b0f-4022-eee8-54e3bcbafe57",
        "colab": {
          "base_uri": "https://localhost:8080/",
          "height": 423
        }
      },
      "outputs": [
        {
          "output_type": "execute_result",
          "data": {
            "text/plain": [
              "      Unnamed: 0                                               text  label  \\\n",
              "0              0  4. Can eating garlic help prevent infection wi...      0   \n",
              "1              1  French police chief killed himself after #Char...      1   \n",
              "2              2  Coronavirus disease (COVID-19) advice for the ...      0   \n",
              "3              3  Ottawa police confirm that there were multiple...      0   \n",
              "4              4  if the primary focus of a government isn't to ...      0   \n",
              "...          ...                                                ...    ...   \n",
              "1802        1802  Desperate Ted Cruz Claims Planned Parenthood S...      1   \n",
              "1803        1803  \"Thoughts and prayers are not enough.\" Pres. O...      1   \n",
              "1804        1804  Police have surrounded this building where the...      0   \n",
              "1805        1805  @Kirstenjoyweiss @MattFabrication @prestone85 ...      0   \n",
              "1806        1806  Excellent. https://t.co/9XHsNRL0Xx @rosierawle...      0   \n",
              "\n",
              "                       id  \n",
              "0     1250219300389974016  \n",
              "1      554886875303780352  \n",
              "2     1237901309011021825  \n",
              "3      524958128392376320  \n",
              "4     1239295488677085185  \n",
              "...                   ...  \n",
              "1802   671181758692507648  \n",
              "1803   672513234419638273  \n",
              "1804   553508098825261056  \n",
              "1805  1249479605582327808  \n",
              "1806  1241082793737818113  \n",
              "\n",
              "[1807 rows x 4 columns]"
            ],
            "text/html": [
              "\n",
              "  <div id=\"df-8485b0bb-0593-4106-9351-e01e2f10f731\">\n",
              "    <div class=\"colab-df-container\">\n",
              "      <div>\n",
              "<style scoped>\n",
              "    .dataframe tbody tr th:only-of-type {\n",
              "        vertical-align: middle;\n",
              "    }\n",
              "\n",
              "    .dataframe tbody tr th {\n",
              "        vertical-align: top;\n",
              "    }\n",
              "\n",
              "    .dataframe thead th {\n",
              "        text-align: right;\n",
              "    }\n",
              "</style>\n",
              "<table border=\"1\" class=\"dataframe\">\n",
              "  <thead>\n",
              "    <tr style=\"text-align: right;\">\n",
              "      <th></th>\n",
              "      <th>Unnamed: 0</th>\n",
              "      <th>text</th>\n",
              "      <th>label</th>\n",
              "      <th>id</th>\n",
              "    </tr>\n",
              "  </thead>\n",
              "  <tbody>\n",
              "    <tr>\n",
              "      <th>0</th>\n",
              "      <td>0</td>\n",
              "      <td>4. Can eating garlic help prevent infection wi...</td>\n",
              "      <td>0</td>\n",
              "      <td>1250219300389974016</td>\n",
              "    </tr>\n",
              "    <tr>\n",
              "      <th>1</th>\n",
              "      <td>1</td>\n",
              "      <td>French police chief killed himself after #Char...</td>\n",
              "      <td>1</td>\n",
              "      <td>554886875303780352</td>\n",
              "    </tr>\n",
              "    <tr>\n",
              "      <th>2</th>\n",
              "      <td>2</td>\n",
              "      <td>Coronavirus disease (COVID-19) advice for the ...</td>\n",
              "      <td>0</td>\n",
              "      <td>1237901309011021825</td>\n",
              "    </tr>\n",
              "    <tr>\n",
              "      <th>3</th>\n",
              "      <td>3</td>\n",
              "      <td>Ottawa police confirm that there were multiple...</td>\n",
              "      <td>0</td>\n",
              "      <td>524958128392376320</td>\n",
              "    </tr>\n",
              "    <tr>\n",
              "      <th>4</th>\n",
              "      <td>4</td>\n",
              "      <td>if the primary focus of a government isn't to ...</td>\n",
              "      <td>0</td>\n",
              "      <td>1239295488677085185</td>\n",
              "    </tr>\n",
              "    <tr>\n",
              "      <th>...</th>\n",
              "      <td>...</td>\n",
              "      <td>...</td>\n",
              "      <td>...</td>\n",
              "      <td>...</td>\n",
              "    </tr>\n",
              "    <tr>\n",
              "      <th>1802</th>\n",
              "      <td>1802</td>\n",
              "      <td>Desperate Ted Cruz Claims Planned Parenthood S...</td>\n",
              "      <td>1</td>\n",
              "      <td>671181758692507648</td>\n",
              "    </tr>\n",
              "    <tr>\n",
              "      <th>1803</th>\n",
              "      <td>1803</td>\n",
              "      <td>\"Thoughts and prayers are not enough.\" Pres. O...</td>\n",
              "      <td>1</td>\n",
              "      <td>672513234419638273</td>\n",
              "    </tr>\n",
              "    <tr>\n",
              "      <th>1804</th>\n",
              "      <td>1804</td>\n",
              "      <td>Police have surrounded this building where the...</td>\n",
              "      <td>0</td>\n",
              "      <td>553508098825261056</td>\n",
              "    </tr>\n",
              "    <tr>\n",
              "      <th>1805</th>\n",
              "      <td>1805</td>\n",
              "      <td>@Kirstenjoyweiss @MattFabrication @prestone85 ...</td>\n",
              "      <td>0</td>\n",
              "      <td>1249479605582327808</td>\n",
              "    </tr>\n",
              "    <tr>\n",
              "      <th>1806</th>\n",
              "      <td>1806</td>\n",
              "      <td>Excellent. https://t.co/9XHsNRL0Xx @rosierawle...</td>\n",
              "      <td>0</td>\n",
              "      <td>1241082793737818113</td>\n",
              "    </tr>\n",
              "  </tbody>\n",
              "</table>\n",
              "<p>1807 rows × 4 columns</p>\n",
              "</div>\n",
              "      <button class=\"colab-df-convert\" onclick=\"convertToInteractive('df-8485b0bb-0593-4106-9351-e01e2f10f731')\"\n",
              "              title=\"Convert this dataframe to an interactive table.\"\n",
              "              style=\"display:none;\">\n",
              "        \n",
              "  <svg xmlns=\"http://www.w3.org/2000/svg\" height=\"24px\"viewBox=\"0 0 24 24\"\n",
              "       width=\"24px\">\n",
              "    <path d=\"M0 0h24v24H0V0z\" fill=\"none\"/>\n",
              "    <path d=\"M18.56 5.44l.94 2.06.94-2.06 2.06-.94-2.06-.94-.94-2.06-.94 2.06-2.06.94zm-11 1L8.5 8.5l.94-2.06 2.06-.94-2.06-.94L8.5 2.5l-.94 2.06-2.06.94zm10 10l.94 2.06.94-2.06 2.06-.94-2.06-.94-.94-2.06-.94 2.06-2.06.94z\"/><path d=\"M17.41 7.96l-1.37-1.37c-.4-.4-.92-.59-1.43-.59-.52 0-1.04.2-1.43.59L10.3 9.45l-7.72 7.72c-.78.78-.78 2.05 0 2.83L4 21.41c.39.39.9.59 1.41.59.51 0 1.02-.2 1.41-.59l7.78-7.78 2.81-2.81c.8-.78.8-2.07 0-2.86zM5.41 20L4 18.59l7.72-7.72 1.47 1.35L5.41 20z\"/>\n",
              "  </svg>\n",
              "      </button>\n",
              "      \n",
              "  <style>\n",
              "    .colab-df-container {\n",
              "      display:flex;\n",
              "      flex-wrap:wrap;\n",
              "      gap: 12px;\n",
              "    }\n",
              "\n",
              "    .colab-df-convert {\n",
              "      background-color: #E8F0FE;\n",
              "      border: none;\n",
              "      border-radius: 50%;\n",
              "      cursor: pointer;\n",
              "      display: none;\n",
              "      fill: #1967D2;\n",
              "      height: 32px;\n",
              "      padding: 0 0 0 0;\n",
              "      width: 32px;\n",
              "    }\n",
              "\n",
              "    .colab-df-convert:hover {\n",
              "      background-color: #E2EBFA;\n",
              "      box-shadow: 0px 1px 2px rgba(60, 64, 67, 0.3), 0px 1px 3px 1px rgba(60, 64, 67, 0.15);\n",
              "      fill: #174EA6;\n",
              "    }\n",
              "\n",
              "    [theme=dark] .colab-df-convert {\n",
              "      background-color: #3B4455;\n",
              "      fill: #D2E3FC;\n",
              "    }\n",
              "\n",
              "    [theme=dark] .colab-df-convert:hover {\n",
              "      background-color: #434B5C;\n",
              "      box-shadow: 0px 1px 3px 1px rgba(0, 0, 0, 0.15);\n",
              "      filter: drop-shadow(0px 1px 2px rgba(0, 0, 0, 0.3));\n",
              "      fill: #FFFFFF;\n",
              "    }\n",
              "  </style>\n",
              "\n",
              "      <script>\n",
              "        const buttonEl =\n",
              "          document.querySelector('#df-8485b0bb-0593-4106-9351-e01e2f10f731 button.colab-df-convert');\n",
              "        buttonEl.style.display =\n",
              "          google.colab.kernel.accessAllowed ? 'block' : 'none';\n",
              "\n",
              "        async function convertToInteractive(key) {\n",
              "          const element = document.querySelector('#df-8485b0bb-0593-4106-9351-e01e2f10f731');\n",
              "          const dataTable =\n",
              "            await google.colab.kernel.invokeFunction('convertToInteractive',\n",
              "                                                     [key], {});\n",
              "          if (!dataTable) return;\n",
              "\n",
              "          const docLinkHtml = 'Like what you see? Visit the ' +\n",
              "            '<a target=\"_blank\" href=https://colab.research.google.com/notebooks/data_table.ipynb>data table notebook</a>'\n",
              "            + ' to learn more about interactive tables.';\n",
              "          element.innerHTML = '';\n",
              "          dataTable['output_type'] = 'display_data';\n",
              "          await google.colab.output.renderOutput(dataTable, element);\n",
              "          const docLink = document.createElement('div');\n",
              "          docLink.innerHTML = docLinkHtml;\n",
              "          element.appendChild(docLink);\n",
              "        }\n",
              "      </script>\n",
              "    </div>\n",
              "  </div>\n",
              "  "
            ]
          },
          "metadata": {},
          "execution_count": 8
        }
      ],
      "source": [
        "train_df"
      ]
    },
    {
      "cell_type": "code",
      "execution_count": null,
      "id": "preceding-atlas",
      "metadata": {
        "id": "preceding-atlas",
        "outputId": "c60c7732-101c-41ed-b5dd-1e79e2db639f",
        "colab": {
          "base_uri": "https://localhost:8080/",
          "height": 122
        }
      },
      "outputs": [
        {
          "output_type": "execute_result",
          "data": {
            "text/plain": [
              "'10. Are hand dryers effective in killing the new coronavirus? https://t.co/cSDKXO1bGr 15. Drinking alcohol does not protect you against COVID-19 and can be dangerous https://t.co/ZrLN61q046 16. Being able to hold your breath for 10 seconds or more without coughing or feeling discomfort DOES NOT mean you are free from the coronavirus disease (COVID-19) or any other lung disease. https://t.co/gPUL51Y2lx 17. You can recover from the coronavirus disease (COVID-19). Catching the new coronavirus DOES NOT mean you will have it for life. https://t.co/yrjUM5qniK 18. Exposing yourself to the sun or to temperatures higher than 25C degrees DOES NOT prevent the coronavirus disease (COVID-19) https://t.co/aOQKrrwaBv 19. 5G mobile networks DO NOT spread COVID-19 https://t.co/VjqelBmpTn'"
            ],
            "application/vnd.google.colaboratory.intrinsic+json": {
              "type": "string"
            }
          },
          "metadata": {},
          "execution_count": 9
        }
      ],
      "source": [
        "train_df['text'][5]"
      ]
    },
    {
      "cell_type": "markdown",
      "id": "representative-knitting",
      "metadata": {
        "id": "representative-knitting"
      },
      "source": [
        "## Loading BertTokenizer\n",
        "\n",
        "Load tokenizer from BERT"
      ]
    },
    {
      "cell_type": "code",
      "execution_count": null,
      "id": "supreme-transcript",
      "metadata": {
        "id": "supreme-transcript",
        "outputId": "b6a37683-09a1-4cbf-bd40-51f2fa59bb7c",
        "colab": {
          "base_uri": "https://localhost:8080/",
          "height": 113,
          "referenced_widgets": [
            "288ffdb5c61247e29ad3c99ba15b46af",
            "16c74906d3a741cabf781dd9d32e9487",
            "e2979030ffbc433e9d633f6a8ba07046",
            "927324a7cfae4e6aadee0b22aeb06e84",
            "1310dfe00dd64413a1e66468a8af5014",
            "cd543085f4224307a1d025bc3b706135",
            "590540c458f34382be26e785cb4ff2f8",
            "390518f5fb2f4b798124d11114ecf4d3",
            "201db82c678c4d03a7adc08b24e19b05",
            "170c449252d340c8a489a6cf0be8cfb5",
            "cd8391b380a8455a8618d1e197a8bf61",
            "18dee036b4374750973ad793a7f4afa9",
            "b583bea96a86415abceb81e8e6752460",
            "3ceab41027a74e58b6faf93ac7ebadd0",
            "aa7f84fb181348f097fe9f7acb6eedb6",
            "a7f880b40f04488baebf159087e72b52",
            "3b7c0222e8b24f54b70cfb22c24c1d4b",
            "d8a5ab9cdfeb4772b319e6be647348dc",
            "a6e972ee7059420b8f9fc97704e07c95",
            "5daf546d08d849018229d9d4691023b0",
            "dff815f3a15344d59d4cc0823e6af032",
            "0020bec63286401f9e820a0bcbd504f5",
            "49242d89a39145838bd829fe0a07557e",
            "e0c265a50b7f4d2db21dd8a555f4e5e6",
            "48613dca7c0f4e0c8d7acad246a124eb",
            "45ec694438b5449f9dbbac1af5e5fd99",
            "32171736dcff4e8c80d18cb060fb8162",
            "43526a6977844284962900a8a718156b",
            "90f693c9f88240c280dcb9566c5b6d16",
            "a28fcf4a960642aaa4de32329c60d128",
            "05547c689bba48f4a6f69d2e26fca73d",
            "fdf157e46c244cff9bf62ab1cc5bb366",
            "1739c25b6e4c45feb21775b887ea479a"
          ]
        }
      },
      "outputs": [
        {
          "output_type": "display_data",
          "data": {
            "text/plain": [
              "Downloading:   0%|          | 0.00/226k [00:00<?, ?B/s]"
            ],
            "application/vnd.jupyter.widget-view+json": {
              "version_major": 2,
              "version_minor": 0,
              "model_id": "288ffdb5c61247e29ad3c99ba15b46af"
            }
          },
          "metadata": {}
        },
        {
          "output_type": "display_data",
          "data": {
            "text/plain": [
              "Downloading:   0%|          | 0.00/28.0 [00:00<?, ?B/s]"
            ],
            "application/vnd.jupyter.widget-view+json": {
              "version_major": 2,
              "version_minor": 0,
              "model_id": "18dee036b4374750973ad793a7f4afa9"
            }
          },
          "metadata": {}
        },
        {
          "output_type": "display_data",
          "data": {
            "text/plain": [
              "Downloading:   0%|          | 0.00/570 [00:00<?, ?B/s]"
            ],
            "application/vnd.jupyter.widget-view+json": {
              "version_major": 2,
              "version_minor": 0,
              "model_id": "49242d89a39145838bd829fe0a07557e"
            }
          },
          "metadata": {}
        }
      ],
      "source": [
        "from transformers import BertTokenizer\n",
        "\n",
        "tokenizer = BertTokenizer.from_pretrained('bert-base-uncased', do_lower_case=True)"
      ]
    },
    {
      "cell_type": "code",
      "execution_count": null,
      "id": "missing-thomas",
      "metadata": {
        "id": "missing-thomas"
      },
      "outputs": [],
      "source": [
        "import tensorflow as tf "
      ]
    },
    {
      "cell_type": "markdown",
      "id": "outer-specification",
      "metadata": {
        "id": "outer-specification"
      },
      "source": [
        "## BERT encoding\n",
        "\n",
        "Data is encoded according to BERT requirement.\n",
        "\n",
        "1. Tokenize the text\n",
        "2. Add [CLS] and [SEP] token\n",
        "3. Pad the sentences to sequence length of 512"
      ]
    },
    {
      "cell_type": "code",
      "execution_count": null,
      "id": "sudden-typing",
      "metadata": {
        "id": "sudden-typing"
      },
      "outputs": [],
      "source": [
        "def bert_encode(data, maximum_sequence_length) :\n",
        "    input_ids = []\n",
        "    attention_masks = []\n",
        "\n",
        "\n",
        "    for i in range(len(data.text)):\n",
        "        encoded = tokenizer.encode_plus(\n",
        "            data.text[i],\n",
        "            add_special_tokens=True,\n",
        "            max_length=maximum_sequence_length,\n",
        "            pad_to_max_length=True,\n",
        "            return_attention_mask=True,\n",
        "            truncation = True\n",
        "        )\n",
        "\n",
        "        input_ids.append(encoded['input_ids'])\n",
        "        attention_masks.append(encoded['attention_mask'])\n",
        "    return np.array(input_ids),np.array(attention_masks)"
      ]
    },
    {
      "cell_type": "markdown",
      "id": "undefined-sculpture",
      "metadata": {
        "id": "undefined-sculpture"
      },
      "source": [
        "The input to BERT are two numpy arrays:\n",
        "\n",
        "1) input_ids : list of token ids to be fed to a model\n",
        "\n",
        "2) attention_masks: list of indices specifying which tokens should be attended to by the model.The input sequences are denoted by 1 and the padded ones by 0. These masks help to differentiate between the two."
      ]
    },
    {
      "cell_type": "markdown",
      "id": "alone-bachelor",
      "metadata": {
        "id": "alone-bachelor"
      },
      "source": [
        "## Create custom BERT Model\n",
        "\n",
        "This BERT mdoel uses  TFBertModel with a dense layer and sigmoid activation."
      ]
    },
    {
      "cell_type": "code",
      "execution_count": null,
      "id": "trained-notice",
      "metadata": {
        "id": "trained-notice"
      },
      "outputs": [],
      "source": [
        "# Define f1 metric\n",
        "# Code from https://stackoverflow.com/questions/43547402/how-to-calculate-f1-macro-in-keras\n",
        "from keras import backend as K\n",
        "\n",
        "def recall(y_true, y_pred):\n",
        "    \"\"\"Recall metric.\n",
        "\n",
        "    Only computes a batch-wise average of recall.\n",
        "\n",
        "    Computes the recall, a metric for multi-label classification of\n",
        "    how many relevant items are selected.\n",
        "    \"\"\"\n",
        "    true_positives = K.sum(K.round(K.clip(y_true * y_pred, 0, 1)))\n",
        "    possible_positives = K.sum(K.round(K.clip(y_true, 0, 1)))\n",
        "    recall = true_positives / (possible_positives + K.epsilon())\n",
        "    return recall\n",
        "\n",
        "def precision(y_true, y_pred):\n",
        "    \"\"\"Precision metric.\n",
        "\n",
        "    Only computes a batch-wise average of precision.\n",
        "\n",
        "    Computes the precision, a metric for multi-label classification of\n",
        "    how many selected items are relevant.\n",
        "    \"\"\"\n",
        "    true_positives = K.sum(K.round(K.clip(y_true * y_pred, 0, 1)))\n",
        "    predicted_positives = K.sum(K.round(K.clip(y_pred, 0, 1)))\n",
        "    precision = true_positives / (predicted_positives + K.epsilon())\n",
        "    return precision\n",
        "\n",
        "    \n",
        "def f1(y_true, y_pred):\n",
        "    precision_value = precision(y_true, y_pred)\n",
        "    recall_value = recall(y_true, y_pred)\n",
        "    return 2*((precision_value*recall_value) / (precision_value+recall_value+K.epsilon()))"
      ]
    },
    {
      "cell_type": "code",
      "execution_count": null,
      "id": "athletic-flush",
      "metadata": {
        "id": "athletic-flush"
      },
      "outputs": [],
      "source": [
        "import tensorflow as tf\n",
        "from tensorflow.keras.optimizers import Adam\n",
        "\n",
        "def create_model(bert_model):\n",
        "    input_ids = tf.keras.Input(shape=(512,),dtype='int32')\n",
        "    attention_masks = tf.keras.Input(shape=(512,),dtype='int32')\n",
        "\n",
        "    output = bert_model([input_ids,attention_masks])\n",
        "    output = output[1]\n",
        "    output = tf.keras.layers.Dense(32,activation='relu')(output)\n",
        "    output = tf.keras.layers.Dropout(0.2)(output)\n",
        "\n",
        "    output = tf.keras.layers.Dense(1,activation='sigmoid')(output)\n",
        "    model = tf.keras.models.Model(inputs = [input_ids,attention_masks],outputs = output)\n",
        "    model.compile(Adam(lr=6e-6), loss='binary_crossentropy', metrics=['accuracy', recall, precision, f1])\n",
        "    return model"
      ]
    },
    {
      "cell_type": "code",
      "execution_count": null,
      "id": "enabling-medicare",
      "metadata": {
        "id": "enabling-medicare",
        "outputId": "3a2aa6d2-84c7-4c5e-ed04-da1fe694752f",
        "colab": {
          "base_uri": "https://localhost:8080/",
          "height": 156,
          "referenced_widgets": [
            "353a4b2fdcd248be83b53bd902300aea",
            "0de0e17efaf34373b0c251edead74cd5",
            "883fcd4cdcc245619f738446bba1b36d",
            "1a5d8809369c41d78373db8ddd6798f4",
            "88bc8c9a67e54188854e64717eb318b4",
            "652b571c8e3c42b2a035a3d2b7d4f48e",
            "b23cd03bc33a40da99e095ea71e1726f",
            "e6ecb71e446245708e5b4ab77d6f7538",
            "194467554ad640bf90303161306d2452",
            "4adab587e01142cba19629e7368ae0df",
            "e648891c426a4ea9becfd5206b98b035"
          ]
        }
      },
      "outputs": [
        {
          "output_type": "display_data",
          "data": {
            "text/plain": [
              "Downloading:   0%|          | 0.00/511M [00:00<?, ?B/s]"
            ],
            "application/vnd.jupyter.widget-view+json": {
              "version_major": 2,
              "version_minor": 0,
              "model_id": "353a4b2fdcd248be83b53bd902300aea"
            }
          },
          "metadata": {}
        },
        {
          "output_type": "stream",
          "name": "stderr",
          "text": [
            "Some layers from the model checkpoint at bert-base-uncased were not used when initializing TFBertModel: ['mlm___cls', 'nsp___cls']\n",
            "- This IS expected if you are initializing TFBertModel from the checkpoint of a model trained on another task or with another architecture (e.g. initializing a BertForSequenceClassification model from a BertForPreTraining model).\n",
            "- This IS NOT expected if you are initializing TFBertModel from the checkpoint of a model that you expect to be exactly identical (initializing a BertForSequenceClassification model from a BertForSequenceClassification model).\n",
            "All the layers of TFBertModel were initialized from the model checkpoint at bert-base-uncased.\n",
            "If your task is similar to the task the model of the checkpoint was trained on, you can already use TFBertModel for predictions without further training.\n"
          ]
        }
      ],
      "source": [
        "from transformers import TFBertModel\n",
        "\n",
        "bert_model = TFBertModel.from_pretrained('bert-base-uncased')"
      ]
    },
    {
      "cell_type": "code",
      "execution_count": null,
      "id": "friendly-impression",
      "metadata": {
        "id": "friendly-impression",
        "outputId": "17eb953b-647d-454e-ecd5-d0cfd4509879",
        "colab": {
          "base_uri": "https://localhost:8080/"
        }
      },
      "outputs": [
        {
          "output_type": "stream",
          "name": "stdout",
          "text": [
            "Model: \"model\"\n",
            "__________________________________________________________________________________________________\n",
            " Layer (type)                   Output Shape         Param #     Connected to                     \n",
            "==================================================================================================\n",
            " input_1 (InputLayer)           [(None, 512)]        0           []                               \n",
            "                                                                                                  \n",
            " input_2 (InputLayer)           [(None, 512)]        0           []                               \n",
            "                                                                                                  \n",
            " tf_bert_model (TFBertModel)    TFBaseModelOutputWi  109482240   ['input_1[0][0]',                \n",
            "                                thPoolingAndCrossAt               'input_2[0][0]']                \n",
            "                                tentions(last_hidde                                               \n",
            "                                n_state=(None, 512,                                               \n",
            "                                 768),                                                            \n",
            "                                 pooler_output=(Non                                               \n",
            "                                e, 768),                                                          \n",
            "                                 past_key_values=No                                               \n",
            "                                ne, hidden_states=N                                               \n",
            "                                one, attentions=Non                                               \n",
            "                                e, cross_attentions                                               \n",
            "                                =None)                                                            \n",
            "                                                                                                  \n",
            " dense (Dense)                  (None, 32)           24608       ['tf_bert_model[0][1]']          \n",
            "                                                                                                  \n",
            " dropout_37 (Dropout)           (None, 32)           0           ['dense[0][0]']                  \n",
            "                                                                                                  \n",
            " dense_1 (Dense)                (None, 1)            33          ['dropout_37[0][0]']             \n",
            "                                                                                                  \n",
            "==================================================================================================\n",
            "Total params: 109,506,881\n",
            "Trainable params: 109,506,881\n",
            "Non-trainable params: 0\n",
            "__________________________________________________________________________________________________\n"
          ]
        },
        {
          "output_type": "stream",
          "name": "stderr",
          "text": [
            "/usr/local/lib/python3.7/dist-packages/keras/optimizer_v2/adam.py:105: UserWarning: The `lr` argument is deprecated, use `learning_rate` instead.\n",
            "  super(Adam, self).__init__(name, **kwargs)\n"
          ]
        }
      ],
      "source": [
        "model = create_model(bert_model)\n",
        "model.summary()"
      ]
    },
    {
      "cell_type": "markdown",
      "id": "forced-appearance",
      "metadata": {
        "id": "forced-appearance"
      },
      "source": [
        "# TFBertModel for local development\n",
        "\n",
        "This BERT model was used for development purposes and makes use of the validation set to evaluate the performance on the given task."
      ]
    },
    {
      "cell_type": "code",
      "execution_count": null,
      "id": "aging-greensboro",
      "metadata": {
        "id": "aging-greensboro",
        "outputId": "ab61e469-0817-49f6-cda5-01bb5d87f439",
        "colab": {
          "base_uri": "https://localhost:8080/"
        }
      },
      "outputs": [
        {
          "output_type": "stream",
          "name": "stderr",
          "text": [
            "/usr/local/lib/python3.7/dist-packages/transformers/tokenization_utils_base.py:2269: FutureWarning: The `pad_to_max_length` argument is deprecated and will be removed in a future version, use `padding=True` or `padding='longest'` to pad to the longest sequence in the batch, or use `padding='max_length'` to pad to a max length. In this case, you can give a specific length with `max_length` (e.g. `max_length=45`) or leave max_length to None to pad to the maximal input size of the model (e.g. 512 for Bert).\n",
            "  FutureWarning,\n"
          ]
        }
      ],
      "source": [
        "train_input_ids,train_attention_masks = bert_encode(train_df,512)\n",
        "dev_input_ids,dev_attention_masks = bert_encode(dev_df,512)\n",
        "test_input_ids,test_attention_masks = bert_encode(test_df,512)"
      ]
    },
    {
      "cell_type": "markdown",
      "id": "surrounded-parade",
      "metadata": {
        "id": "surrounded-parade"
      },
      "source": [
        "## Training\n",
        "\n",
        "Fit for 7 epochs:"
      ]
    },
    {
      "cell_type": "code",
      "execution_count": null,
      "id": "aware-dining",
      "metadata": {
        "id": "aware-dining"
      },
      "outputs": [],
      "source": [
        "validation_data = ([dev_input_ids, dev_attention_masks], dev_df.label)"
      ]
    },
    {
      "cell_type": "code",
      "execution_count": null,
      "id": "crude-retrieval",
      "metadata": {
        "id": "crude-retrieval"
      },
      "outputs": [],
      "source": [
        "callback = tf.keras.callbacks.EarlyStopping(monitor='loss', patience=3)\n",
        "epochs = 7\n",
        "batch_size = 4"
      ]
    },
    {
      "cell_type": "code",
      "execution_count": null,
      "id": "sustainable-definition",
      "metadata": {
        "id": "sustainable-definition",
        "outputId": "f00a0d31-8f36-4d83-d3ca-1631a1f92345",
        "colab": {
          "base_uri": "https://localhost:8080/"
        }
      },
      "outputs": [
        {
          "output_type": "stream",
          "name": "stdout",
          "text": [
            "Epoch 1/7\n",
            "452/452 [==============================] - 264s 547ms/step - loss: 0.4570 - accuracy: 0.7676 - recall: 0.1687 - precision: 0.1901 - f1: 0.1659 - val_loss: 0.3353 - val_accuracy: 0.8471 - val_recall: 0.5794 - val_precision: 0.5168 - val_f1: 0.5329\n",
            "Epoch 2/7\n",
            "452/452 [==============================] - 246s 544ms/step - loss: 0.2576 - accuracy: 0.8993 - recall: 0.5028 - precision: 0.4980 - f1: 0.4884 - val_loss: 0.2204 - val_accuracy: 0.9311 - val_recall: 0.5884 - val_precision: 0.5884 - val_f1: 0.5805\n",
            "Epoch 3/7\n",
            "452/452 [==============================] - 246s 545ms/step - loss: 0.1446 - accuracy: 0.9607 - recall: 0.6073 - precision: 0.5999 - f1: 0.5965 - val_loss: 0.2515 - val_accuracy: 0.9176 - val_recall: 0.4776 - val_precision: 0.5224 - val_f1: 0.4893\n",
            "Epoch 4/7\n",
            "452/452 [==============================] - 246s 545ms/step - loss: 0.0857 - accuracy: 0.9795 - recall: 0.6042 - precision: 0.6077 - f1: 0.6031 - val_loss: 0.1829 - val_accuracy: 0.9395 - val_recall: 0.6040 - val_precision: 0.5872 - val_f1: 0.5904\n",
            "Epoch 5/7\n",
            "452/452 [==============================] - 246s 544ms/step - loss: 0.0460 - accuracy: 0.9906 - recall: 0.6464 - precision: 0.6460 - f1: 0.6448 - val_loss: 0.1826 - val_accuracy: 0.9345 - val_recall: 0.6174 - val_precision: 0.5895 - val_f1: 0.5966\n",
            "Epoch 6/7\n",
            "452/452 [==============================] - 246s 545ms/step - loss: 0.0338 - accuracy: 0.9934 - recall: 0.6254 - precision: 0.6305 - f1: 0.6271 - val_loss: 0.1517 - val_accuracy: 0.9563 - val_recall: 0.6242 - val_precision: 0.6152 - val_f1: 0.6154\n",
            "Epoch 7/7\n",
            "452/452 [==============================] - 246s 544ms/step - loss: 0.0166 - accuracy: 0.9978 - recall: 0.6527 - precision: 0.6508 - f1: 0.6515 - val_loss: 0.1840 - val_accuracy: 0.9445 - val_recall: 0.6208 - val_precision: 0.6040 - val_f1: 0.6060\n"
          ]
        }
      ],
      "source": [
        "history = model.fit([train_input_ids,train_attention_masks], train_df.label, validation_data=validation_data ,callbacks=[callback], epochs=epochs, batch_size=batch_size)"
      ]
    },
    {
      "cell_type": "code",
      "execution_count": null,
      "id": "numerical-invalid",
      "metadata": {
        "id": "numerical-invalid"
      },
      "outputs": [],
      "source": [
        "acc = history.history['accuracy']\n",
        "val_acc = history.history['val_accuracy']\n",
        "\n",
        "loss = history.history['loss']\n",
        "val_loss = history.history['val_loss']\n",
        "\n",
        "f1 = history.history['f1']\n",
        "val_f1 = history.history['val_f1']"
      ]
    },
    {
      "cell_type": "code",
      "execution_count": null,
      "id": "advised-selection",
      "metadata": {
        "id": "advised-selection",
        "outputId": "e9257cb5-2151-4aad-cfad-0a1b6d1f84f6",
        "colab": {
          "base_uri": "https://localhost:8080/",
          "height": 809
        }
      },
      "outputs": [
        {
          "output_type": "display_data",
          "data": {
            "text/plain": [
              "<Figure size 432x288 with 1 Axes>"
            ],
            "image/png": "[encoded data removed]"
          },
          "metadata": {
            "needs_background": "light"
          }
        },
        {
          "output_type": "display_data",
          "data": {
            "text/plain": [
              "<Figure size 432x288 with 1 Axes>"
            ],
            "image/png": "[encoded data removed]"
          },
          "metadata": {
            "needs_background": "light"
          }
        },
        {
          "output_type": "display_data",
          "data": {
            "text/plain": [
              "<Figure size 432x288 with 1 Axes>"
            ],
            "image/png": "[encoded data removed]"
          },
          "metadata": {
            "needs_background": "light"
          }
        }
      ],
      "source": [
        "import matplotlib.pyplot as plt\n",
        "\n",
        "epochs = range(1, len(acc) + 1)\n",
        "\n",
        "plt.plot(epochs, acc, 'b', color = \"red\", label='Training acc')\n",
        "plt.plot(epochs, val_acc, 'b', label='Validation acc')\n",
        "plt.title('Training and validation accuracy')\n",
        "plt.legend()\n",
        "\n",
        "plt.figure()\n",
        "\n",
        "plt.plot(epochs, loss, 'b', color=\"red\", label='Training loss')\n",
        "plt.plot(epochs, val_loss, 'b', label='Validation loss')\n",
        "plt.title('Training and validation loss')\n",
        "plt.legend()\n",
        "\n",
        "plt.figure()\n",
        "\n",
        "plt.plot(epochs, f1, 'b', color = \"green\", label='Training f1')\n",
        "plt.plot(epochs, val_f1, 'b', label='Validation f1')\n",
        "plt.title('Training and validation f1 score')\n",
        "plt.legend()\n",
        "\n",
        "plt.show()"
      ]
    },
    {
      "cell_type": "code",
      "execution_count": null,
      "id": "biblical-logic",
      "metadata": {
        "id": "biblical-logic",
        "colab": {
          "base_uri": "https://localhost:8080/"
        },
        "outputId": "33fd4f09-3032-44db-9fd9-63f55ae71dd0"
      },
      "outputs": [
        {
          "output_type": "stream",
          "name": "stderr",
          "text": [
            "WARNING:absl:Found untraced functions such as embeddings_layer_call_fn, embeddings_layer_call_and_return_conditional_losses, encoder_layer_call_fn, encoder_layer_call_and_return_conditional_losses, pooler_layer_call_fn while saving (showing 5 of 420). These functions will not be directly callable after loading.\n"
          ]
        },
        {
          "output_type": "stream",
          "name": "stdout",
          "text": [
            "INFO:tensorflow:Assets written to: ./pure_bert/pure_bert_v11/assets\n"
          ]
        },
        {
          "output_type": "stream",
          "name": "stderr",
          "text": [
            "INFO:tensorflow:Assets written to: ./pure_bert/pure_bert_v11/assets\n"
          ]
        }
      ],
      "source": [
        "model.save(\"./pure_bert/pure_bert_v11\")"
      ]
    },
    {
      "cell_type": "markdown",
      "id": "fancy-sound",
      "metadata": {
        "id": "fancy-sound"
      },
      "source": [
        "## Inference"
      ]
    },
    {
      "cell_type": "code",
      "execution_count": null,
      "id": "fitted-trader",
      "metadata": {
        "id": "fitted-trader"
      },
      "outputs": [],
      "source": [
        "result = model.predict([test_input_ids, test_attention_masks])\n",
        "result = np.round(result).astype(int)\n",
        "#pred_labels = np.argmax(result, axis = 1)\n",
        "\n",
        "#predicted_labels = [dataloader.convert_prediction(pred) for pred in result]\n",
        "#output = pd.DataFrame({'id':test_df.id,'target':predicted_labels})\n",
        "#output"
      ]
    },
    {
      "cell_type": "code",
      "source": [
        "#result"
      ],
      "metadata": {
        "id": "h1f2R3UGiFf3"
      },
      "id": "h1f2R3UGiFf3",
      "execution_count": null,
      "outputs": []
    },
    {
      "cell_type": "code",
      "source": [
        "with open('test.predictions.txt', 'w') as output:\n",
        "  output.write('Id,Predicted\\n')\n",
        "  counter = 0\n",
        "  for elem in list(result):\n",
        "    for elem2 in list(elem):\n",
        "      output.write(str(counter) + ',' + str(elem2)+'\\n')\n",
        "      counter+=1\n",
        "\n",
        "\n",
        "\n",
        "######### 目前输出截止到这里"
      ],
      "metadata": {
        "id": "QkSqr1DPgM7g"
      },
      "id": "QkSqr1DPgM7g",
      "execution_count": null,
      "outputs": []
    },
    {
      "cell_type": "code",
      "source": [
        "output"
      ],
      "metadata": {
        "id": "qbz0UUUJido0"
      },
      "id": "qbz0UUUJido0",
      "execution_count": null,
      "outputs": []
    },
    {
      "cell_type": "code",
      "source": [
        "def convert_label(label):\n",
        "    if label == \"rumour\":\n",
        "        return 1\n",
        "    elif label == \"non-rumour\":\n",
        "        return 0\n",
        "    else:\n",
        "        raise Exception(\"label classes must be 'rumour' or 'non-rumour'\")\n",
        "        \n",
        "        \n",
        "def convert_prediction(pred):\n",
        "    if pred == 1:\n",
        "        return \"rumour\"\n",
        "    elif pred == 0:\n",
        "        return \"nonrumour\"\n",
        "    else:\n",
        "        raise Exception(\"prediction classes must be '0' or '1'\")"
      ],
      "metadata": {
        "id": "5jcsa6m2fGis"
      },
      "id": "5jcsa6m2fGis",
      "execution_count": null,
      "outputs": []
    },
    {
      "cell_type": "code",
      "source": [
        "predicted_labels = [convert_prediction(pred) for pred in result]\n",
        "output = pd.DataFrame({'id':test_df.id,'target':predicted_labels})\n",
        "output"
      ],
      "metadata": {
        "id": "fB3JO2LfepQm"
      },
      "id": "fB3JO2LfepQm",
      "execution_count": null,
      "outputs": []
    },
    {
      "cell_type": "code",
      "source": [
        ""
      ],
      "metadata": {
        "id": "rviJIw-qfFMV"
      },
      "id": "rviJIw-qfFMV",
      "execution_count": null,
      "outputs": []
    },
    {
      "cell_type": "code",
      "source": [
        ""
      ],
      "metadata": {
        "id": "jnE2HroQeGM_"
      },
      "id": "jnE2HroQeGM_",
      "execution_count": null,
      "outputs": []
    },
    {
      "cell_type": "code",
      "source": [
        "output"
      ],
      "metadata": {
        "id": "5IiOgPvHeMPE"
      },
      "id": "5IiOgPvHeMPE",
      "execution_count": null,
      "outputs": []
    },
    {
      "cell_type": "code",
      "execution_count": null,
      "id": "celtic-information",
      "metadata": {
        "id": "celtic-information"
      },
      "outputs": [],
      "source": [
        "submission = pd.Series(output.target.values,index=output.id).to_dict()\n",
        "with open('test-output_v11.json', 'w') as f:\n",
        "    json.dump(submission, f)"
      ]
    },
    {
      "cell_type": "code",
      "execution_count": null,
      "id": "pediatric-dominant",
      "metadata": {
        "id": "pediatric-dominant"
      },
      "outputs": [],
      "source": [
        ""
      ]
    },
    {
      "cell_type": "markdown",
      "id": "contrary-theorem",
      "metadata": {
        "id": "contrary-theorem"
      },
      "source": [
        "# BERT model from Huggingface Hub for CodaLab competition"
      ]
    },
    {
      "cell_type": "markdown",
      "id": "impaired-billy",
      "metadata": {
        "id": "impaired-billy"
      },
      "source": [
        "For the CodaLab compeition, the train and development dataset has been merged to increase the size of the training set."
      ]
    },
    {
      "cell_type": "code",
      "execution_count": null,
      "id": "severe-nomination",
      "metadata": {
        "id": "severe-nomination",
        "outputId": "48f7ebd4-c18e-450d-e852-4569cc3485b0"
      },
      "outputs": [
        {
          "data": {
            "text/html": [
              "<div>\n",
              "<style scoped>\n",
              "    .dataframe tbody tr th:only-of-type {\n",
              "        vertical-align: middle;\n",
              "    }\n",
              "\n",
              "    .dataframe tbody tr th {\n",
              "        vertical-align: top;\n",
              "    }\n",
              "\n",
              "    .dataframe thead th {\n",
              "        text-align: right;\n",
              "    }\n",
              "</style>\n",
              "<table border=\"1\" class=\"dataframe\">\n",
              "  <thead>\n",
              "    <tr style=\"text-align: right;\">\n",
              "      <th></th>\n",
              "      <th>id</th>\n",
              "      <th>text</th>\n",
              "      <th>retweet_count</th>\n",
              "      <th>favorite_count</th>\n",
              "      <th>question_mark</th>\n",
              "      <th>contains_url</th>\n",
              "      <th>number_urls</th>\n",
              "      <th>contains_media</th>\n",
              "      <th>statuses_count</th>\n",
              "      <th>listed_count</th>\n",
              "      <th>...</th>\n",
              "      <th>reputation_score_2</th>\n",
              "      <th>favourites_count</th>\n",
              "      <th>verified</th>\n",
              "      <th>geo_enabled</th>\n",
              "      <th>has_description</th>\n",
              "      <th>length_description</th>\n",
              "      <th>source_tweet</th>\n",
              "      <th>replies</th>\n",
              "      <th>hashtags</th>\n",
              "      <th>label</th>\n",
              "    </tr>\n",
              "  </thead>\n",
              "  <tbody>\n",
              "    <tr>\n",
              "      <th>0</th>\n",
              "      <td>552800070199148544</td>\n",
              "      <td>how to respond to the murderous attack on char...</td>\n",
              "      <td>228</td>\n",
              "      <td>77</td>\n",
              "      <td>True</td>\n",
              "      <td>False</td>\n",
              "      <td>0</td>\n",
              "      <td>True</td>\n",
              "      <td>27923</td>\n",
              "      <td>185</td>\n",
              "      <td>...</td>\n",
              "      <td>0.908971</td>\n",
              "      <td>500</td>\n",
              "      <td>False</td>\n",
              "      <td>False</td>\n",
              "      <td>True</td>\n",
              "      <td>46</td>\n",
              "      <td>how to respond to the murderous attack on char...</td>\n",
              "      <td>[jews label anyone they do not like as anti se...</td>\n",
              "      <td>[imcharliehebdo]</td>\n",
              "      <td>0</td>\n",
              "    </tr>\n",
              "    <tr>\n",
              "      <th>1</th>\n",
              "      <td>544388259359387648</td>\n",
              "      <td>you can not condemn an entire race  nation or ...</td>\n",
              "      <td>352</td>\n",
              "      <td>252</td>\n",
              "      <td>False</td>\n",
              "      <td>False</td>\n",
              "      <td>0</td>\n",
              "      <td>False</td>\n",
              "      <td>745</td>\n",
              "      <td>2</td>\n",
              "      <td>...</td>\n",
              "      <td>0.413158</td>\n",
              "      <td>428</td>\n",
              "      <td>False</td>\n",
              "      <td>False</td>\n",
              "      <td>True</td>\n",
              "      <td>115</td>\n",
              "      <td>you can not condemn an entire race  nation or ...</td>\n",
              "      <td>[how many times are we going to have the  do n...</td>\n",
              "      <td>[sydneysiege, sydneysiege, leftistluzer, sydne...</td>\n",
              "      <td>0</td>\n",
              "    </tr>\n",
              "    <tr>\n",
              "      <th>2</th>\n",
              "      <td>552805970536333314</td>\n",
              "      <td>attempts to extend blame for this to all musli...</td>\n",
              "      <td>876</td>\n",
              "      <td>400</td>\n",
              "      <td>False</td>\n",
              "      <td>False</td>\n",
              "      <td>0</td>\n",
              "      <td>False</td>\n",
              "      <td>74137</td>\n",
              "      <td>1431</td>\n",
              "      <td>...</td>\n",
              "      <td>0.954630</td>\n",
              "      <td>6423</td>\n",
              "      <td>False</td>\n",
              "      <td>True</td>\n",
              "      <td>True</td>\n",
              "      <td>149</td>\n",
              "      <td>attempts to extend blame for this to all musli...</td>\n",
              "      <td>[when will we see mass protests from  amoderat...</td>\n",
              "      <td>[charliehebdo, nonmuslimlivesmatter]</td>\n",
              "      <td>0</td>\n",
              "    </tr>\n",
              "    <tr>\n",
              "      <th>3</th>\n",
              "      <td>525071376084791297</td>\n",
              "      <td>rest in peace  cpl  nathan cirillo  killed tod...</td>\n",
              "      <td>112</td>\n",
              "      <td>96</td>\n",
              "      <td>False</td>\n",
              "      <td>True</td>\n",
              "      <td>1</td>\n",
              "      <td>True</td>\n",
              "      <td>28103</td>\n",
              "      <td>418</td>\n",
              "      <td>...</td>\n",
              "      <td>0.933548</td>\n",
              "      <td>2140</td>\n",
              "      <td>True</td>\n",
              "      <td>True</td>\n",
              "      <td>True</td>\n",
              "      <td>157</td>\n",
              "      <td>rest in peace  cpl  nathan cirillo  killed tod...</td>\n",
              "      <td>[hot guy, hey frizz i was right downtown crazy...</td>\n",
              "      <td>[ottawashooting, ottawashooting, ottawashootin...</td>\n",
              "      <td>1</td>\n",
              "    </tr>\n",
              "    <tr>\n",
              "      <th>4</th>\n",
              "      <td>498355319979143168</td>\n",
              "      <td>people debating whether mikebrown shoplifted o...</td>\n",
              "      <td>802</td>\n",
              "      <td>298</td>\n",
              "      <td>False</td>\n",
              "      <td>False</td>\n",
              "      <td>0</td>\n",
              "      <td>False</td>\n",
              "      <td>55920</td>\n",
              "      <td>65</td>\n",
              "      <td>...</td>\n",
              "      <td>0.678947</td>\n",
              "      <td>25389</td>\n",
              "      <td>False</td>\n",
              "      <td>False</td>\n",
              "      <td>True</td>\n",
              "      <td>156</td>\n",
              "      <td>people debating whether mikebrown shoplifted o...</td>\n",
              "      <td>[yeah and shooting him    times while not even...</td>\n",
              "      <td>[mikebrown, ferguson, mikebrown, mikebrown, mi...</td>\n",
              "      <td>0</td>\n",
              "    </tr>\n",
              "    <tr>\n",
              "      <th>...</th>\n",
              "      <td>...</td>\n",
              "      <td>...</td>\n",
              "      <td>...</td>\n",
              "      <td>...</td>\n",
              "      <td>...</td>\n",
              "      <td>...</td>\n",
              "      <td>...</td>\n",
              "      <td>...</td>\n",
              "      <td>...</td>\n",
              "      <td>...</td>\n",
              "      <td>...</td>\n",
              "      <td>...</td>\n",
              "      <td>...</td>\n",
              "      <td>...</td>\n",
              "      <td>...</td>\n",
              "      <td>...</td>\n",
              "      <td>...</td>\n",
              "      <td>...</td>\n",
              "      <td>...</td>\n",
              "      <td>...</td>\n",
              "      <td>...</td>\n",
              "    </tr>\n",
              "    <tr>\n",
              "      <th>5216</th>\n",
              "      <td>525025279803424768</td>\n",
              "      <td>the soldier shot dead in wednesday is ottawa a...</td>\n",
              "      <td>119</td>\n",
              "      <td>36</td>\n",
              "      <td>False</td>\n",
              "      <td>False</td>\n",
              "      <td>0</td>\n",
              "      <td>True</td>\n",
              "      <td>88483</td>\n",
              "      <td>306</td>\n",
              "      <td>...</td>\n",
              "      <td>0.727071</td>\n",
              "      <td>1903</td>\n",
              "      <td>True</td>\n",
              "      <td>True</td>\n",
              "      <td>True</td>\n",
              "      <td>101</td>\n",
              "      <td>the soldier shot dead in wednesday is ottawa a...</td>\n",
              "      <td>[my condolences go out to your family, that   ...</td>\n",
              "      <td>[hamont, ottawashooting, notinvain]</td>\n",
              "      <td>1</td>\n",
              "    </tr>\n",
              "    <tr>\n",
              "      <th>5217</th>\n",
              "      <td>552784600502915072</td>\n",
              "      <td>charlie hebdo became well known for publishing...</td>\n",
              "      <td>202</td>\n",
              "      <td>41</td>\n",
              "      <td>False</td>\n",
              "      <td>False</td>\n",
              "      <td>0</td>\n",
              "      <td>False</td>\n",
              "      <td>15128</td>\n",
              "      <td>1657</td>\n",
              "      <td>...</td>\n",
              "      <td>0.948267</td>\n",
              "      <td>0</td>\n",
              "      <td>True</td>\n",
              "      <td>True</td>\n",
              "      <td>True</td>\n",
              "      <td>158</td>\n",
              "      <td>charlie hebdo became well known for publishing...</td>\n",
              "      <td>[i am muslim  would you call me violent  even ...</td>\n",
              "      <td>[islamphobiaatitsbest]</td>\n",
              "      <td>0</td>\n",
              "    </tr>\n",
              "    <tr>\n",
              "      <th>5218</th>\n",
              "      <td>499696525808001024</td>\n",
              "      <td>we got through  that is a sniper on top of a t...</td>\n",
              "      <td>432</td>\n",
              "      <td>55</td>\n",
              "      <td>False</td>\n",
              "      <td>True</td>\n",
              "      <td>1</td>\n",
              "      <td>False</td>\n",
              "      <td>61902</td>\n",
              "      <td>1627</td>\n",
              "      <td>...</td>\n",
              "      <td>0.982027</td>\n",
              "      <td>1163</td>\n",
              "      <td>False</td>\n",
              "      <td>True</td>\n",
              "      <td>True</td>\n",
              "      <td>159</td>\n",
              "      <td>we got through  that is a sniper on top of a t...</td>\n",
              "      <td>[we got through  that is a sniper on top of a ...</td>\n",
              "      <td>[ferguson, ferguson, ferguson, responsiblejour...</td>\n",
              "      <td>0</td>\n",
              "    </tr>\n",
              "    <tr>\n",
              "      <th>5219</th>\n",
              "      <td>580320612155060224</td>\n",
              "      <td>last position of germanwings flight  u     at ...</td>\n",
              "      <td>3092</td>\n",
              "      <td>480</td>\n",
              "      <td>False</td>\n",
              "      <td>True</td>\n",
              "      <td>1</td>\n",
              "      <td>True</td>\n",
              "      <td>7991</td>\n",
              "      <td>2384</td>\n",
              "      <td>...</td>\n",
              "      <td>0.998276</td>\n",
              "      <td>1131</td>\n",
              "      <td>True</td>\n",
              "      <td>True</td>\n",
              "      <td>True</td>\n",
              "      <td>146</td>\n",
              "      <td>last position of germanwings flight  u     at ...</td>\n",
              "      <td>[where was the pilot  how come he did not use ...</td>\n",
              "      <td>[4u9525, 4u9525, 4u9525, 4u9525, 4u9525, 4u952...</td>\n",
              "      <td>1</td>\n",
              "    </tr>\n",
              "    <tr>\n",
              "      <th>5220</th>\n",
              "      <td>553218279557582849</td>\n",
              "      <td>kudos to google for donating          to help ...</td>\n",
              "      <td>151</td>\n",
              "      <td>100</td>\n",
              "      <td>False</td>\n",
              "      <td>True</td>\n",
              "      <td>1</td>\n",
              "      <td>False</td>\n",
              "      <td>133992</td>\n",
              "      <td>4642</td>\n",
              "      <td>...</td>\n",
              "      <td>0.945656</td>\n",
              "      <td>36328</td>\n",
              "      <td>True</td>\n",
              "      <td>True</td>\n",
              "      <td>True</td>\n",
              "      <td>159</td>\n",
              "      <td>kudos to google for donating          to help ...</td>\n",
              "      <td>[good work  if there ever was a defender of pr...</td>\n",
              "      <td>[]</td>\n",
              "      <td>0</td>\n",
              "    </tr>\n",
              "  </tbody>\n",
              "</table>\n",
              "<p>5221 rows × 24 columns</p>\n",
              "</div>"
            ],
            "text/plain": [
              "                      id                                               text  \\\n",
              "0     552800070199148544  how to respond to the murderous attack on char...   \n",
              "1     544388259359387648  you can not condemn an entire race  nation or ...   \n",
              "2     552805970536333314  attempts to extend blame for this to all musli...   \n",
              "3     525071376084791297  rest in peace  cpl  nathan cirillo  killed tod...   \n",
              "4     498355319979143168  people debating whether mikebrown shoplifted o...   \n",
              "...                  ...                                                ...   \n",
              "5216  525025279803424768  the soldier shot dead in wednesday is ottawa a...   \n",
              "5217  552784600502915072  charlie hebdo became well known for publishing...   \n",
              "5218  499696525808001024  we got through  that is a sniper on top of a t...   \n",
              "5219  580320612155060224  last position of germanwings flight  u     at ...   \n",
              "5220  553218279557582849  kudos to google for donating          to help ...   \n",
              "\n",
              "      retweet_count  favorite_count  question_mark  contains_url  number_urls  \\\n",
              "0               228              77           True         False            0   \n",
              "1               352             252          False         False            0   \n",
              "2               876             400          False         False            0   \n",
              "3               112              96          False          True            1   \n",
              "4               802             298          False         False            0   \n",
              "...             ...             ...            ...           ...          ...   \n",
              "5216            119              36          False         False            0   \n",
              "5217            202              41          False         False            0   \n",
              "5218            432              55          False          True            1   \n",
              "5219           3092             480          False          True            1   \n",
              "5220            151             100          False          True            1   \n",
              "\n",
              "      contains_media  statuses_count  listed_count  ...  reputation_score_2  \\\n",
              "0               True           27923           185  ...            0.908971   \n",
              "1              False             745             2  ...            0.413158   \n",
              "2              False           74137          1431  ...            0.954630   \n",
              "3               True           28103           418  ...            0.933548   \n",
              "4              False           55920            65  ...            0.678947   \n",
              "...              ...             ...           ...  ...                 ...   \n",
              "5216            True           88483           306  ...            0.727071   \n",
              "5217           False           15128          1657  ...            0.948267   \n",
              "5218           False           61902          1627  ...            0.982027   \n",
              "5219            True            7991          2384  ...            0.998276   \n",
              "5220           False          133992          4642  ...            0.945656   \n",
              "\n",
              "      favourites_count  verified  geo_enabled  has_description  \\\n",
              "0                  500     False        False             True   \n",
              "1                  428     False        False             True   \n",
              "2                 6423     False         True             True   \n",
              "3                 2140      True         True             True   \n",
              "4                25389     False        False             True   \n",
              "...                ...       ...          ...              ...   \n",
              "5216              1903      True         True             True   \n",
              "5217                 0      True         True             True   \n",
              "5218              1163     False         True             True   \n",
              "5219              1131      True         True             True   \n",
              "5220             36328      True         True             True   \n",
              "\n",
              "      length_description                                       source_tweet  \\\n",
              "0                     46  how to respond to the murderous attack on char...   \n",
              "1                    115  you can not condemn an entire race  nation or ...   \n",
              "2                    149  attempts to extend blame for this to all musli...   \n",
              "3                    157  rest in peace  cpl  nathan cirillo  killed tod...   \n",
              "4                    156  people debating whether mikebrown shoplifted o...   \n",
              "...                  ...                                                ...   \n",
              "5216                 101  the soldier shot dead in wednesday is ottawa a...   \n",
              "5217                 158  charlie hebdo became well known for publishing...   \n",
              "5218                 159  we got through  that is a sniper on top of a t...   \n",
              "5219                 146  last position of germanwings flight  u     at ...   \n",
              "5220                 159  kudos to google for donating          to help ...   \n",
              "\n",
              "                                                replies  \\\n",
              "0     [jews label anyone they do not like as anti se...   \n",
              "1     [how many times are we going to have the  do n...   \n",
              "2     [when will we see mass protests from  amoderat...   \n",
              "3     [hot guy, hey frizz i was right downtown crazy...   \n",
              "4     [yeah and shooting him    times while not even...   \n",
              "...                                                 ...   \n",
              "5216  [my condolences go out to your family, that   ...   \n",
              "5217  [i am muslim  would you call me violent  even ...   \n",
              "5218  [we got through  that is a sniper on top of a ...   \n",
              "5219  [where was the pilot  how come he did not use ...   \n",
              "5220  [good work  if there ever was a defender of pr...   \n",
              "\n",
              "                                               hashtags  label  \n",
              "0                                      [imcharliehebdo]      0  \n",
              "1     [sydneysiege, sydneysiege, leftistluzer, sydne...      0  \n",
              "2                  [charliehebdo, nonmuslimlivesmatter]      0  \n",
              "3     [ottawashooting, ottawashooting, ottawashootin...      1  \n",
              "4     [mikebrown, ferguson, mikebrown, mikebrown, mi...      0  \n",
              "...                                                 ...    ...  \n",
              "5216                [hamont, ottawashooting, notinvain]      1  \n",
              "5217                             [islamphobiaatitsbest]      0  \n",
              "5218  [ferguson, ferguson, ferguson, responsiblejour...      0  \n",
              "5219  [4u9525, 4u9525, 4u9525, 4u9525, 4u9525, 4u952...      1  \n",
              "5220                                                 []      0  \n",
              "\n",
              "[5221 rows x 24 columns]"
            ]
          },
          "execution_count": 37,
          "metadata": {},
          "output_type": "execute_result"
        }
      ],
      "source": [
        "combined_df = train_df.append(dev_df, ignore_index = True)\n",
        "combined_df"
      ]
    },
    {
      "cell_type": "code",
      "execution_count": null,
      "id": "fewer-framework",
      "metadata": {
        "id": "fewer-framework",
        "outputId": "f29b5d3d-ffb7-4a24-d557-d290002d76c6"
      },
      "outputs": [
        {
          "name": "stderr",
          "output_type": "stream",
          "text": [
            "/opt/conda/lib/python3.7/site-packages/transformers/tokenization_utils_base.py:1770: FutureWarning: The `pad_to_max_length` argument is deprecated and will be removed in a future version, use `padding=True` or `padding='longest'` to pad to the longest sequence in the batch, or use `padding='max_length'` to pad to a max length. In this case, you can give a specific length with `max_length` (e.g. `max_length=45`) or leave max_length to None to pad to the maximal input size of the model (e.g. 512 for Bert).\n",
            "  FutureWarning,\n"
          ]
        }
      ],
      "source": [
        "combined_input_ids,combined_attention_masks = bert_encode(combined_df,512)\n",
        "test_input_ids,test_attention_masks = bert_encode(test_df,512)"
      ]
    },
    {
      "cell_type": "markdown",
      "id": "appointed-flash",
      "metadata": {
        "id": "appointed-flash"
      },
      "source": [
        "## Training\n",
        "\n",
        "Fit for 7 epochs:"
      ]
    },
    {
      "cell_type": "code",
      "execution_count": null,
      "id": "sexual-helping",
      "metadata": {
        "id": "sexual-helping"
      },
      "outputs": [],
      "source": [
        "callback = tf.keras.callbacks.EarlyStopping(monitor='loss', patience=3)\n",
        "epochs = 7\n",
        "batch_size = 4"
      ]
    },
    {
      "cell_type": "code",
      "execution_count": null,
      "id": "nasty-legislature",
      "metadata": {
        "id": "nasty-legislature",
        "outputId": "267ff694-1888-4908-c2fb-960a0b394267"
      },
      "outputs": [
        {
          "name": "stdout",
          "output_type": "stream",
          "text": [
            "Epoch 1/7\n",
            "1306/1306 [==============================] - 1215s 917ms/step - loss: 0.5511 - accuracy: 0.7157 - recall: 0.3364 - precision: 0.3670 - f1: 0.3318\n",
            "Epoch 2/7\n",
            "1306/1306 [==============================] - 1198s 917ms/step - loss: 0.3281 - accuracy: 0.8573 - recall: 0.6496 - precision: 0.6434 - f1: 0.6242\n",
            "Epoch 3/7\n",
            "1306/1306 [==============================] - 1198s 917ms/step - loss: 0.2103 - accuracy: 0.9158 - recall: 0.7516 - precision: 0.7381 - f1: 0.7317\n",
            "Epoch 4/7\n",
            "1306/1306 [==============================] - 1198s 917ms/step - loss: 0.1305 - accuracy: 0.9528 - recall: 0.7286 - precision: 0.7216 - f1: 0.7176\n",
            "Epoch 5/7\n",
            "1306/1306 [==============================] - 1198s 917ms/step - loss: 0.0714 - accuracy: 0.9764 - recall: 0.7915 - precision: 0.7898 - f1: 0.7862\n",
            "Epoch 6/7\n",
            "1306/1306 [==============================] - 1198s 917ms/step - loss: 0.0391 - accuracy: 0.9871 - recall: 0.7993 - precision: 0.8014 - f1: 0.7981\n",
            "Epoch 7/7\n",
            "1306/1306 [==============================] - 1198s 917ms/step - loss: 0.0230 - accuracy: 0.9919 - recall: 0.7877 - precision: 0.7885 - f1: 0.7868\n"
          ]
        }
      ],
      "source": [
        "history = model.fit([combined_input_ids,combined_attention_masks],combined_df.label,validation_split=0,callbacks=[callback], epochs=epochs,batch_size=batch_size)"
      ]
    },
    {
      "cell_type": "code",
      "execution_count": null,
      "id": "orange-photographer",
      "metadata": {
        "id": "orange-photographer",
        "outputId": "bbb1c7e1-08a8-477a-bae3-a51c5d317925"
      },
      "outputs": [
        {
          "name": "stderr",
          "output_type": "stream",
          "text": [
            "WARNING:absl:Found untraced functions such as embeddings_layer_call_and_return_conditional_losses, embeddings_layer_call_fn, encoder_layer_call_and_return_conditional_losses, encoder_layer_call_fn, pooler_layer_call_and_return_conditional_losses while saving (showing 5 of 1065). These functions will not be directly callable after loading.\n",
            "WARNING:absl:Found untraced functions such as embeddings_layer_call_and_return_conditional_losses, embeddings_layer_call_fn, encoder_layer_call_and_return_conditional_losses, encoder_layer_call_fn, pooler_layer_call_and_return_conditional_losses while saving (showing 5 of 1065). These functions will not be directly callable after loading.\n"
          ]
        },
        {
          "name": "stdout",
          "output_type": "stream",
          "text": [
            "INFO:tensorflow:Assets written to: ./pure_bert/pure_bert_v38/assets\n"
          ]
        },
        {
          "name": "stderr",
          "output_type": "stream",
          "text": [
            "INFO:tensorflow:Assets written to: ./pure_bert/pure_bert_v38/assets\n"
          ]
        }
      ],
      "source": [
        "model.save(\"./pure_bert/pure_bert_v38\")"
      ]
    },
    {
      "cell_type": "markdown",
      "id": "preceding-permission",
      "metadata": {
        "id": "preceding-permission"
      },
      "source": [
        "## Inference"
      ]
    },
    {
      "cell_type": "code",
      "execution_count": null,
      "id": "complex-nigeria",
      "metadata": {
        "id": "complex-nigeria"
      },
      "outputs": [],
      "source": [
        "result = model.predict([test_input_ids,test_attention_masks])\n",
        "result = np.round(result).astype(int)\n",
        "predicted_labels = [dataloader.convert_prediction(pred) for pred in result]\n",
        "output = pd.DataFrame({'id':test_df.id,'target':predicted_labels})\n",
        "output"
      ]
    },
    {
      "cell_type": "code",
      "execution_count": null,
      "id": "bulgarian-guard",
      "metadata": {
        "id": "bulgarian-guard"
      },
      "outputs": [],
      "source": [
        "submission = pd.Series(output.target.values,index=output.id).to_dict()\n",
        "with open('test-output_v38.json', 'w') as f:\n",
        "    json.dump(submission, f)"
      ]
    },
    {
      "cell_type": "code",
      "execution_count": null,
      "id": "ignored-standard",
      "metadata": {
        "id": "ignored-standard"
      },
      "outputs": [],
      "source": [
        ""
      ]
    }
  ],
  "metadata": {
    "environment": {
      "name": "tf2-gpu.2-3.m65",
      "type": "gcloud",
      "uri": "gcr.io/deeplearning-platform-release/tf2-gpu.2-3:m65"
    },
    "kernelspec": {
      "display_name": "Python 3",
      "language": "python",
      "name": "python3"
    },
    "language_info": {
      "codemirror_mode": {
        "name": "ipython",
        "version": 3
      },
      "file_extension": ".py",
      "mimetype": "text/x-python",
      "name": "python",
      "nbconvert_exporter": "python",
      "pygments_lexer": "ipython3",
      "version": "3.7.10"
    },
    "colab": {
      "name": "NLP_rumour_detection_huggingface_1.ipynb",
      "provenance": [],
      "machine_shape": "hm",
      "collapsed_sections": [
        "alone-bachelor",
        "surrounded-parade",
        "contrary-theorem",
        "appointed-flash",
        "preceding-permission"
      ]
    },
    "widgets": {
      "application/vnd.jupyter.widget-state+json": {
        "288ffdb5c61247e29ad3c99ba15b46af": {
          "model_module": "@jupyter-widgets/controls",
          "model_name": "HBoxModel",
          "model_module_version": "1.5.0",
          "state": {
            "_dom_classes": [],
            "_model_module": "@jupyter-widgets/controls",
            "_model_module_version": "1.5.0",
            "_model_name": "HBoxModel",
            "_view_count": null,
            "_view_module": "@jupyter-widgets/controls",
            "_view_module_version": "1.5.0",
            "_view_name": "HBoxView",
            "box_style": "",
            "children": [
              "IPY_MODEL_16c74906d3a741cabf781dd9d32e9487",
              "IPY_MODEL_e2979030ffbc433e9d633f6a8ba07046",
              "IPY_MODEL_927324a7cfae4e6aadee0b22aeb06e84"
            ],
            "layout": "IPY_MODEL_1310dfe00dd64413a1e66468a8af5014"
          }
        },
        "16c74906d3a741cabf781dd9d32e9487": {
          "model_module": "@jupyter-widgets/controls",
          "model_name": "HTMLModel",
          "model_module_version": "1.5.0",
          "state": {
            "_dom_classes": [],
            "_model_module": "@jupyter-widgets/controls",
            "_model_module_version": "1.5.0",
            "_model_name": "HTMLModel",
            "_view_count": null,
            "_view_module": "@jupyter-widgets/controls",
            "_view_module_version": "1.5.0",
            "_view_name": "HTMLView",
            "description": "",
            "description_tooltip": null,
            "layout": "IPY_MODEL_cd543085f4224307a1d025bc3b706135",
            "placeholder": "​",
            "style": "IPY_MODEL_590540c458f34382be26e785cb4ff2f8",
            "value": "Downloading: 100%"
          }
        },
        "e2979030ffbc433e9d633f6a8ba07046": {
          "model_module": "@jupyter-widgets/controls",
          "model_name": "FloatProgressModel",
          "model_module_version": "1.5.0",
          "state": {
            "_dom_classes": [],
            "_model_module": "@jupyter-widgets/controls",
            "_model_module_version": "1.5.0",
            "_model_name": "FloatProgressModel",
            "_view_count": null,
            "_view_module": "@jupyter-widgets/controls",
            "_view_module_version": "1.5.0",
            "_view_name": "ProgressView",
            "bar_style": "success",
            "description": "",
            "description_tooltip": null,
            "layout": "IPY_MODEL_390518f5fb2f4b798124d11114ecf4d3",
            "max": 231508,
            "min": 0,
            "orientation": "horizontal",
            "style": "IPY_MODEL_201db82c678c4d03a7adc08b24e19b05",
            "value": 231508
          }
        },
        "927324a7cfae4e6aadee0b22aeb06e84": {
          "model_module": "@jupyter-widgets/controls",
          "model_name": "HTMLModel",
          "model_module_version": "1.5.0",
          "state": {
            "_dom_classes": [],
            "_model_module": "@jupyter-widgets/controls",
            "_model_module_version": "1.5.0",
            "_model_name": "HTMLModel",
            "_view_count": null,
            "_view_module": "@jupyter-widgets/controls",
            "_view_module_version": "1.5.0",
            "_view_name": "HTMLView",
            "description": "",
            "description_tooltip": null,
            "layout": "IPY_MODEL_170c449252d340c8a489a6cf0be8cfb5",
            "placeholder": "​",
            "style": "IPY_MODEL_cd8391b380a8455a8618d1e197a8bf61",
            "value": " 226k/226k [00:00&lt;00:00, 277kB/s]"
          }
        },
        "1310dfe00dd64413a1e66468a8af5014": {
          "model_module": "@jupyter-widgets/base",
          "model_name": "LayoutModel",
          "model_module_version": "1.2.0",
          "state": {
            "_model_module": "@jupyter-widgets/base",
            "_model_module_version": "1.2.0",
            "_model_name": "LayoutModel",
            "_view_count": null,
            "_view_module": "@jupyter-widgets/base",
            "_view_module_version": "1.2.0",
            "_view_name": "LayoutView",
            "align_content": null,
            "align_items": null,
            "align_self": null,
            "border": null,
            "bottom": null,
            "display": null,
            "flex": null,
            "flex_flow": null,
            "grid_area": null,
            "grid_auto_columns": null,
            "grid_auto_flow": null,
            "grid_auto_rows": null,
            "grid_column": null,
            "grid_gap": null,
            "grid_row": null,
            "grid_template_areas": null,
            "grid_template_columns": null,
            "grid_template_rows": null,
            "height": null,
            "justify_content": null,
            "justify_items": null,
            "left": null,
            "margin": null,
            "max_height": null,
            "max_width": null,
            "min_height": null,
            "min_width": null,
            "object_fit": null,
            "object_position": null,
            "order": null,
            "overflow": null,
            "overflow_x": null,
            "overflow_y": null,
            "padding": null,
            "right": null,
            "top": null,
            "visibility": null,
            "width": null
          }
        },
        "cd543085f4224307a1d025bc3b706135": {
          "model_module": "@jupyter-widgets/base",
          "model_name": "LayoutModel",
          "model_module_version": "1.2.0",
          "state": {
            "_model_module": "@jupyter-widgets/base",
            "_model_module_version": "1.2.0",
            "_model_name": "LayoutModel",
            "_view_count": null,
            "_view_module": "@jupyter-widgets/base",
            "_view_module_version": "1.2.0",
            "_view_name": "LayoutView",
            "align_content": null,
            "align_items": null,
            "align_self": null,
            "border": null,
            "bottom": null,
            "display": null,
            "flex": null,
            "flex_flow": null,
            "grid_area": null,
            "grid_auto_columns": null,
            "grid_auto_flow": null,
            "grid_auto_rows": null,
            "grid_column": null,
            "grid_gap": null,
            "grid_row": null,
            "grid_template_areas": null,
            "grid_template_columns": null,
            "grid_template_rows": null,
            "height": null,
            "justify_content": null,
            "justify_items": null,
            "left": null,
            "margin": null,
            "max_height": null,
            "max_width": null,
            "min_height": null,
            "min_width": null,
            "object_fit": null,
            "object_position": null,
            "order": null,
            "overflow": null,
            "overflow_x": null,
            "overflow_y": null,
            "padding": null,
            "right": null,
            "top": null,
            "visibility": null,
            "width": null
          }
        },
        "590540c458f34382be26e785cb4ff2f8": {
          "model_module": "@jupyter-widgets/controls",
          "model_name": "DescriptionStyleModel",
          "model_module_version": "1.5.0",
          "state": {
            "_model_module": "@jupyter-widgets/controls",
            "_model_module_version": "1.5.0",
            "_model_name": "DescriptionStyleModel",
            "_view_count": null,
            "_view_module": "@jupyter-widgets/base",
            "_view_module_version": "1.2.0",
            "_view_name": "StyleView",
            "description_width": ""
          }
        },
        "390518f5fb2f4b798124d11114ecf4d3": {
          "model_module": "@jupyter-widgets/base",
          "model_name": "LayoutModel",
          "model_module_version": "1.2.0",
          "state": {
            "_model_module": "@jupyter-widgets/base",
            "_model_module_version": "1.2.0",
            "_model_name": "LayoutModel",
            "_view_count": null,
            "_view_module": "@jupyter-widgets/base",
            "_view_module_version": "1.2.0",
            "_view_name": "LayoutView",
            "align_content": null,
            "align_items": null,
            "align_self": null,
            "border": null,
            "bottom": null,
            "display": null,
            "flex": null,
            "flex_flow": null,
            "grid_area": null,
            "grid_auto_columns": null,
            "grid_auto_flow": null,
            "grid_auto_rows": null,
            "grid_column": null,
            "grid_gap": null,
            "grid_row": null,
            "grid_template_areas": null,
            "grid_template_columns": null,
            "grid_template_rows": null,
            "height": null,
            "justify_content": null,
            "justify_items": null,
            "left": null,
            "margin": null,
            "max_height": null,
            "max_width": null,
            "min_height": null,
            "min_width": null,
            "object_fit": null,
            "object_position": null,
            "order": null,
            "overflow": null,
            "overflow_x": null,
            "overflow_y": null,
            "padding": null,
            "right": null,
            "top": null,
            "visibility": null,
            "width": null
          }
        },
        "201db82c678c4d03a7adc08b24e19b05": {
          "model_module": "@jupyter-widgets/controls",
          "model_name": "ProgressStyleModel",
          "model_module_version": "1.5.0",
          "state": {
            "_model_module": "@jupyter-widgets/controls",
            "_model_module_version": "1.5.0",
            "_model_name": "ProgressStyleModel",
            "_view_count": null,
            "_view_module": "@jupyter-widgets/base",
            "_view_module_version": "1.2.0",
            "_view_name": "StyleView",
            "bar_color": null,
            "description_width": ""
          }
        },
        "170c449252d340c8a489a6cf0be8cfb5": {
          "model_module": "@jupyter-widgets/base",
          "model_name": "LayoutModel",
          "model_module_version": "1.2.0",
          "state": {
            "_model_module": "@jupyter-widgets/base",
            "_model_module_version": "1.2.0",
            "_model_name": "LayoutModel",
            "_view_count": null,
            "_view_module": "@jupyter-widgets/base",
            "_view_module_version": "1.2.0",
            "_view_name": "LayoutView",
            "align_content": null,
            "align_items": null,
            "align_self": null,
            "border": null,
            "bottom": null,
            "display": null,
            "flex": null,
            "flex_flow": null,
            "grid_area": null,
            "grid_auto_columns": null,
            "grid_auto_flow": null,
            "grid_auto_rows": null,
            "grid_column": null,
            "grid_gap": null,
            "grid_row": null,
            "grid_template_areas": null,
            "grid_template_columns": null,
            "grid_template_rows": null,
            "height": null,
            "justify_content": null,
            "justify_items": null,
            "left": null,
            "margin": null,
            "max_height": null,
            "max_width": null,
            "min_height": null,
            "min_width": null,
            "object_fit": null,
            "object_position": null,
            "order": null,
            "overflow": null,
            "overflow_x": null,
            "overflow_y": null,
            "padding": null,
            "right": null,
            "top": null,
            "visibility": null,
            "width": null
          }
        },
        "cd8391b380a8455a8618d1e197a8bf61": {
          "model_module": "@jupyter-widgets/controls",
          "model_name": "DescriptionStyleModel",
          "model_module_version": "1.5.0",
          "state": {
            "_model_module": "@jupyter-widgets/controls",
            "_model_module_version": "1.5.0",
            "_model_name": "DescriptionStyleModel",
            "_view_count": null,
            "_view_module": "@jupyter-widgets/base",
            "_view_module_version": "1.2.0",
            "_view_name": "StyleView",
            "description_width": ""
          }
        },
        "18dee036b4374750973ad793a7f4afa9": {
          "model_module": "@jupyter-widgets/controls",
          "model_name": "HBoxModel",
          "model_module_version": "1.5.0",
          "state": {
            "_dom_classes": [],
            "_model_module": "@jupyter-widgets/controls",
            "_model_module_version": "1.5.0",
            "_model_name": "HBoxModel",
            "_view_count": null,
            "_view_module": "@jupyter-widgets/controls",
            "_view_module_version": "1.5.0",
            "_view_name": "HBoxView",
            "box_style": "",
            "children": [
              "IPY_MODEL_b583bea96a86415abceb81e8e6752460",
              "IPY_MODEL_3ceab41027a74e58b6faf93ac7ebadd0",
              "IPY_MODEL_aa7f84fb181348f097fe9f7acb6eedb6"
            ],
            "layout": "IPY_MODEL_a7f880b40f04488baebf159087e72b52"
          }
        },
        "b583bea96a86415abceb81e8e6752460": {
          "model_module": "@jupyter-widgets/controls",
          "model_name": "HTMLModel",
          "model_module_version": "1.5.0",
          "state": {
            "_dom_classes": [],
            "_model_module": "@jupyter-widgets/controls",
            "_model_module_version": "1.5.0",
            "_model_name": "HTMLModel",
            "_view_count": null,
            "_view_module": "@jupyter-widgets/controls",
            "_view_module_version": "1.5.0",
            "_view_name": "HTMLView",
            "description": "",
            "description_tooltip": null,
            "layout": "IPY_MODEL_3b7c0222e8b24f54b70cfb22c24c1d4b",
            "placeholder": "​",
            "style": "IPY_MODEL_d8a5ab9cdfeb4772b319e6be647348dc",
            "value": "Downloading: 100%"
          }
        },
        "3ceab41027a74e58b6faf93ac7ebadd0": {
          "model_module": "@jupyter-widgets/controls",
          "model_name": "FloatProgressModel",
          "model_module_version": "1.5.0",
          "state": {
            "_dom_classes": [],
            "_model_module": "@jupyter-widgets/controls",
            "_model_module_version": "1.5.0",
            "_model_name": "FloatProgressModel",
            "_view_count": null,
            "_view_module": "@jupyter-widgets/controls",
            "_view_module_version": "1.5.0",
            "_view_name": "ProgressView",
            "bar_style": "success",
            "description": "",
            "description_tooltip": null,
            "layout": "IPY_MODEL_a6e972ee7059420b8f9fc97704e07c95",
            "max": 28,
            "min": 0,
            "orientation": "horizontal",
            "style": "IPY_MODEL_5daf546d08d849018229d9d4691023b0",
            "value": 28
          }
        },
        "aa7f84fb181348f097fe9f7acb6eedb6": {
          "model_module": "@jupyter-widgets/controls",
          "model_name": "HTMLModel",
          "model_module_version": "1.5.0",
          "state": {
            "_dom_classes": [],
            "_model_module": "@jupyter-widgets/controls",
            "_model_module_version": "1.5.0",
            "_model_name": "HTMLModel",
            "_view_count": null,
            "_view_module": "@jupyter-widgets/controls",
            "_view_module_version": "1.5.0",
            "_view_name": "HTMLView",
            "description": "",
            "description_tooltip": null,
            "layout": "IPY_MODEL_dff815f3a15344d59d4cc0823e6af032",
            "placeholder": "​",
            "style": "IPY_MODEL_0020bec63286401f9e820a0bcbd504f5",
            "value": " 28.0/28.0 [00:00&lt;00:00, 969B/s]"
          }
        },
        "a7f880b40f04488baebf159087e72b52": {
          "model_module": "@jupyter-widgets/base",
          "model_name": "LayoutModel",
          "model_module_version": "1.2.0",
          "state": {
            "_model_module": "@jupyter-widgets/base",
            "_model_module_version": "1.2.0",
            "_model_name": "LayoutModel",
            "_view_count": null,
            "_view_module": "@jupyter-widgets/base",
            "_view_module_version": "1.2.0",
            "_view_name": "LayoutView",
            "align_content": null,
            "align_items": null,
            "align_self": null,
            "border": null,
            "bottom": null,
            "display": null,
            "flex": null,
            "flex_flow": null,
            "grid_area": null,
            "grid_auto_columns": null,
            "grid_auto_flow": null,
            "grid_auto_rows": null,
            "grid_column": null,
            "grid_gap": null,
            "grid_row": null,
            "grid_template_areas": null,
            "grid_template_columns": null,
            "grid_template_rows": null,
            "height": null,
            "justify_content": null,
            "justify_items": null,
            "left": null,
            "margin": null,
            "max_height": null,
            "max_width": null,
            "min_height": null,
            "min_width": null,
            "object_fit": null,
            "object_position": null,
            "order": null,
            "overflow": null,
            "overflow_x": null,
            "overflow_y": null,
            "padding": null,
            "right": null,
            "top": null,
            "visibility": null,
            "width": null
          }
        },
        "3b7c0222e8b24f54b70cfb22c24c1d4b": {
          "model_module": "@jupyter-widgets/base",
          "model_name": "LayoutModel",
          "model_module_version": "1.2.0",
          "state": {
            "_model_module": "@jupyter-widgets/base",
            "_model_module_version": "1.2.0",
            "_model_name": "LayoutModel",
            "_view_count": null,
            "_view_module": "@jupyter-widgets/base",
            "_view_module_version": "1.2.0",
            "_view_name": "LayoutView",
            "align_content": null,
            "align_items": null,
            "align_self": null,
            "border": null,
            "bottom": null,
            "display": null,
            "flex": null,
            "flex_flow": null,
            "grid_area": null,
            "grid_auto_columns": null,
            "grid_auto_flow": null,
            "grid_auto_rows": null,
            "grid_column": null,
            "grid_gap": null,
            "grid_row": null,
            "grid_template_areas": null,
            "grid_template_columns": null,
            "grid_template_rows": null,
            "height": null,
            "justify_content": null,
            "justify_items": null,
            "left": null,
            "margin": null,
            "max_height": null,
            "max_width": null,
            "min_height": null,
            "min_width": null,
            "object_fit": null,
            "object_position": null,
            "order": null,
            "overflow": null,
            "overflow_x": null,
            "overflow_y": null,
            "padding": null,
            "right": null,
            "top": null,
            "visibility": null,
            "width": null
          }
        },
        "d8a5ab9cdfeb4772b319e6be647348dc": {
          "model_module": "@jupyter-widgets/controls",
          "model_name": "DescriptionStyleModel",
          "model_module_version": "1.5.0",
          "state": {
            "_model_module": "@jupyter-widgets/controls",
            "_model_module_version": "1.5.0",
            "_model_name": "DescriptionStyleModel",
            "_view_count": null,
            "_view_module": "@jupyter-widgets/base",
            "_view_module_version": "1.2.0",
            "_view_name": "StyleView",
            "description_width": ""
          }
        },
        "a6e972ee7059420b8f9fc97704e07c95": {
          "model_module": "@jupyter-widgets/base",
          "model_name": "LayoutModel",
          "model_module_version": "1.2.0",
          "state": {
            "_model_module": "@jupyter-widgets/base",
            "_model_module_version": "1.2.0",
            "_model_name": "LayoutModel",
            "_view_count": null,
            "_view_module": "@jupyter-widgets/base",
            "_view_module_version": "1.2.0",
            "_view_name": "LayoutView",
            "align_content": null,
            "align_items": null,
            "align_self": null,
            "border": null,
            "bottom": null,
            "display": null,
            "flex": null,
            "flex_flow": null,
            "grid_area": null,
            "grid_auto_columns": null,
            "grid_auto_flow": null,
            "grid_auto_rows": null,
            "grid_column": null,
            "grid_gap": null,
            "grid_row": null,
            "grid_template_areas": null,
            "grid_template_columns": null,
            "grid_template_rows": null,
            "height": null,
            "justify_content": null,
            "justify_items": null,
            "left": null,
            "margin": null,
            "max_height": null,
            "max_width": null,
            "min_height": null,
            "min_width": null,
            "object_fit": null,
            "object_position": null,
            "order": null,
            "overflow": null,
            "overflow_x": null,
            "overflow_y": null,
            "padding": null,
            "right": null,
            "top": null,
            "visibility": null,
            "width": null
          }
        },
        "5daf546d08d849018229d9d4691023b0": {
          "model_module": "@jupyter-widgets/controls",
          "model_name": "ProgressStyleModel",
          "model_module_version": "1.5.0",
          "state": {
            "_model_module": "@jupyter-widgets/controls",
            "_model_module_version": "1.5.0",
            "_model_name": "ProgressStyleModel",
            "_view_count": null,
            "_view_module": "@jupyter-widgets/base",
            "_view_module_version": "1.2.0",
            "_view_name": "StyleView",
            "bar_color": null,
            "description_width": ""
          }
        },
        "dff815f3a15344d59d4cc0823e6af032": {
          "model_module": "@jupyter-widgets/base",
          "model_name": "LayoutModel",
          "model_module_version": "1.2.0",
          "state": {
            "_model_module": "@jupyter-widgets/base",
            "_model_module_version": "1.2.0",
            "_model_name": "LayoutModel",
            "_view_count": null,
            "_view_module": "@jupyter-widgets/base",
            "_view_module_version": "1.2.0",
            "_view_name": "LayoutView",
            "align_content": null,
            "align_items": null,
            "align_self": null,
            "border": null,
            "bottom": null,
            "display": null,
            "flex": null,
            "flex_flow": null,
            "grid_area": null,
            "grid_auto_columns": null,
            "grid_auto_flow": null,
            "grid_auto_rows": null,
            "grid_column": null,
            "grid_gap": null,
            "grid_row": null,
            "grid_template_areas": null,
            "grid_template_columns": null,
            "grid_template_rows": null,
            "height": null,
            "justify_content": null,
            "justify_items": null,
            "left": null,
            "margin": null,
            "max_height": null,
            "max_width": null,
            "min_height": null,
            "min_width": null,
            "object_fit": null,
            "object_position": null,
            "order": null,
            "overflow": null,
            "overflow_x": null,
            "overflow_y": null,
            "padding": null,
            "right": null,
            "top": null,
            "visibility": null,
            "width": null
          }
        },
        "0020bec63286401f9e820a0bcbd504f5": {
          "model_module": "@jupyter-widgets/controls",
          "model_name": "DescriptionStyleModel",
          "model_module_version": "1.5.0",
          "state": {
            "_model_module": "@jupyter-widgets/controls",
            "_model_module_version": "1.5.0",
            "_model_name": "DescriptionStyleModel",
            "_view_count": null,
            "_view_module": "@jupyter-widgets/base",
            "_view_module_version": "1.2.0",
            "_view_name": "StyleView",
            "description_width": ""
          }
        },
        "49242d89a39145838bd829fe0a07557e": {
          "model_module": "@jupyter-widgets/controls",
          "model_name": "HBoxModel",
          "model_module_version": "1.5.0",
          "state": {
            "_dom_classes": [],
            "_model_module": "@jupyter-widgets/controls",
            "_model_module_version": "1.5.0",
            "_model_name": "HBoxModel",
            "_view_count": null,
            "_view_module": "@jupyter-widgets/controls",
            "_view_module_version": "1.5.0",
            "_view_name": "HBoxView",
            "box_style": "",
            "children": [
              "IPY_MODEL_e0c265a50b7f4d2db21dd8a555f4e5e6",
              "IPY_MODEL_48613dca7c0f4e0c8d7acad246a124eb",
              "IPY_MODEL_45ec694438b5449f9dbbac1af5e5fd99"
            ],
            "layout": "IPY_MODEL_32171736dcff4e8c80d18cb060fb8162"
          }
        },
        "e0c265a50b7f4d2db21dd8a555f4e5e6": {
          "model_module": "@jupyter-widgets/controls",
          "model_name": "HTMLModel",
          "model_module_version": "1.5.0",
          "state": {
            "_dom_classes": [],
            "_model_module": "@jupyter-widgets/controls",
            "_model_module_version": "1.5.0",
            "_model_name": "HTMLModel",
            "_view_count": null,
            "_view_module": "@jupyter-widgets/controls",
            "_view_module_version": "1.5.0",
            "_view_name": "HTMLView",
            "description": "",
            "description_tooltip": null,
            "layout": "IPY_MODEL_43526a6977844284962900a8a718156b",
            "placeholder": "​",
            "style": "IPY_MODEL_90f693c9f88240c280dcb9566c5b6d16",
            "value": "Downloading: 100%"
          }
        },
        "48613dca7c0f4e0c8d7acad246a124eb": {
          "model_module": "@jupyter-widgets/controls",
          "model_name": "FloatProgressModel",
          "model_module_version": "1.5.0",
          "state": {
            "_dom_classes": [],
            "_model_module": "@jupyter-widgets/controls",
            "_model_module_version": "1.5.0",
            "_model_name": "FloatProgressModel",
            "_view_count": null,
            "_view_module": "@jupyter-widgets/controls",
            "_view_module_version": "1.5.0",
            "_view_name": "ProgressView",
            "bar_style": "success",
            "description": "",
            "description_tooltip": null,
            "layout": "IPY_MODEL_a28fcf4a960642aaa4de32329c60d128",
            "max": 570,
            "min": 0,
            "orientation": "horizontal",
            "style": "IPY_MODEL_05547c689bba48f4a6f69d2e26fca73d",
            "value": 570
          }
        },
        "45ec694438b5449f9dbbac1af5e5fd99": {
          "model_module": "@jupyter-widgets/controls",
          "model_name": "HTMLModel",
          "model_module_version": "1.5.0",
          "state": {
            "_dom_classes": [],
            "_model_module": "@jupyter-widgets/controls",
            "_model_module_version": "1.5.0",
            "_model_name": "HTMLModel",
            "_view_count": null,
            "_view_module": "@jupyter-widgets/controls",
            "_view_module_version": "1.5.0",
            "_view_name": "HTMLView",
            "description": "",
            "description_tooltip": null,
            "layout": "IPY_MODEL_fdf157e46c244cff9bf62ab1cc5bb366",
            "placeholder": "​",
            "style": "IPY_MODEL_1739c25b6e4c45feb21775b887ea479a",
            "value": " 570/570 [00:00&lt;00:00, 21.4kB/s]"
          }
        },
        "32171736dcff4e8c80d18cb060fb8162": {
          "model_module": "@jupyter-widgets/base",
          "model_name": "LayoutModel",
          "model_module_version": "1.2.0",
          "state": {
            "_model_module": "@jupyter-widgets/base",
            "_model_module_version": "1.2.0",
            "_model_name": "LayoutModel",
            "_view_count": null,
            "_view_module": "@jupyter-widgets/base",
            "_view_module_version": "1.2.0",
            "_view_name": "LayoutView",
            "align_content": null,
            "align_items": null,
            "align_self": null,
            "border": null,
            "bottom": null,
            "display": null,
            "flex": null,
            "flex_flow": null,
            "grid_area": null,
            "grid_auto_columns": null,
            "grid_auto_flow": null,
            "grid_auto_rows": null,
            "grid_column": null,
            "grid_gap": null,
            "grid_row": null,
            "grid_template_areas": null,
            "grid_template_columns": null,
            "grid_template_rows": null,
            "height": null,
            "justify_content": null,
            "justify_items": null,
            "left": null,
            "margin": null,
            "max_height": null,
            "max_width": null,
            "min_height": null,
            "min_width": null,
            "object_fit": null,
            "object_position": null,
            "order": null,
            "overflow": null,
            "overflow_x": null,
            "overflow_y": null,
            "padding": null,
            "right": null,
            "top": null,
            "visibility": null,
            "width": null
          }
        },
        "43526a6977844284962900a8a718156b": {
          "model_module": "@jupyter-widgets/base",
          "model_name": "LayoutModel",
          "model_module_version": "1.2.0",
          "state": {
            "_model_module": "@jupyter-widgets/base",
            "_model_module_version": "1.2.0",
            "_model_name": "LayoutModel",
            "_view_count": null,
            "_view_module": "@jupyter-widgets/base",
            "_view_module_version": "1.2.0",
            "_view_name": "LayoutView",
            "align_content": null,
            "align_items": null,
            "align_self": null,
            "border": null,
            "bottom": null,
            "display": null,
            "flex": null,
            "flex_flow": null,
            "grid_area": null,
            "grid_auto_columns": null,
            "grid_auto_flow": null,
            "grid_auto_rows": null,
            "grid_column": null,
            "grid_gap": null,
            "grid_row": null,
            "grid_template_areas": null,
            "grid_template_columns": null,
            "grid_template_rows": null,
            "height": null,
            "justify_content": null,
            "justify_items": null,
            "left": null,
            "margin": null,
            "max_height": null,
            "max_width": null,
            "min_height": null,
            "min_width": null,
            "object_fit": null,
            "object_position": null,
            "order": null,
            "overflow": null,
            "overflow_x": null,
            "overflow_y": null,
            "padding": null,
            "right": null,
            "top": null,
            "visibility": null,
            "width": null
          }
        },
        "90f693c9f88240c280dcb9566c5b6d16": {
          "model_module": "@jupyter-widgets/controls",
          "model_name": "DescriptionStyleModel",
          "model_module_version": "1.5.0",
          "state": {
            "_model_module": "@jupyter-widgets/controls",
            "_model_module_version": "1.5.0",
            "_model_name": "DescriptionStyleModel",
            "_view_count": null,
            "_view_module": "@jupyter-widgets/base",
            "_view_module_version": "1.2.0",
            "_view_name": "StyleView",
            "description_width": ""
          }
        },
        "a28fcf4a960642aaa4de32329c60d128": {
          "model_module": "@jupyter-widgets/base",
          "model_name": "LayoutModel",
          "model_module_version": "1.2.0",
          "state": {
            "_model_module": "@jupyter-widgets/base",
            "_model_module_version": "1.2.0",
            "_model_name": "LayoutModel",
            "_view_count": null,
            "_view_module": "@jupyter-widgets/base",
            "_view_module_version": "1.2.0",
            "_view_name": "LayoutView",
            "align_content": null,
            "align_items": null,
            "align_self": null,
            "border": null,
            "bottom": null,
            "display": null,
            "flex": null,
            "flex_flow": null,
            "grid_area": null,
            "grid_auto_columns": null,
            "grid_auto_flow": null,
            "grid_auto_rows": null,
            "grid_column": null,
            "grid_gap": null,
            "grid_row": null,
            "grid_template_areas": null,
            "grid_template_columns": null,
            "grid_template_rows": null,
            "height": null,
            "justify_content": null,
            "justify_items": null,
            "left": null,
            "margin": null,
            "max_height": null,
            "max_width": null,
            "min_height": null,
            "min_width": null,
            "object_fit": null,
            "object_position": null,
            "order": null,
            "overflow": null,
            "overflow_x": null,
            "overflow_y": null,
            "padding": null,
            "right": null,
            "top": null,
            "visibility": null,
            "width": null
          }
        },
        "05547c689bba48f4a6f69d2e26fca73d": {
          "model_module": "@jupyter-widgets/controls",
          "model_name": "ProgressStyleModel",
          "model_module_version": "1.5.0",
          "state": {
            "_model_module": "@jupyter-widgets/controls",
            "_model_module_version": "1.5.0",
            "_model_name": "ProgressStyleModel",
            "_view_count": null,
            "_view_module": "@jupyter-widgets/base",
            "_view_module_version": "1.2.0",
            "_view_name": "StyleView",
            "bar_color": null,
            "description_width": ""
          }
        },
        "fdf157e46c244cff9bf62ab1cc5bb366": {
          "model_module": "@jupyter-widgets/base",
          "model_name": "LayoutModel",
          "model_module_version": "1.2.0",
          "state": {
            "_model_module": "@jupyter-widgets/base",
            "_model_module_version": "1.2.0",
            "_model_name": "LayoutModel",
            "_view_count": null,
            "_view_module": "@jupyter-widgets/base",
            "_view_module_version": "1.2.0",
            "_view_name": "LayoutView",
            "align_content": null,
            "align_items": null,
            "align_self": null,
            "border": null,
            "bottom": null,
            "display": null,
            "flex": null,
            "flex_flow": null,
            "grid_area": null,
            "grid_auto_columns": null,
            "grid_auto_flow": null,
            "grid_auto_rows": null,
            "grid_column": null,
            "grid_gap": null,
            "grid_row": null,
            "grid_template_areas": null,
            "grid_template_columns": null,
            "grid_template_rows": null,
            "height": null,
            "justify_content": null,
            "justify_items": null,
            "left": null,
            "margin": null,
            "max_height": null,
            "max_width": null,
            "min_height": null,
            "min_width": null,
            "object_fit": null,
            "object_position": null,
            "order": null,
            "overflow": null,
            "overflow_x": null,
            "overflow_y": null,
            "padding": null,
            "right": null,
            "top": null,
            "visibility": null,
            "width": null
          }
        },
        "1739c25b6e4c45feb21775b887ea479a": {
          "model_module": "@jupyter-widgets/controls",
          "model_name": "DescriptionStyleModel",
          "model_module_version": "1.5.0",
          "state": {
            "_model_module": "@jupyter-widgets/controls",
            "_model_module_version": "1.5.0",
            "_model_name": "DescriptionStyleModel",
            "_view_count": null,
            "_view_module": "@jupyter-widgets/base",
            "_view_module_version": "1.2.0",
            "_view_name": "StyleView",
            "description_width": ""
          }
        },
        "353a4b2fdcd248be83b53bd902300aea": {
          "model_module": "@jupyter-widgets/controls",
          "model_name": "HBoxModel",
          "model_module_version": "1.5.0",
          "state": {
            "_dom_classes": [],
            "_model_module": "@jupyter-widgets/controls",
            "_model_module_version": "1.5.0",
            "_model_name": "HBoxModel",
            "_view_count": null,
            "_view_module": "@jupyter-widgets/controls",
            "_view_module_version": "1.5.0",
            "_view_name": "HBoxView",
            "box_style": "",
            "children": [
              "IPY_MODEL_0de0e17efaf34373b0c251edead74cd5",
              "IPY_MODEL_883fcd4cdcc245619f738446bba1b36d",
              "IPY_MODEL_1a5d8809369c41d78373db8ddd6798f4"
            ],
            "layout": "IPY_MODEL_88bc8c9a67e54188854e64717eb318b4"
          }
        },
        "0de0e17efaf34373b0c251edead74cd5": {
          "model_module": "@jupyter-widgets/controls",
          "model_name": "HTMLModel",
          "model_module_version": "1.5.0",
          "state": {
            "_dom_classes": [],
            "_model_module": "@jupyter-widgets/controls",
            "_model_module_version": "1.5.0",
            "_model_name": "HTMLModel",
            "_view_count": null,
            "_view_module": "@jupyter-widgets/controls",
            "_view_module_version": "1.5.0",
            "_view_name": "HTMLView",
            "description": "",
            "description_tooltip": null,
            "layout": "IPY_MODEL_652b571c8e3c42b2a035a3d2b7d4f48e",
            "placeholder": "​",
            "style": "IPY_MODEL_b23cd03bc33a40da99e095ea71e1726f",
            "value": "Downloading: 100%"
          }
        },
        "883fcd4cdcc245619f738446bba1b36d": {
          "model_module": "@jupyter-widgets/controls",
          "model_name": "FloatProgressModel",
          "model_module_version": "1.5.0",
          "state": {
            "_dom_classes": [],
            "_model_module": "@jupyter-widgets/controls",
            "_model_module_version": "1.5.0",
            "_model_name": "FloatProgressModel",
            "_view_count": null,
            "_view_module": "@jupyter-widgets/controls",
            "_view_module_version": "1.5.0",
            "_view_name": "ProgressView",
            "bar_style": "success",
            "description": "",
            "description_tooltip": null,
            "layout": "IPY_MODEL_e6ecb71e446245708e5b4ab77d6f7538",
            "max": 536063208,
            "min": 0,
            "orientation": "horizontal",
            "style": "IPY_MODEL_194467554ad640bf90303161306d2452",
            "value": 536063208
          }
        },
        "1a5d8809369c41d78373db8ddd6798f4": {
          "model_module": "@jupyter-widgets/controls",
          "model_name": "HTMLModel",
          "model_module_version": "1.5.0",
          "state": {
            "_dom_classes": [],
            "_model_module": "@jupyter-widgets/controls",
            "_model_module_version": "1.5.0",
            "_model_name": "HTMLModel",
            "_view_count": null,
            "_view_module": "@jupyter-widgets/controls",
            "_view_module_version": "1.5.0",
            "_view_name": "HTMLView",
            "description": "",
            "description_tooltip": null,
            "layout": "IPY_MODEL_4adab587e01142cba19629e7368ae0df",
            "placeholder": "​",
            "style": "IPY_MODEL_e648891c426a4ea9becfd5206b98b035",
            "value": " 511M/511M [00:08&lt;00:00, 60.6MB/s]"
          }
        },
        "88bc8c9a67e54188854e64717eb318b4": {
          "model_module": "@jupyter-widgets/base",
          "model_name": "LayoutModel",
          "model_module_version": "1.2.0",
          "state": {
            "_model_module": "@jupyter-widgets/base",
            "_model_module_version": "1.2.0",
            "_model_name": "LayoutModel",
            "_view_count": null,
            "_view_module": "@jupyter-widgets/base",
            "_view_module_version": "1.2.0",
            "_view_name": "LayoutView",
            "align_content": null,
            "align_items": null,
            "align_self": null,
            "border": null,
            "bottom": null,
            "display": null,
            "flex": null,
            "flex_flow": null,
            "grid_area": null,
            "grid_auto_columns": null,
            "grid_auto_flow": null,
            "grid_auto_rows": null,
            "grid_column": null,
            "grid_gap": null,
            "grid_row": null,
            "grid_template_areas": null,
            "grid_template_columns": null,
            "grid_template_rows": null,
            "height": null,
            "justify_content": null,
            "justify_items": null,
            "left": null,
            "margin": null,
            "max_height": null,
            "max_width": null,
            "min_height": null,
            "min_width": null,
            "object_fit": null,
            "object_position": null,
            "order": null,
            "overflow": null,
            "overflow_x": null,
            "overflow_y": null,
            "padding": null,
            "right": null,
            "top": null,
            "visibility": null,
            "width": null
          }
        },
        "652b571c8e3c42b2a035a3d2b7d4f48e": {
          "model_module": "@jupyter-widgets/base",
          "model_name": "LayoutModel",
          "model_module_version": "1.2.0",
          "state": {
            "_model_module": "@jupyter-widgets/base",
            "_model_module_version": "1.2.0",
            "_model_name": "LayoutModel",
            "_view_count": null,
            "_view_module": "@jupyter-widgets/base",
            "_view_module_version": "1.2.0",
            "_view_name": "LayoutView",
            "align_content": null,
            "align_items": null,
            "align_self": null,
            "border": null,
            "bottom": null,
            "display": null,
            "flex": null,
            "flex_flow": null,
            "grid_area": null,
            "grid_auto_columns": null,
            "grid_auto_flow": null,
            "grid_auto_rows": null,
            "grid_column": null,
            "grid_gap": null,
            "grid_row": null,
            "grid_template_areas": null,
            "grid_template_columns": null,
            "grid_template_rows": null,
            "height": null,
            "justify_content": null,
            "justify_items": null,
            "left": null,
            "margin": null,
            "max_height": null,
            "max_width": null,
            "min_height": null,
            "min_width": null,
            "object_fit": null,
            "object_position": null,
            "order": null,
            "overflow": null,
            "overflow_x": null,
            "overflow_y": null,
            "padding": null,
            "right": null,
            "top": null,
            "visibility": null,
            "width": null
          }
        },
        "b23cd03bc33a40da99e095ea71e1726f": {
          "model_module": "@jupyter-widgets/controls",
          "model_name": "DescriptionStyleModel",
          "model_module_version": "1.5.0",
          "state": {
            "_model_module": "@jupyter-widgets/controls",
            "_model_module_version": "1.5.0",
            "_model_name": "DescriptionStyleModel",
            "_view_count": null,
            "_view_module": "@jupyter-widgets/base",
            "_view_module_version": "1.2.0",
            "_view_name": "StyleView",
            "description_width": ""
          }
        },
        "e6ecb71e446245708e5b4ab77d6f7538": {
          "model_module": "@jupyter-widgets/base",
          "model_name": "LayoutModel",
          "model_module_version": "1.2.0",
          "state": {
            "_model_module": "@jupyter-widgets/base",
            "_model_module_version": "1.2.0",
            "_model_name": "LayoutModel",
            "_view_count": null,
            "_view_module": "@jupyter-widgets/base",
            "_view_module_version": "1.2.0",
            "_view_name": "LayoutView",
            "align_content": null,
            "align_items": null,
            "align_self": null,
            "border": null,
            "bottom": null,
            "display": null,
            "flex": null,
            "flex_flow": null,
            "grid_area": null,
            "grid_auto_columns": null,
            "grid_auto_flow": null,
            "grid_auto_rows": null,
            "grid_column": null,
            "grid_gap": null,
            "grid_row": null,
            "grid_template_areas": null,
            "grid_template_columns": null,
            "grid_template_rows": null,
            "height": null,
            "justify_content": null,
            "justify_items": null,
            "left": null,
            "margin": null,
            "max_height": null,
            "max_width": null,
            "min_height": null,
            "min_width": null,
            "object_fit": null,
            "object_position": null,
            "order": null,
            "overflow": null,
            "overflow_x": null,
            "overflow_y": null,
            "padding": null,
            "right": null,
            "top": null,
            "visibility": null,
            "width": null
          }
        },
        "194467554ad640bf90303161306d2452": {
          "model_module": "@jupyter-widgets/controls",
          "model_name": "ProgressStyleModel",
          "model_module_version": "1.5.0",
          "state": {
            "_model_module": "@jupyter-widgets/controls",
            "_model_module_version": "1.5.0",
            "_model_name": "ProgressStyleModel",
            "_view_count": null,
            "_view_module": "@jupyter-widgets/base",
            "_view_module_version": "1.2.0",
            "_view_name": "StyleView",
            "bar_color": null,
            "description_width": ""
          }
        },
        "4adab587e01142cba19629e7368ae0df": {
          "model_module": "@jupyter-widgets/base",
          "model_name": "LayoutModel",
          "model_module_version": "1.2.0",
          "state": {
            "_model_module": "@jupyter-widgets/base",
            "_model_module_version": "1.2.0",
            "_model_name": "LayoutModel",
            "_view_count": null,
            "_view_module": "@jupyter-widgets/base",
            "_view_module_version": "1.2.0",
            "_view_name": "LayoutView",
            "align_content": null,
            "align_items": null,
            "align_self": null,
            "border": null,
            "bottom": null,
            "display": null,
            "flex": null,
            "flex_flow": null,
            "grid_area": null,
            "grid_auto_columns": null,
            "grid_auto_flow": null,
            "grid_auto_rows": null,
            "grid_column": null,
            "grid_gap": null,
            "grid_row": null,
            "grid_template_areas": null,
            "grid_template_columns": null,
            "grid_template_rows": null,
            "height": null,
            "justify_content": null,
            "justify_items": null,
            "left": null,
            "margin": null,
            "max_height": null,
            "max_width": null,
            "min_height": null,
            "min_width": null,
            "object_fit": null,
            "object_position": null,
            "order": null,
            "overflow": null,
            "overflow_x": null,
            "overflow_y": null,
            "padding": null,
            "right": null,
            "top": null,
            "visibility": null,
            "width": null
          }
        },
        "e648891c426a4ea9becfd5206b98b035": {
          "model_module": "@jupyter-widgets/controls",
          "model_name": "DescriptionStyleModel",
          "model_module_version": "1.5.0",
          "state": {
            "_model_module": "@jupyter-widgets/controls",
            "_model_module_version": "1.5.0",
            "_model_name": "DescriptionStyleModel",
            "_view_count": null,
            "_view_module": "@jupyter-widgets/base",
            "_view_module_version": "1.2.0",
            "_view_name": "StyleView",
            "description_width": ""
          }
        }
      }
    },
    "accelerator": "GPU"
  },
  "nbformat": 4,
  "nbformat_minor": 5
}