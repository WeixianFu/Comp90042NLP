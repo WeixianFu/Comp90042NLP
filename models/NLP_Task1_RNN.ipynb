{
  "cells": [
    {
      "cell_type": "code",
      "execution_count": 1,
      "metadata": {
        "id": "XnIpJnkHuT-D"
      },
      "outputs": [],
      "source": [
        "import pandas as pd\n",
        "import os\n",
        "from keras.models import Sequential\n",
        "from keras import regularizers\n",
        "from keras.layers.core import Dense, Dropout, Flatten\n",
        "from keras import layers\n",
        "from sklearn.metrics import accuracy_score, f1_score\n",
        "from keras.layers import Dense, Embedding, LSTM, SpatialDropout1D\n",
        "import numpy as np\n",
        "from tensorflow.keras.utils import to_categorical\n",
        "import matplotlib.pyplot as plt \n",
        "import keras\n",
        "from time import time"
      ]
    },
    {
      "cell_type": "code",
      "execution_count": null,
      "metadata": {
        "id": "QJhORBjulnMH"
      },
      "outputs": [],
      "source": [
        "# from google.colab import drive\n",
        "# drive.mount('/content/drive')"
      ]
    },
    {
      "cell_type": "code",
      "execution_count": 2,
      "metadata": {
        "id": "VijxsP322W3W"
      },
      "outputs": [],
      "source": [
        "train_df = pd.read_csv(\"train_normalised.csv\")\n",
        "dev_df = pd.read_csv(\"dev_normalised.csv\")\n",
        "test_df = pd.read_csv(\"test_normalised.csv\")"
      ]
    },
    {
      "cell_type": "code",
      "execution_count": 3,
      "metadata": {
        "id": "EQanplkFuUlc",
        "colab": {
          "base_uri": "https://localhost:8080/",
          "height": 423
        },
        "outputId": "d70d3499-fc27-4d3d-a98f-d52a8bcaf151"
      },
      "outputs": [
        {
          "output_type": "execute_result",
          "data": {
            "text/plain": [
              "      Unnamed: 0                                               text  label  \\\n",
              "0              0  4 . Can eating garlic help prevent infection w...      0   \n",
              "1              1  French police chief killed himself after #Char...      1   \n",
              "2              2  Coronavirus disease ( COVID - 19 ) advice for ...      0   \n",
              "3              3  Ottawa police confirm that there were multiple...      0   \n",
              "4              4  if the primary focus of a government is n't to...      0   \n",
              "...          ...                                                ...    ...   \n",
              "1802        1802  Desperate Ted Cruz Claims Planned Parenthood S...      1   \n",
              "1803        1803  \" Thoughts and prayers are not enough . \" Pres...      1   \n",
              "1804        1804  Police have surrounded this building where the...      0   \n",
              "1805        1805  @USER @USER @USER @USER It 's an insult to God...      0   \n",
              "1806        1806  Excellent . HTTPURL @USER Tasha and I just lit...      0   \n",
              "\n",
              "                       id  \n",
              "0     1250219300389974016  \n",
              "1      554886875303780352  \n",
              "2     1237901309011021825  \n",
              "3      524958128392376320  \n",
              "4     1239295488677085185  \n",
              "...                   ...  \n",
              "1802   671181758692507648  \n",
              "1803   672513234419638273  \n",
              "1804   553508098825261056  \n",
              "1805  1249479605582327808  \n",
              "1806  1241082793737818113  \n",
              "\n",
              "[1807 rows x 4 columns]"
            ],
            "text/html": [
              "\n",
              "  <div id=\"df-a4a14820-2563-4166-8d81-84310b099497\">\n",
              "    <div class=\"colab-df-container\">\n",
              "      <div>\n",
              "<style scoped>\n",
              "    .dataframe tbody tr th:only-of-type {\n",
              "        vertical-align: middle;\n",
              "    }\n",
              "\n",
              "    .dataframe tbody tr th {\n",
              "        vertical-align: top;\n",
              "    }\n",
              "\n",
              "    .dataframe thead th {\n",
              "        text-align: right;\n",
              "    }\n",
              "</style>\n",
              "<table border=\"1\" class=\"dataframe\">\n",
              "  <thead>\n",
              "    <tr style=\"text-align: right;\">\n",
              "      <th></th>\n",
              "      <th>Unnamed: 0</th>\n",
              "      <th>text</th>\n",
              "      <th>label</th>\n",
              "      <th>id</th>\n",
              "    </tr>\n",
              "  </thead>\n",
              "  <tbody>\n",
              "    <tr>\n",
              "      <th>0</th>\n",
              "      <td>0</td>\n",
              "      <td>4 . Can eating garlic help prevent infection w...</td>\n",
              "      <td>0</td>\n",
              "      <td>1250219300389974016</td>\n",
              "    </tr>\n",
              "    <tr>\n",
              "      <th>1</th>\n",
              "      <td>1</td>\n",
              "      <td>French police chief killed himself after #Char...</td>\n",
              "      <td>1</td>\n",
              "      <td>554886875303780352</td>\n",
              "    </tr>\n",
              "    <tr>\n",
              "      <th>2</th>\n",
              "      <td>2</td>\n",
              "      <td>Coronavirus disease ( COVID - 19 ) advice for ...</td>\n",
              "      <td>0</td>\n",
              "      <td>1237901309011021825</td>\n",
              "    </tr>\n",
              "    <tr>\n",
              "      <th>3</th>\n",
              "      <td>3</td>\n",
              "      <td>Ottawa police confirm that there were multiple...</td>\n",
              "      <td>0</td>\n",
              "      <td>524958128392376320</td>\n",
              "    </tr>\n",
              "    <tr>\n",
              "      <th>4</th>\n",
              "      <td>4</td>\n",
              "      <td>if the primary focus of a government is n't to...</td>\n",
              "      <td>0</td>\n",
              "      <td>1239295488677085185</td>\n",
              "    </tr>\n",
              "    <tr>\n",
              "      <th>...</th>\n",
              "      <td>...</td>\n",
              "      <td>...</td>\n",
              "      <td>...</td>\n",
              "      <td>...</td>\n",
              "    </tr>\n",
              "    <tr>\n",
              "      <th>1802</th>\n",
              "      <td>1802</td>\n",
              "      <td>Desperate Ted Cruz Claims Planned Parenthood S...</td>\n",
              "      <td>1</td>\n",
              "      <td>671181758692507648</td>\n",
              "    </tr>\n",
              "    <tr>\n",
              "      <th>1803</th>\n",
              "      <td>1803</td>\n",
              "      <td>\" Thoughts and prayers are not enough . \" Pres...</td>\n",
              "      <td>1</td>\n",
              "      <td>672513234419638273</td>\n",
              "    </tr>\n",
              "    <tr>\n",
              "      <th>1804</th>\n",
              "      <td>1804</td>\n",
              "      <td>Police have surrounded this building where the...</td>\n",
              "      <td>0</td>\n",
              "      <td>553508098825261056</td>\n",
              "    </tr>\n",
              "    <tr>\n",
              "      <th>1805</th>\n",
              "      <td>1805</td>\n",
              "      <td>@USER @USER @USER @USER It 's an insult to God...</td>\n",
              "      <td>0</td>\n",
              "      <td>1249479605582327808</td>\n",
              "    </tr>\n",
              "    <tr>\n",
              "      <th>1806</th>\n",
              "      <td>1806</td>\n",
              "      <td>Excellent . HTTPURL @USER Tasha and I just lit...</td>\n",
              "      <td>0</td>\n",
              "      <td>1241082793737818113</td>\n",
              "    </tr>\n",
              "  </tbody>\n",
              "</table>\n",
              "<p>1807 rows × 4 columns</p>\n",
              "</div>\n",
              "      <button class=\"colab-df-convert\" onclick=\"convertToInteractive('df-a4a14820-2563-4166-8d81-84310b099497')\"\n",
              "              title=\"Convert this dataframe to an interactive table.\"\n",
              "              style=\"display:none;\">\n",
              "        \n",
              "  <svg xmlns=\"http://www.w3.org/2000/svg\" height=\"24px\"viewBox=\"0 0 24 24\"\n",
              "       width=\"24px\">\n",
              "    <path d=\"M0 0h24v24H0V0z\" fill=\"none\"/>\n",
              "    <path d=\"M18.56 5.44l.94 2.06.94-2.06 2.06-.94-2.06-.94-.94-2.06-.94 2.06-2.06.94zm-11 1L8.5 8.5l.94-2.06 2.06-.94-2.06-.94L8.5 2.5l-.94 2.06-2.06.94zm10 10l.94 2.06.94-2.06 2.06-.94-2.06-.94-.94-2.06-.94 2.06-2.06.94z\"/><path d=\"M17.41 7.96l-1.37-1.37c-.4-.4-.92-.59-1.43-.59-.52 0-1.04.2-1.43.59L10.3 9.45l-7.72 7.72c-.78.78-.78 2.05 0 2.83L4 21.41c.39.39.9.59 1.41.59.51 0 1.02-.2 1.41-.59l7.78-7.78 2.81-2.81c.8-.78.8-2.07 0-2.86zM5.41 20L4 18.59l7.72-7.72 1.47 1.35L5.41 20z\"/>\n",
              "  </svg>\n",
              "      </button>\n",
              "      \n",
              "  <style>\n",
              "    .colab-df-container {\n",
              "      display:flex;\n",
              "      flex-wrap:wrap;\n",
              "      gap: 12px;\n",
              "    }\n",
              "\n",
              "    .colab-df-convert {\n",
              "      background-color: #E8F0FE;\n",
              "      border: none;\n",
              "      border-radius: 50%;\n",
              "      cursor: pointer;\n",
              "      display: none;\n",
              "      fill: #1967D2;\n",
              "      height: 32px;\n",
              "      padding: 0 0 0 0;\n",
              "      width: 32px;\n",
              "    }\n",
              "\n",
              "    .colab-df-convert:hover {\n",
              "      background-color: #E2EBFA;\n",
              "      box-shadow: 0px 1px 2px rgba(60, 64, 67, 0.3), 0px 1px 3px 1px rgba(60, 64, 67, 0.15);\n",
              "      fill: #174EA6;\n",
              "    }\n",
              "\n",
              "    [theme=dark] .colab-df-convert {\n",
              "      background-color: #3B4455;\n",
              "      fill: #D2E3FC;\n",
              "    }\n",
              "\n",
              "    [theme=dark] .colab-df-convert:hover {\n",
              "      background-color: #434B5C;\n",
              "      box-shadow: 0px 1px 3px 1px rgba(0, 0, 0, 0.15);\n",
              "      filter: drop-shadow(0px 1px 2px rgba(0, 0, 0, 0.3));\n",
              "      fill: #FFFFFF;\n",
              "    }\n",
              "  </style>\n",
              "\n",
              "      <script>\n",
              "        const buttonEl =\n",
              "          document.querySelector('#df-a4a14820-2563-4166-8d81-84310b099497 button.colab-df-convert');\n",
              "        buttonEl.style.display =\n",
              "          google.colab.kernel.accessAllowed ? 'block' : 'none';\n",
              "\n",
              "        async function convertToInteractive(key) {\n",
              "          const element = document.querySelector('#df-a4a14820-2563-4166-8d81-84310b099497');\n",
              "          const dataTable =\n",
              "            await google.colab.kernel.invokeFunction('convertToInteractive',\n",
              "                                                     [key], {});\n",
              "          if (!dataTable) return;\n",
              "\n",
              "          const docLinkHtml = 'Like what you see? Visit the ' +\n",
              "            '<a target=\"_blank\" href=https://colab.research.google.com/notebooks/data_table.ipynb>data table notebook</a>'\n",
              "            + ' to learn more about interactive tables.';\n",
              "          element.innerHTML = '';\n",
              "          dataTable['output_type'] = 'display_data';\n",
              "          await google.colab.output.renderOutput(dataTable, element);\n",
              "          const docLink = document.createElement('div');\n",
              "          docLink.innerHTML = docLinkHtml;\n",
              "          element.appendChild(docLink);\n",
              "        }\n",
              "      </script>\n",
              "    </div>\n",
              "  </div>\n",
              "  "
            ]
          },
          "metadata": {},
          "execution_count": 3
        }
      ],
      "source": [
        "train_df"
      ]
    },
    {
      "cell_type": "code",
      "execution_count": 5,
      "metadata": {
        "id": "sEBirsml1Hgu"
      },
      "outputs": [],
      "source": [
        "train_df.text = train_df.text.map(lambda x:str(x))\n",
        "train_df.label = train_df.label.astype(\"category\")\n",
        "train_df.label = train_df.label.cat.codes\n",
        "\n",
        "dev_df.text = dev_df.text.map(lambda x:str(x))\n",
        "dev_df.label = dev_df.label.astype(\"category\")\n",
        "dev_df.label = dev_df.label.cat.codes\n",
        "\n",
        "test_df.text = test_df.text.map(lambda x:str(x))"
      ]
    },
    {
      "cell_type": "code",
      "execution_count": 6,
      "metadata": {
        "id": "wxc2J9Gr2bQ-"
      },
      "outputs": [],
      "source": [
        "x_train = train_df.text.values\n",
        "x_dev = dev_df.text.values\n",
        "x_test = test_df.text.values"
      ]
    },
    {
      "cell_type": "code",
      "execution_count": 7,
      "metadata": {
        "colab": {
          "base_uri": "https://localhost:8080/"
        },
        "id": "ot895zmTjJo_",
        "outputId": "ae5fc6a4-35b8-47ff-cb48-1145d7395f3d"
      },
      "outputs": [
        {
          "output_type": "execute_result",
          "data": {
            "text/plain": [
              "array(['4 . Can eating garlic help prevent infection with the new coronavirus ? #COVID19Malaysia HTTPURL 5 . Can regularly rinsing your nose with saline help prevent infection with the new coronavirus ? HTTPURL 6 . Do vaccines against pneumonia protect you against the new coronavirus ? HTTPURL 7 . Can spraying alcohol or chlorine all over your body kill the new coronavirus ? #Chamber HTTPURL 8 . How effective are thermal scanners in detecting people infected with the new coronavirus ? HTTPURL 9 . Can an ultraviolet disinfection lamp kill the new coronavirus ? HTTPURL 10 . Are hand dryers effective in killing the new coronavirus ? HTTPURL 11 . The new coronavirus CANNOT be transmitted through mosquito bites . HTTPURL 12 . Taking a hot bath does not prevent the new coronavirus disease HTTPURL 13 . Cold weather and snow CANNOT kill the new coronavirus . HTTPURL 14 . COVID - 19 virus can be transmitted in areas with hot and humid climates HTTPURL 15 . Drinking alcohol does not protect you against COVID - 19 and can be dangerous HTTPURL 16 . Being able to hold your breath for 10 seconds or more without coughing or feeling discomfort DOES NOT mean you are free from the coronavirus disease ( COVID - 19 ) or any other lung disease . HTTPURL 17 . You can recover from the coronavirus disease ( COVID - 19 ) . Catching the new coronavirus DOES NOT mean you will have it for life . HTTPURL 18 . Exposing yourself to the sun or to temperatures higher than 25C degrees DOES NOT prevent the coronavirus disease ( COVID - 19 ) HTTPURL 19 . 5G mobile networks DO NOT spread COVID - 19 HTTPURL',\n",
              "       'French police chief killed himself after #CharlieHebdo attack HTTPURL HTTPURL @USER How very sad . @USER @USER The trauma he must have faced . Very sad . “ @USER : French police chief killed himself after #CharlieHebdo attack HTTPURL HTTPURL ” #RIP . Terrible ! @USER @USER it stinkS ! ! ! These whole affaire ! ! ! @USER @USER such a sad loss :pensive_face: may he now RIP @USER @USER so horrible . FWIW , his 2nd in command comitted suicide in 2013 , & he found the body . So , there \\'s that . :P @USER @USER @USER @USER WHAT YA WANNA BET HE WAS KILLED ? ? ? @USER , only those cartoonistS are responsible , those were sent to hell , by humiliating norms of Islam and blasphemy of PBUH OF ISLAM . @USER @USER why are you reporting this three days after it happened ? @USER @USER They killed him how can he kill himself ? was shot in the forehead ! so taht he doesnt get who \\'s behind it @USER @USER took it kinda personal I guess , sad Ohh boy , Here v go Pakistanis already calling it false flag by Eivil Jews MT \" @USER :@ Telegraph : #CharlieHebdo HTTPURL \" “ @USER : French police chief killed himself after #CharlieHebdo attack HTTPURL HTTPURL ” :flushed_face: wtf ? @USER And tasked with investigating Charlie Hebdo shooting . But \\' obviously \\' just a strange coincidence . Not like he discovered anything @USER @USER Do n\\'t worry ... it \\'s all another weird coincidence . No conspiracy here . @USER horrible ! ! ! Needless . Did Dubya kill himself after 9/11 or just go brain-dead ... @USER Why ? @USER we will be very satisfied if #NawazSharif resigns . Here they hide the reports which blames them . @USER @USER . Nothing to see here . Move along . Devastating . RT “ @USER : French police chief killed himself after #CharlieHebdo attack HTTPURL HTTPURL ” @USER oh no ... @USER @USER @USER Yeh sure he did ...',\n",
              "       'Coronavirus disease ( COVID - 19 ) advice for the public : :eight-spoked_asterisk: Should I wear a mask to protect myself ? :eight-spoked_asterisk: How to put on , use , take off and dispose of a mask ? :eight-spoked_asterisk: When and how to use masks ? HTTPURL HTTPURL Infection control for suspected or confirmed COVID - 19 cases :eight-spoked_asterisk: WHO recommendations : HTTPURL :eight-spoked_asterisk: CDC recommendations HTTPURL :radio_button: personal protective equipment ( PPE ) HTTPURL :radio_button: N95 Respirators and Surgical Masks ( Face Masks ) HTTPURL :radio_button: Surgical Mask vs N95 Respirator HTTPURL HTTPURL',\n",
              "       ...,\n",
              "       \"Police have surrounded this building where the suspected #CharlieHebdo attackers are holed-up HTTPURL HTTPURL @USER bury them in their hole @USER @USER did n't the cops ask you NOT to give this kind of detail ? what is wrong with you ? @USER destroy them and accelerate their trip to hell @USER so much for Local and Int'l Media adhering to a NO Publish of the building . Brilliant idiots as usual NBC @USER these the same Islamic Terrorists you claimed were dead a couple days ago ? @USER @USER capture them do not kill they want to be killed @USER what cowards . Good will always conquer evil\",\n",
              "       \"@USER @USER @USER @USER It 's an insult to God almighty to not take Him at his word . Jesus said “ It Is Finished ” . There is no other testament of Christ . @USER @USER @USER @USER Jesus was talking about the Atonement when he said that on the cross . If he meant the Bible , not around then . Bible would 've been completed way before Revelations . Revelations was chronologically written many books before the end of the Bible , so all those books do n't count ? @USER @USER @USER I believe as do all members of The Church of Jesus Christ of latter day saints , that we are saved by Grace , just like you BookofMormon has one translation , by the Gift & power of God , a companion to the Bible to help clarify & teach of Christ , his love , Atonement & other sheep @USER @USER @USER It was available then , since Lehi Left Jerusalem 600 years BC . Fled to the wilderness & latter came over to the Americas , had old testament writings & taught their families . Wrote their own journals / histories . Was hidden in the ground by the direction of God & given to Joseph ... @USER @USER @USER Joseph Smith , who translated it by the Gift & power of God . Not to come forth until our Generation to be another testament of Jesus Christ We need it for our day The Catholics would have needed to know a book was written in the Americas to add it to the Bible they compiled @USER @USER @USER Even though the message from the Bible is n't perfect , it is still the word of God & testifies of our lord & Saviour , Jesus Christ & the only way to God is through our Saviour , by his Grace alone . We never said we can make it to Heaven by our works But Good Works are of God\",\n",
              "       \"Excellent . HTTPURL @USER Tasha and I just little giggle at this . Hope all is well ? @USER Haha yeah all good on this end :slightly_smiling_face: . Hope same for you and the team ! ! @USER All good . Just been working out the new home schooling timetable ! :face_with_tears_of_joy: @USER I can help ! 👩\\u200d🏫 9am : Socialism - what is it and why do we need it so bad ? 10am : Slacklining - what is it and why do we need it so bad ? 11am : Activism skills session ! 12pm : Lunch ( beans on toast ) 1pm : Why Minecraft really is boring no matter what anyone says 2pm : Human pyramids :upside-down_face: @USER Best timetable I 've heard about ! Apart from ' Minecraft is bad ' . I respect your opinion , but you 're wrong . - Natasha @USER Best timetable yet ! Apart from ' Minecraft is boring ' . I respect your opinion , but you 're wrong . - Natasha @USER And this exactly why you need to come to my class ! Haha ! :face_with_tongue: @USER I might have sent that twice by accident\"],\n",
              "      dtype=object)"
            ]
          },
          "metadata": {},
          "execution_count": 7
        }
      ],
      "source": [
        "x_train"
      ]
    },
    {
      "cell_type": "code",
      "execution_count": 8,
      "metadata": {
        "id": "8E_hdTPwjh7e"
      },
      "outputs": [],
      "source": [
        "y_train = train_df.label.values\n",
        "y_train = to_categorical(y_train,2)\n",
        "y_dev = dev_df.label.values\n",
        "y_dev = to_categorical(y_dev,2)"
      ]
    },
    {
      "cell_type": "code",
      "execution_count": 10,
      "metadata": {
        "id": "Kiv4fMpy2wVQ"
      },
      "outputs": [],
      "source": [
        "from keras.preprocessing.text import Tokenizer\n",
        "from keras.preprocessing.sequence import pad_sequences\n",
        "\n",
        "train_tokenizer = Tokenizer(num_words=5000)\n",
        "train_tokenizer.fit_on_texts(train_df.text.values)\n",
        "\n",
        "dev_tokenizer = Tokenizer(num_words=5000)\n",
        "dev_tokenizer.fit_on_texts(dev_df.text.values)\n",
        "\n",
        "test_tokenizer = Tokenizer(num_words=5000)\n",
        "test_tokenizer.fit_on_texts(test_df.text.values)\n",
        "\n",
        "X_train = train_tokenizer.texts_to_sequences(x_train)\n",
        "X_dev = dev_tokenizer.texts_to_sequences(x_dev)\n",
        "X_test = test_tokenizer.texts_to_sequences(x_test)\n",
        "\n",
        "vocab_size = len(train_tokenizer.word_index) + len(dev_tokenizer.word_index) + len(test_tokenizer.word_index) + 1\n",
        "\n",
        "X_train = pad_sequences(X_train, padding='pre', maxlen=500)\n",
        "X_dev = pad_sequences(X_dev, padding='pre', maxlen=500)\n",
        "X_test = pad_sequences(X_test, padding='pre', maxlen=500)"
      ]
    },
    {
      "cell_type": "code",
      "execution_count": 14,
      "metadata": {
        "id": "dk16QKlGk3y7"
      },
      "outputs": [],
      "source": [
        "activation = [\"relu\", \"sigmoid\", \"tanh\"]\n",
        "optimizer = [\"adam\", \"SGD\", \"Adadelta\", \"RMSprop\"]"
      ]
    },
    {
      "cell_type": "code",
      "execution_count": 15,
      "metadata": {
        "id": "nH3le1L0ApgP"
      },
      "outputs": [],
      "source": [
        "#using keras embedding\n",
        "\n",
        "def rnn_model(activation,optimizer,epochs,batchsize):\n",
        "\n",
        "  model = Sequential()\n",
        "  model.add(layers.Embedding(input_dim=vocab_size, output_dim=100, input_length=500))\n",
        "  model.add(layers.SimpleRNN(64))\n",
        "  model.add(Dense(2,activation=activation))\n",
        "  model.compile(optimizer=optimizer, loss='binary_crossentropy', metrics=['accuracy'])\n",
        "  history = model.fit(X_train, y_train,\n",
        "                    epochs=epochs,\n",
        "                    verbose=0,\n",
        "                    validation_data=(X_dev, y_dev),\n",
        "                    batch_size=batchsize)\n",
        "  \n",
        "  return history, model"
      ]
    },
    {
      "cell_type": "code",
      "execution_count": 21,
      "metadata": {
        "colab": {
          "base_uri": "https://localhost:8080/"
        },
        "id": "9F36uecY_L9k",
        "outputId": "0abff048-c482-4c97-e68c-b29e92607f3e"
      },
      "outputs": [
        {
          "output_type": "stream",
          "name": "stdout",
          "text": [
            "19/19 [==============================] - 1s 31ms/step - loss: 1.7293 - accuracy: 0.6672\n",
            "19/19 [==============================] - 1s 31ms/step - loss: 0.6751 - accuracy: 0.7109\n",
            "19/19 [==============================] - 1s 32ms/step - loss: 1.3419 - accuracy: 0.6908\n",
            "best activation function is  sigmoid\n"
          ]
        }
      ],
      "source": [
        "#For best activation function\n",
        "sel_activation = {}\n",
        "for i in activation:\n",
        "  history, model = rnn_model(i,\"adam\",15,128)\n",
        "  temp = {i:model.evaluate(X_dev,y_dev)[1]}\n",
        "  sel_activation.update(temp)\n",
        "  keras.backend.clear_session()\n",
        "\n",
        "best_activation = max(sel_activation, key=sel_activation.get)\n",
        "print(\"best activation function is \",best_activation)"
      ]
    },
    {
      "cell_type": "code",
      "execution_count": 23,
      "metadata": {
        "colab": {
          "base_uri": "https://localhost:8080/"
        },
        "id": "gW9fibxComOA",
        "outputId": "5d822baa-3491-4866-ccf7-ca41472534a3"
      },
      "outputs": [
        {
          "output_type": "stream",
          "name": "stdout",
          "text": [
            "19/19 [==============================] - 1s 31ms/step - loss: 0.7827 - accuracy: 0.7076\n",
            "19/19 [==============================] - 1s 32ms/step - loss: 0.5413 - accuracy: 0.7697\n",
            "19/19 [==============================] - 1s 31ms/step - loss: 0.9117 - accuracy: 0.7597\n",
            "19/19 [==============================] - 1s 33ms/step - loss: 0.6929 - accuracy: 0.5378\n",
            "best optimizer is  SGD\n"
          ]
        }
      ],
      "source": [
        "#For best optimizzer\n",
        "sel_optimizer = {}\n",
        "for i in optimizer:\n",
        "  history, model = rnn_model(best_activation,i,15,128)\n",
        "  temp = {i:model.evaluate(X_dev,y_dev)[1]}\n",
        "  sel_optimizer.update(temp)\n",
        "  keras.backend.clear_session()\n",
        "\n",
        "best_optimizer = max(sel_optimizer, key=sel_optimizer.get)\n",
        "print(\"best optimizer is \",best_optimizer)"
      ]
    },
    {
      "cell_type": "code",
      "source": [
        "y_dev2 = dev_df.label.values"
      ],
      "metadata": {
        "id": "Za_QccMIg8F4"
      },
      "execution_count": 17,
      "outputs": []
    },
    {
      "cell_type": "code",
      "source": [
        "history, model = rnn_model(best_activation,best_optimizer,15,128)\n",
        "pred = np.argmax(model.predict(X_dev), axis=-1)\n",
        "print(\"dev accuracy score = \",accuracy_score(y_pred=pred, y_true=y_dev2))"
      ],
      "metadata": {
        "colab": {
          "base_uri": "https://localhost:8080/"
        },
        "id": "kPuN2tMaSqcb",
        "outputId": "4fee8698-b835-4714-94a6-6f2c135d2dc3"
      },
      "execution_count": 26,
      "outputs": [
        {
          "output_type": "stream",
          "name": "stdout",
          "text": [
            "dev accuracy score =  0.7697478991596639\n"
          ]
        }
      ]
    },
    {
      "cell_type": "code",
      "source": [
        "import sklearn.metrics as metrics\n",
        "print(metrics.accuracy_score(y_dev2, pred))\n",
        "print(metrics.precision_score(y_dev2, pred))\n",
        "print(metrics.recall_score(y_dev2, pred))\n",
        "print(metrics.f1_score(y_dev2, pred, average='macro'))\n",
        "print(metrics.roc_auc_score(y_dev2, pred))"
      ],
      "metadata": {
        "id": "jvovi8yNB_m9"
      },
      "execution_count": null,
      "outputs": []
    },
    {
      "cell_type": "code",
      "source": [
        "#For Kaggle\n",
        "history, model = rnn_model(best_activation,best_optimizer,15,128)\n",
        "pred_test = np.argmax(model.predict(X_test), axis=-1)"
      ],
      "metadata": {
        "id": "4GZN3GvXgmJt"
      },
      "execution_count": null,
      "outputs": []
    },
    {
      "cell_type": "code",
      "source": [
        "print(\"test accuracy score = \",accuracy_score(y_pred=pred, y_true=y_dev2))"
      ],
      "metadata": {
        "colab": {
          "base_uri": "https://localhost:8080/"
        },
        "id": "zGaXk4u9gpCl",
        "outputId": "d68e3e0f-7a40-4666-d544-5488453a2fa0"
      },
      "execution_count": null,
      "outputs": [
        {
          "output_type": "stream",
          "name": "stdout",
          "text": [
            "test accuracy score =  0.7697478991596639\n"
          ]
        }
      ]
    },
    {
      "cell_type": "code",
      "source": [
        "result = np.round(pred_test).astype(int)"
      ],
      "metadata": {
        "id": "Q9bmYooZT5YZ"
      },
      "execution_count": null,
      "outputs": []
    },
    {
      "cell_type": "code",
      "source": [
        "with open('test.predictions_rnn.txt', 'w') as output:\n",
        "  output.write('Id,Predicted\\n')\n",
        "  counter = 0\n",
        "  for elem in list(pred_test):\n",
        "    output.write(str(counter) + ',' + str(elem)+'\\n')\n",
        "    counter+=1"
      ],
      "metadata": {
        "id": "kK_0wXskT7wR"
      },
      "execution_count": null,
      "outputs": []
    },
    {
      "cell_type": "code",
      "source": [
        "\n",
        "with open('test.predictions.txt', 'w') as output:\n",
        "  output.write('Id,Predicted\\n')\n",
        "  counter = 0\n",
        "  for elem in list(result):\n",
        "    for elem2 in list(elem):\n",
        "      output.write(str(counter) + ',' + str(elem2)+'\\n')\n",
        "      counter+=1"
      ],
      "metadata": {
        "id": "FA4W1eWLTqaK"
      },
      "execution_count": null,
      "outputs": []
    },
    {
      "cell_type": "code",
      "execution_count": null,
      "metadata": {
        "id": "txNvwUtjo_V3"
      },
      "outputs": [],
      "source": [
        ""
      ]
    }
  ],
  "metadata": {
    "accelerator": "GPU",
    "colab": {
      "collapsed_sections": [],
      "machine_shape": "hm",
      "name": "“4. RNN.ipynb”的副本",
      "provenance": []
    },
    "kernelspec": {
      "display_name": "Python 3",
      "name": "python3"
    }
  },
  "nbformat": 4,
  "nbformat_minor": 0
}