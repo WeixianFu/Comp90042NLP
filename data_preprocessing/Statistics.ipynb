{
 "cells": [
  {
   "cell_type": "code",
   "execution_count": 2,
   "id": "bcdac477",
   "metadata": {
    "ExecuteTime": {
     "end_time": "2022-05-02T11:47:07.924318Z",
     "start_time": "2022-05-02T11:47:07.915345Z"
    }
   },
   "outputs": [],
   "source": [
    "import json\n",
    "from collections import defaultdict"
   ]
  },
  {
   "cell_type": "code",
   "execution_count": 4,
   "id": "7b5654aa",
   "metadata": {
    "ExecuteTime": {
     "end_time": "2022-05-02T11:52:50.276605Z",
     "start_time": "2022-05-02T11:52:49.445015Z"
    }
   },
   "outputs": [],
   "source": [
    "openData = open('test.json')\n",
    "alldata = json.load(openData)\n",
    "openData.close()\n",
    "lang_counter = defaultdict(int)\n",
    "for k,v in alldata.items():\n",
    "    lang_counter[v['lang']] += 1"
   ]
  },
  {
   "cell_type": "code",
   "execution_count": 5,
   "id": "0c51b7ac",
   "metadata": {
    "ExecuteTime": {
     "end_time": "2022-05-02T11:52:57.044123Z",
     "start_time": "2022-05-02T11:52:57.027149Z"
    }
   },
   "outputs": [
    {
     "name": "stdout",
     "output_type": "stream",
     "text": [
      "defaultdict(<class 'int'>, {'da': 5, 'en': 7395, 'und': 456, 'fr': 27, 'it': 11, 'no': 4, 'es': 62, 'in': 19, 'zh': 19, 'pt': 14, 'tl': 35, 'cy': 3, 'de': 21, 'nl': 13, 'lv': 1, 'ru': 14, 'th': 3, 'tr': 5, 'mr': 1, 'sv': 6, 'pl': 4, 'ro': 3, 'hi': 2, 'ne': 4, 'el': 1, 'ca': 4, 'te': 1, 'ja': 7, 'ht': 4, 'fa': 1, 'et': 6, 'uk': 2, 'eu': 1, 'ar': 3, 'vi': 1, 'sr': 1})\n"
     ]
    }
   ],
   "source": [
    "print(lang_counter)"
   ]
  },
  {
   "cell_type": "code",
   "execution_count": null,
   "id": "80244bef",
   "metadata": {},
   "outputs": [],
   "source": [
    "def load_data(name):\n",
    "    label_name = name + 'label.txt'"
   ]
  }
 ],
 "metadata": {
  "kernelspec": {
   "display_name": "Python 3 (ipykernel)",
   "language": "python",
   "name": "python3"
  },
  "language_info": {
   "codemirror_mode": {
    "name": "ipython",
    "version": 3
   },
   "file_extension": ".py",
   "mimetype": "text/x-python",
   "name": "python",
   "nbconvert_exporter": "python",
   "pygments_lexer": "ipython3",
   "version": "3.9.12"
  },
  "latex_envs": {
   "LaTeX_envs_menu_present": true,
   "autoclose": false,
   "autocomplete": true,
   "bibliofile": "biblio.bib",
   "cite_by": "apalike",
   "current_citInitial": 1,
   "eqLabelWithNumbers": true,
   "eqNumInitial": 1,
   "hotkeys": {
    "equation": "Ctrl-E",
    "itemize": "Ctrl-I"
   },
   "labels_anchors": false,
   "latex_user_defs": false,
   "report_style_numbering": false,
   "user_envs_cfg": false
  },
  "toc": {
   "base_numbering": 1,
   "nav_menu": {},
   "number_sections": true,
   "sideBar": true,
   "skip_h1_title": false,
   "title_cell": "Table of Contents",
   "title_sidebar": "Contents",
   "toc_cell": false,
   "toc_position": {},
   "toc_section_display": true,
   "toc_window_display": false
  },
  "varInspector": {
   "cols": {
    "lenName": 16,
    "lenType": 16,
    "lenVar": 40
   },
   "kernels_config": {
    "python": {
     "delete_cmd_postfix": "",
     "delete_cmd_prefix": "del ",
     "library": "var_list.py",
     "varRefreshCmd": "print(var_dic_list())"
    },
    "r": {
     "delete_cmd_postfix": ") ",
     "delete_cmd_prefix": "rm(",
     "library": "var_list.r",
     "varRefreshCmd": "cat(var_dic_list()) "
    }
   },
   "types_to_exclude": [
    "module",
    "function",
    "builtin_function_or_method",
    "instance",
    "_Feature"
   ],
   "window_display": false
  }
 },
 "nbformat": 4,
 "nbformat_minor": 5
}
